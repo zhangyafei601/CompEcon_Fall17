{
 "cells": [
  {
   "cell_type": "code",
   "execution_count": 1,
   "metadata": {
    "collapsed": true
   },
   "outputs": [],
   "source": [
    "# import packages we'll use here\n",
    "import pandas as pd\n",
    "import numpy as np\n",
    "import scipy.optimize as opt\n",
    "import time\n",
    "from scipy.optimize import differential_evolution\n",
    "from geopy.distance import vincenty as vc"
   ]
  },
  {
   "cell_type": "code",
   "execution_count": 2,
   "metadata": {
    "collapsed": true
   },
   "outputs": [],
   "source": [
    "# Read in the data\n",
    "ps4_data = pd.read_excel('radio_merger_data.xlsx')"
   ]
  },
  {
   "cell_type": "code",
   "execution_count": null,
   "metadata": {},
   "outputs": [],
   "source": [
    "ps4_data.describe()"
   ]
  },
  {
   "cell_type": "code",
   "execution_count": 3,
   "metadata": {
    "collapsed": true
   },
   "outputs": [],
   "source": [
    "# Scale variables\n",
    "ps4_data['pop_ths_log'] = np.log(ps4_data['population_target'] / 1000)\n",
    "ps4_data['price_ths_log'] = np.log(ps4_data['price'] / 1000)"
   ]
  },
  {
   "cell_type": "code",
   "execution_count": 4,
   "metadata": {
    "collapsed": true
   },
   "outputs": [],
   "source": [
    "def distance_calc1 (row):\n",
    "    start = (row['buyer_lat'], row['buyer_long'])\n",
    "    stop = (row['target_lat'], row['target_long'])\n",
    "    return np.log(vc(start, stop).miles)"
   ]
  },
  {
   "cell_type": "code",
   "execution_count": 5,
   "metadata": {
    "collapsed": true
   },
   "outputs": [],
   "source": [
    "# Calculate the variables for observed matches\n",
    "ps4_data['var1'] = ps4_data['num_stations_buyer'] * ps4_data['pop_ths_log']\n",
    "ps4_data['var2'] = ps4_data['corp_owner_buyer'] * ps4_data['pop_ths_log']\n",
    "ps4_data['var3'] = ps4_data.apply (lambda row: distance_calc1 (row),axis = 1)"
   ]
  },
  {
   "cell_type": "code",
   "execution_count": 6,
   "metadata": {
    "collapsed": true
   },
   "outputs": [],
   "source": [
    "# Create dataframes for different years\n",
    "ps4_data_2007 = ps4_data[(ps4_data['year'] == 2007)].copy()\n",
    "ps4_data_2007['index'] = ps4_data_2007['buyer_id'] - 1 # This creates my own index to fix the indexing/location problem\n",
    "ps4_data_2007 = ps4_data_2007.set_index('index')\n",
    "ps4_data_2008 = ps4_data[(ps4_data['year'] == 2008)].copy()\n",
    "ps4_data_2008['index'] = ps4_data_2008['buyer_id'] - 1\n",
    "ps4_data_2008 = ps4_data_2008.set_index('index')"
   ]
  },
  {
   "cell_type": "code",
   "execution_count": 7,
   "metadata": {
    "collapsed": true
   },
   "outputs": [],
   "source": [
    "# Define a function to calculate the distance\n",
    "def distance_calc (data,row1,row2):\n",
    "    start = (data.iloc[row1, 3], data.iloc[row1, 4])\n",
    "    stop = (data.iloc[row2, 5], data.iloc[row2, 6])\n",
    "    return np.log(vc(start, stop).miles)"
   ]
  },
  {
   "cell_type": "code",
   "execution_count": null,
   "metadata": {},
   "outputs": [],
   "source": [
    "distance_calc (ps4_data_2008,0,0)"
   ]
  },
  {
   "cell_type": "code",
   "execution_count": 8,
   "metadata": {
    "collapsed": true
   },
   "outputs": [],
   "source": [
    "def payoff(data):\n",
    "    # Define some arrays to store the output numbers\n",
    "    np_temp1 = np.zeros(6, dtype=np.int).reshape(1,6)\n",
    "    np_temp2 = np.zeros(3, dtype=np.int).reshape(1,3)\n",
    "    np_temp3 = np.zeros(3, dtype=np.int).reshape(1,3)\n",
    "    for b in data['buyer_id']:\n",
    "        for t in data['target_id']:\n",
    "            if b < t:\n",
    "                ob1 = data['var1'][b - 1]\n",
    "                ob2 = data['var2'][b - 1]\n",
    "                ob3 = data['var3'][b - 1]\n",
    "                ob4 = data['var1'][t - 1]            \n",
    "                ob5 = data['var2'][t - 1]\n",
    "                ob6 = data['var3'][t - 1]\n",
    "                np_temp1 = np.vstack([np_temp1, [ob1, ob2, ob3, ob4, ob5, ob6]])\n",
    "                # This returns the six variables on the left hand side of the inequalities (observed matches)\n",
    "                \n",
    "                cf1 = data['num_stations_buyer'][b - 1] * data['pop_ths_log'][t - 1]\n",
    "                cf2 = data['corp_owner_buyer'][b - 1] * data['pop_ths_log'][t - 1]\n",
    "                cf3 = distance_calc(data, b-1, t-1)\n",
    "                np_temp2 = np.vstack([np_temp2, [cf1, cf2, cf3]])\n",
    "                # This returns the three variables of the first part of the right hand side (counterfatual matches)\n",
    "               \n",
    "            if b > t:\n",
    "                cf4 = data['num_stations_buyer'][b - 1] * data['pop_ths_log'][t - 1]\n",
    "                cf5 = data['corp_owner_buyer'][b - 1] * data['pop_ths_log'][t - 1]\n",
    "                cf6 = distance_calc(data, b-1, t-1)\n",
    "                np_temp3 = np.vstack([np_temp3, [cf4, cf5, cf6]])\n",
    "                # This returns the other three variables of the second part of the right hand side (counterfactual matches)\n",
    "\n",
    "    # Drop the first row of the array\n",
    "    np_temp1 = np.delete(np_temp1, 0, 0)\n",
    "    np_temp2 = np.delete(np_temp2, 0, 0)\n",
    "    np_temp3 = np.delete(np_temp3, 0, 0)\n",
    "    # Combine all the variables (stored in arrays) to one dataframe\n",
    "    ps4_mse = pd.DataFrame({'ob1':np_temp1[:,0], 'ob2':np_temp1[:,1], 'ob3':np_temp1[:,2],\n",
    "                            'ob4':np_temp1[:,3], 'ob5':np_temp1[:,4], 'ob6':np_temp1[:,5],\n",
    "                            'cf1':np_temp2[:,0], 'cf2':np_temp2[:,1], 'cf3':np_temp2[:,2],\n",
    "                            'cf4':np_temp3[:,0], 'cf5':np_temp3[:,1], 'cf6':np_temp3[:,2]})\n",
    "\n",
    "    return ps4_mse"
   ]
  },
  {
   "cell_type": "code",
   "execution_count": 9,
   "metadata": {
    "collapsed": true
   },
   "outputs": [],
   "source": [
    "# Append the two dataframes together\n",
    "ps4_mse_2007 = payoff(ps4_data_2007)\n",
    "ps4_mse_2008 = payoff(ps4_data_2008)\n",
    "together = [ps4_mse_2007, ps4_mse_2008]\n",
    "ps4_mse_both = pd.concat(together, ignore_index=True)"
   ]
  },
  {
   "cell_type": "code",
   "execution_count": null,
   "metadata": {},
   "outputs": [],
   "source": [
    "ps4_mse_both"
   ]
  },
  {
   "cell_type": "code",
   "execution_count": 10,
   "metadata": {
    "collapsed": true
   },
   "outputs": [],
   "source": [
    "# Write indicator function\n",
    "def mse(coefs):\n",
    "    std_coef, alpha, beta = coefs\n",
    "    #total = 0\n",
    "    for i in ps4_mse_both.index:\n",
    "        indicator = (std_coef * ps4_mse_both['ob1'] + alpha * ps4_mse_both['ob2'] + beta * ps4_mse_both['ob3'] + \n",
    "                  std_coef * ps4_mse_both['ob4'] + alpha * ps4_mse_both['ob5'] + beta * ps4_mse_both['ob6'] >=\n",
    "                  std_coef * ps4_mse_both['cf1'] + alpha * ps4_mse_both['cf2'] + beta * ps4_mse_both['cf3'] +\n",
    "                  std_coef * ps4_mse_both['cf4'] + alpha * ps4_mse_both['cf5'] + beta * ps4_mse_both['cf6'])\n",
    "        total = -1 * sum(indicator)\n",
    "        return total"
   ]
  },
  {
   "cell_type": "code",
   "execution_count": null,
   "metadata": {},
   "outputs": [],
   "source": [
    "# Call the minimizer\n",
    "bnds = [(-5, 5), (-5, 5),(-5, 5)]\n",
    "mse_results = differential_evolution(mse, bnds, maxiter = 100, tol = 0.001)\n",
    "# Because this method does not set the initial guess, so it randomly guesses the initials everytime. This is why\n",
    "# you get different coefficients everytime. This also means it is sensitive to the initial guess."
   ]
  },
  {
   "cell_type": "code",
   "execution_count": 14,
   "metadata": {},
   "outputs": [],
   "source": [
    "params_initial = [1,10,10]\n",
    "mse_results = opt.minimize(mse, params_initial, method='Nelder-Mead', tol = 1e-12, options={'maxiter': 5000})"
   ]
  },
  {
   "cell_type": "code",
   "execution_count": 15,
   "metadata": {},
   "outputs": [
    {
     "data": {
      "text/plain": [
       " final_simplex: (array([[  21.9037037 ,  133.46296296, -393.48148148],\n",
       "       [  21.9037037 ,  133.46296296, -393.48148148],\n",
       "       [  21.9037037 ,  133.46296296, -393.48148148],\n",
       "       [  21.9037037 ,  133.46296296, -393.48148148]]), array([-2156., -2156., -2156., -2156.]))\n",
       "           fun: -2156.0\n",
       "       message: 'Optimization terminated successfully.'\n",
       "          nfev: 280\n",
       "           nit: 69\n",
       "        status: 0\n",
       "       success: True\n",
       "             x: array([  21.9037037 ,  133.46296296, -393.48148148])"
      ]
     },
     "execution_count": 15,
     "metadata": {},
     "output_type": "execute_result"
    }
   ],
   "source": [
    "mse_results"
   ]
  },
  {
   "cell_type": "code",
   "execution_count": null,
   "metadata": {
    "collapsed": true
   },
   "outputs": [],
   "source": []
  }
 ],
 "metadata": {
  "kernelspec": {
   "display_name": "Python 3",
   "language": "python",
   "name": "python3"
  },
  "language_info": {
   "codemirror_mode": {
    "name": "ipython",
    "version": 3
   },
   "file_extension": ".py",
   "mimetype": "text/x-python",
   "name": "python",
   "nbconvert_exporter": "python",
   "pygments_lexer": "ipython3",
   "version": "3.6.1"
  }
 },
 "nbformat": 4,
 "nbformat_minor": 2
}
