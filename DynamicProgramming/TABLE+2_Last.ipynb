{
 "cells": [
  {
   "cell_type": "code",
   "execution_count": 1,
   "metadata": {
    "collapsed": true
   },
   "outputs": [],
   "source": [
    "# import packages\n",
    "import matplotlib.pyplot as plt\n",
    "import seaborn as sns\n",
    "import numpy as np\n",
    "from scipy.stats import norm\n",
    "import scipy.integrate as integrate\n",
    "import scipy.optimize as opt\n",
    "import matplotlib.pyplot as plt\n",
    "import time\n",
    "from matplotlib import cm\n",
    "import numba\n",
    "\n",
    "import numpy as np\n",
    "import scipy.stats as st\n",
    "from scipy.stats import norm\n",
    "import scipy.integrate as integrate\n",
    "import scipy.optimize as opt\n",
    "from scipy.optimize import minimize\n",
    "from scipy.optimize import differential_evolution\n",
    "#from scipy.optimize import anneal\n",
    "from numpy import inf\n",
    "import ar1_approx as ar1"
   ]
  },
  {
   "cell_type": "code",
   "execution_count": 2,
   "metadata": {
    "collapsed": true
   },
   "outputs": [],
   "source": [
    "rho = 0.7605\n",
    "mu = 0.0\n",
    "sigma_eps = 0.213\n",
    "alpha_k = 0.297\n",
    "alpha_l = 0.650\n",
    "delta = 0.154\n",
    "psi = 1.08\n",
    "r = 0.04\n",
    "h = 6.616\n",
    "betafirm = (1 / (1 + r))\n",
    "num = 9\n",
    "w = 0.7\n",
    "sizez = 9\n",
    "num_draws = 100 #EQUAL TO T \n",
    "sigma_z = sigma_eps / ((1 - rho ** 2) ** (1 / 2))\n",
    "theta = np.array((alpha_k, rho, psi, sigma_z))\n",
    "\n",
    "##For the firm problem\n",
    "# Grid for k\n",
    "dens = 5\n",
    "kbar = 12 #kstar * 500\n",
    "lb_k = 0.001\n",
    "ub_k = kbar\n",
    "krat = np.log(lb_k / ub_k)\n",
    "numb = np.ceil(krat / np.log(1 - delta))\n",
    "K = np.empty(int(numb * dens))\n",
    "for j in range(int(numb * dens)):\n",
    "    K[j] = ub_k * (1 - delta) ** (j / dens)\n",
    "kvec = K[::-1]\n",
    "sizek = kvec.shape[0]"
   ]
  },
  {
   "cell_type": "code",
   "execution_count": 3,
   "metadata": {
    "collapsed": true
   },
   "outputs": [],
   "source": [
    "#Enjoy z_fun!!!\n",
    "def z_fun(theta):\n",
    "    # Grid for z and transition matrix\n",
    "    # We will use the Rouwenhorst (1995) method to approximate a continuous\n",
    "    # distribution of shocks to the AR1 process with a Markov process.\n",
    "    \n",
    "    alpha_k, rho, psi, sigma_z = theta\n",
    "    \n",
    "    num_sigma = 3\n",
    "    step = (num_sigma * sigma_z) / (sizez / 2)\n",
    "    Pi, z = ar1.rouwen(rho, mu, step, sizez)\n",
    "    Pi = np.transpose(Pi)  # make so rows are where start, columns where go\n",
    "    z = np.exp(z)  # because the AR(1) process was for the log of productivity\n",
    "    return z, Pi"
   ]
  },
  {
   "cell_type": "code",
   "execution_count": 4,
   "metadata": {
    "collapsed": true
   },
   "outputs": [],
   "source": [
    "z, Pi = z_fun(theta)"
   ]
  },
  {
   "cell_type": "code",
   "execution_count": 5,
   "metadata": {
    "collapsed": true
   },
   "outputs": [],
   "source": [
    "@numba.jit\n",
    "def VFI_loop(V, e, betafirm, sizez, sizek, Vmat, pi):\n",
    "    V_prime = np.dot(pi, V)\n",
    "    for i in range(sizez):  # loop over z\n",
    "        for j in range(sizek):  # loop over k\n",
    "            for k in range(sizek): # loop over k'\n",
    "                Vmat[i, j, k] = e[i, j, k] + betafirm * V_prime[i, k]\n",
    "    return Vmat"
   ]
  },
  {
   "cell_type": "code",
   "execution_count": 6,
   "metadata": {
    "collapsed": true
   },
   "outputs": [],
   "source": [
    "def solve_firm(theta):\n",
    "    \n",
    "    alpha_k, rho, psi, sigma_z = theta\n",
    "    \n",
    "    sizez = z.shape[0]\n",
    "    op = np.zeros((sizez, sizek))\n",
    "    for i in range(sizez):\n",
    "        for j in range(sizek):\n",
    "            op[i,j] = z[i] * (kvec[j]**alpha_k)\n",
    "\n",
    "    e = np.zeros((sizez, sizek, sizek))\n",
    "    for i in range(sizez):\n",
    "        for j in range(sizek):\n",
    "            for k in range(sizek):\n",
    "                e[i, j, k] = (op[i,j] - kvec[k] + ((1 - delta) * kvec[j]) -\n",
    "                            ((psi / 2) * ((kvec[k] - ((1 - delta) * kvec[j])) ** 2)\n",
    "                            / kvec[j]))\n",
    "\n",
    "            \n",
    "    # Value funtion iteration\n",
    "    VFtol = 1e-6\n",
    "    VFdist = 7.0\n",
    "    VFmaxiter = 3000\n",
    "    V = np.zeros((sizez, sizek))  # initial guess at value function\n",
    "    Vmat = np.zeros((sizez, sizek, sizek))  # initialize Vmat matrix\n",
    "    Vstore = np.zeros((sizez, sizek, VFmaxiter))  # initialize Vstore array\n",
    "    VFiter = 1\n",
    "\n",
    "    start_time = time.clock()\n",
    "    while VFdist > VFtol and VFiter < VFmaxiter:\n",
    "        TV = V    \n",
    "        Vmat = VFI_loop(V, e, betafirm, sizez, sizek, Vmat, Pi)\n",
    "        Vstore[:, :, VFiter] = V.reshape(sizez, sizek,)  # store value function at each\n",
    "        # iteration for graphing later\n",
    "        V = Vmat.max(axis=2)  # apply max operator to Vmat (to get V(k))\n",
    "        PF = np.argmax(Vmat, axis=2)  # find the index of the optimal k'\n",
    "        Vstore[:,:, i] = V  # store V at each iteration of VFI\n",
    "        VFdist = (np.absolute(V - TV)).max()  # check distance between value\n",
    "        # function for this iteration and value function from past iteration\n",
    "        VFiter += 1\n",
    "\n",
    "    VFI_time = time.clock() - start_time\n",
    "    if VFiter < VFmaxiter:\n",
    "        print('Value function converged after this many iterations:', VFiter)\n",
    "    else:\n",
    "        print('Value function did not converge')\n",
    "        print('VFI took ', VFI_time, ' seconds to solve')\n",
    "\n",
    "    VF = V  # solution to the functional equation      \n",
    "       \n",
    "\n",
    "    #decision rules\n",
    "\n",
    "    ### Collect optimal values(functions)\n",
    "    # Optimal capital stock k'\n",
    "    optK = kvec[PF]\n",
    "\n",
    "     # optimal investment I\n",
    "    optI = optK - (1 - delta) * kvec\n",
    "    \n",
    "    return VF, PF, optK, optI"
   ]
  },
  {
   "cell_type": "code",
   "execution_count": 7,
   "metadata": {},
   "outputs": [
    {
     "name": "stdout",
     "output_type": "stream",
     "text": [
      "Value function converged after this many iterations: 352\n"
     ]
    }
   ],
   "source": [
    "VF, PF, optK, optI= solve_firm(theta)"
   ]
  },
  {
   "cell_type": "code",
   "execution_count": 8,
   "metadata": {
    "collapsed": true
   },
   "outputs": [],
   "source": [
    "# Simulate the Markov process - will make this a function so can call later\n",
    "def sim_markov(z, Pi, num_draws):\n",
    "    # draw some random numbers on [0, 1]\n",
    "    u = np.random.uniform(size=num_draws)\n",
    "\n",
    "    # Do simulations\n",
    "    z_discrete = np.empty(num_draws)  # this will be a vector of values \n",
    "    # we land on in the discretized grid for z\n",
    "    N = z.shape[0]\n",
    "    #oldind = int(np.ceil((N - 1) / 2)) # set initial value to median of grid\n",
    "    oldind = 0\n",
    "    z_discrete[0] = oldind  \n",
    "    for i in range(1, num_draws):\n",
    "        sum_p = 0\n",
    "        ind = 0\n",
    "        while sum_p < u[i]:\n",
    "            sum_p = sum_p + Pi[ind, oldind]\n",
    "#             print('inds =  ', ind, oldind)\n",
    "            ind += 1\n",
    "        if ind > 0:\n",
    "            ind -= 1\n",
    "        z_discrete[i] = ind\n",
    "        oldind = ind\n",
    "        z_discrete = z_discrete.astype(dtype = np.int)  \n",
    "        \n",
    "    return z_discrete"
   ]
  },
  {
   "cell_type": "code",
   "execution_count": 9,
   "metadata": {
    "collapsed": true
   },
   "outputs": [],
   "source": [
    "\n",
    "# Call simulation function to get simulated values\n",
    "z_discrete = sim_markov(z, np.transpose(Pi), num_draws)"
   ]
  },
  {
   "cell_type": "code",
   "execution_count": 10,
   "metadata": {
    "collapsed": true
   },
   "outputs": [],
   "source": [
    "n = 1000 #number of firms\n",
    "T = 100 \n",
    "z_new = np.zeros((n,T), dtype = np.int)\n",
    "for i in range(n):\n",
    "    z_new[i] = sim_markov(z, np.transpose(Pi), num_draws)  #correct z"
   ]
  },
  {
   "cell_type": "code",
   "execution_count": 11,
   "metadata": {
    "collapsed": true
   },
   "outputs": [],
   "source": [
    "def loop_k():\n",
    "    next_k = np.zeros((n,T), dtype = np.int)\n",
    "    for i in range(n):\n",
    "        for j in range(T-1):\n",
    "            next_k[i, j+1] = PF[z_new[i,j]][next_k[i,j]]\n",
    "    return next_k"
   ]
  },
  {
   "cell_type": "code",
   "execution_count": 12,
   "metadata": {},
   "outputs": [
    {
     "data": {
      "text/plain": [
       "array([[  0,  81, 129, ..., 231, 231, 231],\n",
       "       [  0,  81, 134, ..., 226, 227, 225],\n",
       "       [  0,  81, 129, ..., 227, 231, 232],\n",
       "       ..., \n",
       "       [  0,  81, 129, ..., 231, 231, 231],\n",
       "       [  0,  81, 127, ..., 223, 222, 222],\n",
       "       [  0,  81, 127, ..., 227, 228, 227]])"
      ]
     },
     "execution_count": 12,
     "metadata": {},
     "output_type": "execute_result"
    }
   ],
   "source": [
    "next_k=loop_k()\n",
    "next_k"
   ]
  },
  {
   "cell_type": "code",
   "execution_count": 13,
   "metadata": {
    "collapsed": true
   },
   "outputs": [],
   "source": [
    "def loop_I():\n",
    "    next_optI = np.zeros((n,T))\n",
    "    for i in range(n):\n",
    "        for j in range(T-1):\n",
    "            next_optI[i,j+1] = kvec[next_k[i,j+1]] - (1 - delta) * kvec[next_k[i,j]]\n",
    "    return next_optI"
   ]
  },
  {
   "cell_type": "code",
   "execution_count": 14,
   "metadata": {},
   "outputs": [
    {
     "data": {
      "text/plain": [
       "array([[ 0.        ,  0.01274196,  0.05582217, ...,  0.31392638,\n",
       "         0.31392638,  0.31392638],\n",
       "       [ 0.        ,  0.01274196,  0.06806306, ...,  0.26558172,\n",
       "         0.32423877,  0.15923027],\n",
       "       [ 0.        ,  0.01274196,  0.05582217, ...,  0.41864321,\n",
       "         0.52988424,  0.38326096],\n",
       "       ..., \n",
       "       [ 0.        ,  0.01274196,  0.05582217, ...,  0.31392638,\n",
       "         0.31392638,  0.31392638],\n",
       "       [ 0.        ,  0.01274196,  0.05147099, ...,  0.19534002,\n",
       "         0.1889145 ,  0.23232421],\n",
       "       [ 0.        ,  0.01274196,  0.05147099, ...,  0.41864321,\n",
       "         0.33526705,  0.22330319]])"
      ]
     },
     "execution_count": 14,
     "metadata": {},
     "output_type": "execute_result"
    }
   ],
   "source": [
    "next_optI = loop_I()\n",
    "next_optI"
   ]
  },
  {
   "cell_type": "code",
   "execution_count": 15,
   "metadata": {
    "collapsed": true
   },
   "outputs": [],
   "source": [
    "def profit():\n",
    "    profit = np.zeros((n, T))\n",
    "    for i in range(n):\n",
    "        for j in range(T):\n",
    "            profit[i,j] = z_new[i,j] * (kvec[next_k[i,j]]**alpha_k)\n",
    "    return profit"
   ]
  },
  {
   "cell_type": "code",
   "execution_count": 16,
   "metadata": {},
   "outputs": [
    {
     "data": {
      "text/plain": [
       "array([[ 0.        ,  0.27844161,  1.34566519, ...,  6.17780522,\n",
       "         6.17780522,  4.94224418],\n",
       "       [ 0.        ,  1.11376645,  1.41419084, ...,  5.87845515,\n",
       "         3.56228498,  3.49220926],\n",
       "       [ 0.        ,  0.27844161,  0.44855506, ...,  8.31199829,\n",
       "         7.41336626,  7.48737626],\n",
       "       ..., \n",
       "       [ 0.        ,  0.27844161,  1.34566519, ...,  6.17780522,\n",
       "         6.17780522,  4.94224418],\n",
       "       [ 0.        ,  0.        ,  0.        , ...,  3.42351203,\n",
       "         3.38967186,  2.25978124],\n",
       "       [ 0.        ,  0.        ,  0.        , ...,  5.93714164,\n",
       "         4.79713121,  7.12456996]])"
      ]
     },
     "execution_count": 16,
     "metadata": {},
     "output_type": "execute_result"
    }
   ],
   "source": [
    "profit1 = profit()\n",
    "profit1"
   ]
  },
  {
   "cell_type": "code",
   "execution_count": 17,
   "metadata": {
    "collapsed": true
   },
   "outputs": [],
   "source": [
    "@numba.jit\n",
    "def loop_VFIs():\n",
    "    next_Vs = np.zeros((n,T), dtype = np.int)\n",
    "    for i in range(n):\n",
    "        for j in range(T):\n",
    "            next_Vs[i,j] = VF[z_new[i,j], next_k[i,j]]\n",
    "    return next_Vs"
   ]
  },
  {
   "cell_type": "code",
   "execution_count": 18,
   "metadata": {},
   "outputs": [
    {
     "data": {
      "text/plain": [
       "array([[18, 19, 20, ..., 26, 26, 24],\n",
       "       [18, 20, 20, ..., 25, 23, 23],\n",
       "       [18, 19, 19, ..., 28, 27, 27],\n",
       "       ..., \n",
       "       [18, 19, 20, ..., 26, 26, 24],\n",
       "       [18, 18, 19, ..., 23, 23, 22],\n",
       "       [18, 18, 19, ..., 25, 24, 26]])"
      ]
     },
     "execution_count": 18,
     "metadata": {},
     "output_type": "execute_result"
    }
   ],
   "source": [
    "next_Vs = loop_VFIs()\n",
    "next_Vs"
   ]
  },
  {
   "cell_type": "code",
   "execution_count": 19,
   "metadata": {
    "collapsed": true
   },
   "outputs": [],
   "source": [
    "def sim_firm(theta):\n",
    "    alpha_k, rho, psi, sigma_z = theta\n",
    "    z, Pi = z_fun(theta)\n",
    "    z_new = np.zeros((n,T), dtype = np.int)\n",
    "    for i in range(n):\n",
    "        z_new[i] = sim_markov(z, np.transpose(Pi), num_draws)  #correct z\n",
    "    \n",
    "    next_k = loop_k()\n",
    "    next_optI = loop_I()\n",
    "    profit_1 = profit()\n",
    "    next_Vs = loop_VFIs()\n",
    "    \n",
    "    return next_Vs, profit_1, next_optI, next_k"
   ]
  },
  {
   "cell_type": "code",
   "execution_count": 20,
   "metadata": {
    "collapsed": true
   },
   "outputs": [],
   "source": [
    "next_Vs, profit_1, next_optI, next_k = sim_firm(theta)"
   ]
  },
  {
   "cell_type": "code",
   "execution_count": 21,
   "metadata": {
    "collapsed": true
   },
   "outputs": [],
   "source": [
    "def moments(theta):\n",
    "    alpha_k, rho, psi, sigma_z = theta\n",
    "    \n",
    "    '''This creates and runs the moments and such'''\n",
    "    ##################################################################################################\n",
    "    ##MOMENTS\n",
    "    inv_nextk = next_optI/kvec[next_k]\n",
    "    invest_nextk = inv_nextk.reshape((1, n*100))  # I over K reshaped for corrcoef()\n",
    "    sc_invest_nextk = np.corrcoef(invest_nextk[0][1:], invest_nextk[0][:100000-1])[0,1]\n",
    "    profit_nextk = profit_1/kvec[next_k]\n",
    "    sd_profit_nextk = profit_nextk.reshape((1, n*100)) \n",
    "    sd_profit_nextk = np.std(sd_profit_nextk)\n",
    "    q_bar = next_Vs.sum()/kvec[next_k].sum()\n",
    "    Y = invest_nextk\n",
    "    Y = Y.reshape(100000, 1)\n",
    "    q = next_Vs/kvec[next_k]\n",
    "    q = q.reshape(100000, 1)    \n",
    "    prof_k = profit_1/kvec[next_k]\n",
    "    prof_k = prof_k.reshape(100000, 1)    \n",
    "    cons = np.ones(100000)\n",
    "    cons = cons.reshape(100000, 1) \n",
    "    ##################################################################################################\n",
    "    ##REGRESSIONS\n",
    "    x = np.hstack((cons, q, prof_k))\n",
    "    trans = x.transpose()\n",
    "    xx = np.dot(trans, x)\n",
    "    inv = np.linalg.inv(xx)\n",
    "    xy = np.dot(trans, Y)\n",
    "    reg_coef = np.dot(inv, xy)    \n",
    "    mew_s = np.array([max(reg_coef[1]), max(reg_coef[2]), sc_invest_nextk, sd_profit_nextk, q_bar])  #Mu_s  \n",
    "    \n",
    "    return mew_s"
   ]
  },
  {
   "cell_type": "code",
   "execution_count": 22,
   "metadata": {
    "collapsed": true
   },
   "outputs": [],
   "source": [
    "#Here we find our Mu_s and Mu_d\n",
    "\n",
    "guess=(1,1,1,1)\n",
    "mu_d=np.array([0.045,0.24,0.040,0.250,2.96])\n",
    "mu_s=moments(theta)\n",
    "W=np.eye(len(mu_d))"
   ]
  },
  {
   "cell_type": "code",
   "execution_count": 23,
   "metadata": {
    "collapsed": true
   },
   "outputs": [],
   "source": [
    "#here we calculate the distances between Mu_s and Mu_d, for that we create distance function\n",
    "#our w: W=np.eye(len(mu_d))\n",
    "def dist(A,B,C):\n",
    "    d = np.linalg.multi_dot([np.transpose(A - B),np.linalg.inv(C),(A - B)])\n",
    "    return d"
   ]
  },
  {
   "cell_type": "code",
   "execution_count": 24,
   "metadata": {
    "collapsed": true
   },
   "outputs": [],
   "source": [
    "## The objective function for minimization using theta and mu_d as an argument\n",
    "\n",
    "def Qfunc2(theta):\n",
    "    alpha_k, rho, psi, sigma_z = theta\n",
    "    a1 = 0.045  #these values are from table 2, row 4\n",
    "    a2=0.24\n",
    "    sc=0.04\n",
    "    std=0.25\n",
    "    qbar=2.96\n",
    "    mu_s=moments(theta)\n",
    "    mu_d=np.array([a1,a2,sc,std,qbar])\n",
    "    W=np.eye(len(mu_d))\n",
    "    dis=dist(mu_s,mu_d,W)\n",
    "    return dis"
   ]
  },
  {
   "cell_type": "code",
   "execution_count": 25,
   "metadata": {},
   "outputs": [
    {
     "data": {
      "text/plain": [
       "156.13817210151475"
      ]
     },
     "execution_count": 25,
     "metadata": {},
     "output_type": "execute_result"
    }
   ],
   "source": [
    "dist(mu_s, mu_d, W)"
   ]
  },
  {
   "cell_type": "code",
   "execution_count": 26,
   "metadata": {
    "collapsed": true
   },
   "outputs": [],
   "source": [
    "# Setting bounds for alpha_k, rho, psi, sigma_z\n",
    "bnds2=((0,1),(0,1),(0,0.2),(0,0.9))"
   ]
  },
  {
   "cell_type": "code",
   "execution_count": 27,
   "metadata": {
    "collapsed": true
   },
   "outputs": [],
   "source": [
    "theta_hat=differential_evolution(Qfunc2,bnds2)"
   ]
  },
  {
   "cell_type": "code",
   "execution_count": 28,
   "metadata": {},
   "outputs": [
    {
     "data": {
      "text/plain": [
       "array([ 0.85902566,  0.41794503,  0.19916865,  0.78336985])"
      ]
     },
     "execution_count": 28,
     "metadata": {},
     "output_type": "execute_result"
    }
   ],
   "source": [
    "theta_hat.x #coefficients at table 2"
   ]
  },
  {
   "cell_type": "code",
   "execution_count": 29,
   "metadata": {
    "collapsed": true
   },
   "outputs": [],
   "source": [
    "epsilion = 0.1\n",
    "#new theta with epsilion\n",
    "theta_new = theta + epsilion"
   ]
  },
  {
   "cell_type": "code",
   "execution_count": 30,
   "metadata": {
    "collapsed": true
   },
   "outputs": [],
   "source": [
    "theta_new_hat=differential_evolution(Qfunc2,bnds2)"
   ]
  },
  {
   "cell_type": "code",
   "execution_count": 31,
   "metadata": {},
   "outputs": [
    {
     "data": {
      "text/plain": [
       "array([ 0.38695245,  0.75739567,  0.12155591,  0.65891565])"
      ]
     },
     "execution_count": 31,
     "metadata": {},
     "output_type": "execute_result"
    }
   ],
   "source": [
    "theta_new_hat.x"
   ]
  },
  {
   "cell_type": "code",
   "execution_count": 32,
   "metadata": {},
   "outputs": [
    {
     "data": {
      "text/plain": [
       "array([ 22.28531106,  11.52267409,   0.60237373,   1.54888463])"
      ]
     },
     "execution_count": 32,
     "metadata": {},
     "output_type": "execute_result"
    }
   ],
   "source": [
    "numerator = theta_new_hat.x - theta_hat.x\n",
    "numerical_derivative = np.mat([numerator/epsilion])\n",
    "standard_errors = np.dot(numerical_derivative.T,numerical_derivative)\n",
    "np.diag(standard_errors) #standard errors!"
   ]
  },
  {
   "cell_type": "code",
   "execution_count": null,
   "metadata": {
    "collapsed": true
   },
   "outputs": [],
   "source": []
  }
 ],
 "metadata": {
  "kernelspec": {
   "display_name": "Python 3",
   "language": "python",
   "name": "python3"
  },
  "language_info": {
   "codemirror_mode": {
    "name": "ipython",
    "version": 3
   },
   "file_extension": ".py",
   "mimetype": "text/x-python",
   "name": "python",
   "nbconvert_exporter": "python",
   "pygments_lexer": "ipython3",
   "version": "3.6.1"
  }
 },
 "nbformat": 4,
 "nbformat_minor": 2
}
