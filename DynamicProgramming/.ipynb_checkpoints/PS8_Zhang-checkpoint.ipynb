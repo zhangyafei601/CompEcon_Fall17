{
 "cells": [
  {
   "cell_type": "code",
   "execution_count": null,
   "metadata": {
    "collapsed": true
   },
   "outputs": [],
   "source": [
    "# import packages\n",
    "import matplotlib.pyplot as plt\n",
    "import seaborn as sns\n",
    "import numpy as np\n",
    "\n",
    "# to print plots inline\n",
    "%matplotlib inline"
   ]
  },
  {
   "cell_type": "code",
   "execution_count": 2,
   "metadata": {
    "collapsed": true
   },
   "outputs": [],
   "source": [
    "# set our parameters\n",
    "rho = 0.7605\n",
    "mu = 0.0\n",
    "sigma_eps = 0.213\n",
    "\n",
    "# draw our shocks\n",
    "num_draws = 100000 # number of shocks to draw\n",
    "eps = np.random.normal(0.0, sigma_eps, size=(num_draws))"
   ]
  },
  {
   "cell_type": "code",
   "execution_count": 3,
   "metadata": {},
   "outputs": [
    {
     "data": {
      "text/plain": [
       "<matplotlib.axes._subplots.AxesSubplot at 0x28a981a88d0>"
      ]
     },
     "execution_count": 3,
     "metadata": {},
     "output_type": "execute_result"
    },
    {
     "data": {
      "image/png": "[encoded data removed]",
      "text/plain": [
       "<matplotlib.figure.Figure at 0x28a949017f0>"
      ]
     },
     "metadata": {},
     "output_type": "display_data"
    }
   ],
   "source": [
    "# Compute z\n",
    "z = np.empty(num_draws)\n",
    "z[0] = 0.0 + eps[0]\n",
    "for i in range(1, num_draws):\n",
    "    z[i] = rho * z[i - 1] + (1 - rho) * mu + eps[i]\n",
    "# Remember here z is acually log(z)    \n",
    "\n",
    "# plot distribution of z\n",
    "# sns.distplot(z, hist=False)\n",
    "sns.kdeplot(np.array(z), bw=0.5)"
   ]
  },
  {
   "cell_type": "code",
   "execution_count": 4,
   "metadata": {},
   "outputs": [
    {
     "name": "stdout",
     "output_type": "stream",
     "text": [
      "Theoretical sigma_z =  0.3280264242800136\n"
     ]
    }
   ],
   "source": [
    "# theory says:\n",
    "sigma_z = sigma_eps / ((1 - rho ** 2) ** (1 / 2))\n",
    "print('Theoretical sigma_z = ', sigma_z)"
   ]
  },
  {
   "cell_type": "code",
   "execution_count": 5,
   "metadata": {},
   "outputs": [
    {
     "name": "stdout",
     "output_type": "stream",
     "text": [
      "Cut-off values =  [       -inf -0.40040229 -0.25084498 -0.14128994 -0.04582867  0.04582867\n",
      "  0.14128994  0.25084498  0.40040229         inf]\n"
     ]
    }
   ],
   "source": [
    "# import packages\n",
    "from scipy.stats import norm\n",
    "\n",
    "# Compute cut-off values\n",
    "N = 9  # number of grid points (will have one more cut-off point than this)\n",
    "z_cutoffs = (sigma_z * norm.ppf(np.arange(N + 1) / N)) + mu\n",
    "print('Cut-off values = ', z_cutoffs)"
   ]
  },
  {
   "cell_type": "code",
   "execution_count": 6,
   "metadata": {},
   "outputs": [
    {
     "name": "stdout",
     "output_type": "stream",
     "text": [
      "Grid points =  [ 0.57170087  0.72611947  0.82344962  0.91128377  1.          1.09735302\n",
      "  1.21440337  1.37718384  1.74916648]\n"
     ]
    }
   ],
   "source": [
    "# compute grid points for z\n",
    "# Now z_grid is z rather than z_log\n",
    "z_grid = np.exp((((N * sigma_z * (norm.pdf((z_cutoffs[:-1] - mu) / sigma_z)\n",
    "                              - norm.pdf((z_cutoffs[1:] - mu) / sigma_z)))\n",
    "              + mu)))\n",
    "print('Grid points = ', z_grid)"
   ]
  },
  {
   "cell_type": "code",
   "execution_count": 7,
   "metadata": {},
   "outputs": [
    {
     "name": "stdout",
     "output_type": "stream",
     "text": [
      "Transition matrix =  [[  5.34646999e-01   2.33099908e-01   1.19241334e-01   6.16948412e-02\n",
      "    3.06368282e-02   1.38694209e-02   5.27307457e-03   1.39972319e-03\n",
      "    1.37871226e-04]\n",
      " [  2.33099908e-01   2.53066831e-01   1.95990939e-01   1.38221479e-01\n",
      "    8.98690322e-02   5.26608516e-02   2.62024217e-02   9.48881413e-03\n",
      "    1.39972319e-03]\n",
      " [  1.19241334e-01   1.95990939e-01   1.96744233e-01   1.70765394e-01\n",
      "    1.33994761e-01   9.44950201e-02   5.72928238e-02   2.62024217e-02\n",
      "    5.27307457e-03]\n",
      " [  6.16948412e-02   1.38221479e-01   1.70765394e-01   1.75481409e-01\n",
      "    1.60693238e-01   1.32118347e-01   9.44950201e-02   5.26608516e-02\n",
      "    1.38694209e-02]\n",
      " [  3.06368282e-02   8.98690322e-02   1.33994761e-01   1.60693238e-01\n",
      "    1.69612281e-01   1.60693238e-01   1.33994761e-01   8.98690322e-02\n",
      "    3.06368282e-02]\n",
      " [  1.38694209e-02   5.26608516e-02   9.44950201e-02   1.32118347e-01\n",
      "    1.60693238e-01   1.75481409e-01   1.70765394e-01   1.38221479e-01\n",
      "    6.16948412e-02]\n",
      " [  5.27307457e-03   2.62024217e-02   5.72928238e-02   9.44950201e-02\n",
      "    1.33994761e-01   1.70765394e-01   1.96744233e-01   1.95990939e-01\n",
      "    1.19241334e-01]\n",
      " [  1.39972319e-03   9.48881413e-03   2.62024217e-02   5.26608516e-02\n",
      "    8.98690322e-02   1.38221479e-01   1.95990939e-01   2.53066831e-01\n",
      "    2.33099908e-01]\n",
      " [  1.37871226e-04   1.39972319e-03   5.27307457e-03   1.38694209e-02\n",
      "    3.06368282e-02   6.16948412e-02   1.19241334e-01   2.33099908e-01\n",
      "    5.34646999e-01]]\n",
      "pi sums =  [ 1.  1.  1.  1.  1.  1.  1.  1.  1.] [ 1.  1.  1.  1.  1.  1.  1.  1.  1.]\n"
     ]
    }
   ],
   "source": [
    "# Transition matrix\n",
    "# import packages\n",
    "import scipy.integrate as integrate\n",
    "\n",
    "# define function that we will integrate over\n",
    "def integrand(x, sigma_z, sigma_eps, rho, mu, z_j, z_jp1):\n",
    "    val = (np.exp((-1 * ((x - mu) ** 2)) / (2 * (sigma_z ** 2)))\n",
    "            * (norm.cdf((z_jp1 - (mu * (1 - rho)) - (rho * x)) / sigma_eps)\n",
    "               - norm.cdf((z_j - (mu * (1 - rho)) - (rho * x)) / sigma_eps)))\n",
    "    \n",
    "    return val\n",
    "\n",
    "# compute transition probabilities\n",
    "pi = np.empty((N, N))\n",
    "for i in range(N):\n",
    "    for j in range(N):\n",
    "        results = integrate.quad(integrand, z_cutoffs[i], z_cutoffs[i + 1],\n",
    "                                 args = (sigma_z, sigma_eps, rho, mu,\n",
    "                                         z_cutoffs[j], z_cutoffs[j + 1]))\n",
    "        pi[i,j] = (N / np.sqrt(2 * np.pi * sigma_z ** 2)) * results[0]\n",
    "        \n",
    "print('Transition matrix = ', pi)\n",
    "print('pi sums = ', pi.sum(axis=0), pi.sum(axis=1))"
   ]
  },
  {
   "cell_type": "code",
   "execution_count": 8,
   "metadata": {},
   "outputs": [
    {
     "data": {
      "text/plain": [
       "array([ 0.68375623,  0.7993609 ,  0.8806827 ,  0.95337874,  1.0255741 ,\n",
       "        1.10328372,  1.19413028,  1.31306453,  1.51742924])"
      ]
     },
     "execution_count": 8,
     "metadata": {},
     "output_type": "execute_result"
    }
   ],
   "source": [
    "# Calculate the expectation of z'\n",
    "exp_z_prime = np.dot(pi, z_grid)\n",
    "exp_z_prime"
   ]
  },
  {
   "cell_type": "code",
   "execution_count": 9,
   "metadata": {
    "collapsed": true
   },
   "outputs": [],
   "source": [
    "# Using SS capital to get the grids of capital"
   ]
  },
  {
   "cell_type": "code",
   "execution_count": 10,
   "metadata": {
    "collapsed": true
   },
   "outputs": [],
   "source": [
    "# Import packages\n",
    "import numpy as np\n",
    "import matplotlib.pyplot as plt\n",
    "import time\n",
    "\n",
    "# to print plots inline\n",
    "%matplotlib inline"
   ]
  },
  {
   "cell_type": "code",
   "execution_count": 11,
   "metadata": {
    "collapsed": true
   },
   "outputs": [],
   "source": [
    "# specify parameters\n",
    "alpha_k = 0.297\n",
    "alpha_l = 0.650\n",
    "delta = 0.154\n",
    "psi = 1.08\n",
    "w = 0.7\n",
    "r = 0.04\n",
    "z = 1"
   ]
  },
  {
   "cell_type": "code",
   "execution_count": 12,
   "metadata": {
    "collapsed": true
   },
   "outputs": [],
   "source": [
    "betafirm = (1 / (1 + r))"
   ]
  },
  {
   "cell_type": "code",
   "execution_count": 13,
   "metadata": {
    "collapsed": true
   },
   "outputs": [],
   "source": [
    "dens = 5\n",
    "# put in bounds here for the capital stock space\n",
    "kstar = ((((1 / betafirm - 1 + delta) * ((w / alpha_l) **\n",
    "                                         (alpha_l / (1 - alpha_l)))) /\n",
    "         (alpha_k * (z ** (1 / (1 - alpha_l))))) **\n",
    "         ((1 - alpha_l) / (alpha_k + alpha_l - 1)))\n",
    "kbar = 2*kstar\n",
    "lb_k = 0.001\n",
    "ub_k = kbar\n",
    "krat = np.log(lb_k / ub_k)\n",
    "numb = np.ceil(krat / np.log(1 - delta))\n",
    "K = np.zeros(int(numb * dens))\n",
    "# we'll create in a way where we pin down the upper bound - since\n",
    "# the distance will be small near the lower bound, we'll miss that by little\n",
    "for j in range(int(numb * dens)):\n",
    "    K[j] = ub_k * (1 - delta) ** (j / dens)\n",
    "kgrid = K[::-1]\n",
    "sizek = kgrid.shape[0]"
   ]
  },
  {
   "cell_type": "code",
   "execution_count": 14,
   "metadata": {},
   "outputs": [
    {
     "data": {
      "text/plain": [
       "285"
      ]
     },
     "execution_count": 14,
     "metadata": {},
     "output_type": "execute_result"
    }
   ],
   "source": [
    "sizek"
   ]
  },
  {
   "cell_type": "code",
   "execution_count": null,
   "metadata": {
    "scrolled": true
   },
   "outputs": [],
   "source": [
    "k_linear = np.linspace(lb_k, ub_k, num=sizek)\n",
    "plt.scatter(k_linear, kgrid)"
   ]
  },
  {
   "cell_type": "markdown",
   "metadata": {},
   "source": [
    "# Value function iteration to get policy function of K prime"
   ]
  },
  {
   "cell_type": "code",
   "execution_count": 15,
   "metadata": {
    "collapsed": true
   },
   "outputs": [],
   "source": [
    "# operating profits, op\n",
    "sizez = z_grid.shape[0]\n",
    "op = np.zeros((sizez, sizek))\n",
    "for i in range(sizez):\n",
    "    for j in range(sizek):\n",
    "        op[i,j] = ((1 - alpha_l) * ((alpha_l / w) ** (alpha_l / (1 - alpha_l))) *\n",
    "      ((kgrid[j] ** alpha_k) ** (1 / (1 - alpha_l))) * (z_grid[i] ** (1/(1 - alpha_l))))"
   ]
  },
  {
   "cell_type": "code",
   "execution_count": 16,
   "metadata": {
    "collapsed": true
   },
   "outputs": [],
   "source": [
    "# firm cash flow, e\n",
    "e = np.zeros((sizez, sizek, sizek))\n",
    "for i in range(sizez):\n",
    "    for j in range(sizek):\n",
    "        for k in range(sizek):\n",
    "            e[i, j, k] = (op[i,j] - kgrid[k] + ((1 - delta) * kgrid[j]) -\n",
    "                       ((psi / 2) * ((kgrid[k] - ((1 - delta) * kgrid[j])) ** 2)\n",
    "                        / kgrid[j]))"
   ]
  },
  {
   "cell_type": "code",
   "execution_count": null,
   "metadata": {},
   "outputs": [],
   "source": [
    "np.shape(e)"
   ]
  },
  {
   "cell_type": "code",
   "execution_count": 17,
   "metadata": {
    "collapsed": true
   },
   "outputs": [],
   "source": [
    "# Value funtion iteration\n",
    "VFtol = 1e-6\n",
    "VFdist = 7.0\n",
    "VFmaxiter = 3000\n",
    "V = np.zeros((sizez, sizek))  # initial guess at value function\n",
    "Vmat = np.zeros((sizez, sizek, sizek))  # initialize Vmat matrix\n",
    "Vstore = np.zeros((sizez, sizek, VFmaxiter))  # initialize Vstore array\n",
    "VFiter = 1"
   ]
  },
  {
   "cell_type": "code",
   "execution_count": null,
   "metadata": {},
   "outputs": [],
   "source": [
    "np.shape(Vstore)"
   ]
  },
  {
   "cell_type": "code",
   "execution_count": null,
   "metadata": {},
   "outputs": [],
   "source": [
    "np.shape(pi)"
   ]
  },
  {
   "cell_type": "code",
   "execution_count": 18,
   "metadata": {
    "collapsed": true
   },
   "outputs": [],
   "source": [
    "import numba"
   ]
  },
  {
   "cell_type": "code",
   "execution_count": 19,
   "metadata": {},
   "outputs": [],
   "source": [
    "@numba.jit\n",
    "def VFI_loop(V, e, betafirm, sizez, sizek, Vmat, pi):\n",
    "    V_prime = np.dot(pi, V)\n",
    "    for i in range(sizez):  # loop over z\n",
    "        for j in range(sizek):  # loop over k\n",
    "            for k in range(sizek): # loop over k'\n",
    "                Vmat[i, j, k] = e[i, j, k] + betafirm * V_prime[i, k]\n",
    "    return Vmat"
   ]
  },
  {
   "cell_type": "code",
   "execution_count": 20,
   "metadata": {},
   "outputs": [
    {
     "name": "stdout",
     "output_type": "stream",
     "text": [
      "Value function converged after this many iterations: 366\n",
      "VFI took  2.097283150025076  seconds to solve\n"
     ]
    }
   ],
   "source": [
    "start_time = time.clock()\n",
    "while VFdist > VFtol and VFiter < VFmaxiter:\n",
    "    TV = V    \n",
    "    Vmat = VFI_loop(V, e, betafirm, sizez, sizek, Vmat, pi)\n",
    "    Vstore[:, :, VFiter] = V.reshape(sizez, sizek,)  # store value function at each\n",
    "    # iteration for graphing later\n",
    "    V = Vmat.max(axis=2)  # apply max operator to Vmat (to get V(k))\n",
    "    PF = np.argmax(Vmat, axis=2)  # find the index of the optimal k'\n",
    "    Vstore[:,:, i] = V  # store V at each iteration of VFI\n",
    "    VFdist = (np.absolute(V - TV)).max()  # check distance between value\n",
    "    # function for this iteration and value function from past iteration\n",
    "    VFiter += 1\n",
    "\n",
    "VFI_time = time.clock() - start_time\n",
    "if VFiter < VFmaxiter:\n",
    "    print('Value function converged after this many iterations:', VFiter)\n",
    "else:\n",
    "    print('Value function did not converge')\n",
    "print('VFI took ', VFI_time, ' seconds to solve')\n",
    "\n",
    "\n",
    "VF = V  # solution to the functional equation"
   ]
  },
  {
   "cell_type": "code",
   "execution_count": null,
   "metadata": {
    "collapsed": true
   },
   "outputs": [],
   "source": []
  },
  {
   "cell_type": "code",
   "execution_count": null,
   "metadata": {},
   "outputs": [],
   "source": [
    "VF"
   ]
  },
  {
   "cell_type": "code",
   "execution_count": null,
   "metadata": {},
   "outputs": [],
   "source": [
    "start_time = time.clock()\n",
    "while VFdist > VFtol and VFiter < VFmaxiter:\n",
    "    TV = V\n",
    "    V_prime = np.dot(pi, V)\n",
    "    for i in range(sizez):  # loop over z\n",
    "        for j in range(sizek):  # loop over k\n",
    "            for k in range(sizek): # loop over k'\n",
    "                Vmat[i, j, k] = e[i, j, k] + betafirm * V_prime[i, k]\n",
    "    Vstore[:, :, VFiter] = V.reshape(sizez, sizek,)  # store value function at each\n",
    "    # iteration for graphing later\n",
    "    V = Vmat.max(axis=2)  # apply max operator to Vmat (to get V(k))\n",
    "    PF = np.argmax(Vmat, axis=2)  # find the index of the optimal k'\n",
    "    Vstore[:,:, i] = V  # store V at each iteration of VFI\n",
    "    VFdist = (np.absolute(V - TV)).max()  # check distance between value\n",
    "    # function for this iteration and value function from past iteration\n",
    "    VFiter += 1\n",
    "\n",
    "VFI_time = time.clock() - start_time\n",
    "if VFiter < VFmaxiter:\n",
    "    print('Value function converged after this many iterations:', VFiter)\n",
    "else:\n",
    "    print('Value function did not converge')\n",
    "print('VFI took ', VFI_time, ' seconds to solve')\n",
    "\n",
    "\n",
    "VF = V  # solution to the functional equation"
   ]
  },
  {
   "cell_type": "code",
   "execution_count": null,
   "metadata": {
    "collapsed": true
   },
   "outputs": [],
   "source": [
    "VF"
   ]
  },
  {
   "cell_type": "code",
   "execution_count": null,
   "metadata": {
    "collapsed": true
   },
   "outputs": [],
   "source": [
    "# Pull out k'"
   ]
  },
  {
   "cell_type": "code",
   "execution_count": null,
   "metadata": {
    "collapsed": true
   },
   "outputs": [],
   "source": [
    "optK = kgrid[PF]"
   ]
  },
  {
   "cell_type": "code",
   "execution_count": null,
   "metadata": {
    "collapsed": true
   },
   "outputs": [],
   "source": [
    "np.shape(optK)"
   ]
  },
  {
   "cell_type": "code",
   "execution_count": null,
   "metadata": {
    "collapsed": true
   },
   "outputs": [],
   "source": [
    "optK"
   ]
  },
  {
   "cell_type": "code",
   "execution_count": null,
   "metadata": {
    "collapsed": true
   },
   "outputs": [],
   "source": [
    "## plot the SD\n",
    "\n",
    "# import packages\n",
    "import matplotlib.pyplot as plt\n",
    "from mpl_toolkits.mplot3d import Axes3D\n",
    "from matplotlib import cm\n",
    "\n",
    "# to print plots inline\n",
    "%matplotlib inline\n",
    "\n",
    "# Stationary distribution in 3D\n",
    "zmat, kmat = np.meshgrid(kgrid, np.log(z_grid))\n",
    "fig = plt.figure(figsize=(10, 8))\n",
    "ax = fig.add_subplot(111, projection='3d')\n",
    "ax.plot_surface(kmat, zmat, optK, rstride=1, cstride=1, cmap=cm.Blues,\n",
    "                linewidth=0, antialiased=False)\n",
    "ax.view_init(elev=20., azim=20)  # to rotate plot for better view\n",
    "ax.set_xlabel(r'Log Productivity')\n",
    "ax.set_ylabel(r'Capital Stock')\n",
    "ax.set_zlabel(r'Optimal Capital Stock')"
   ]
  },
  {
   "cell_type": "code",
   "execution_count": null,
   "metadata": {
    "collapsed": true
   },
   "outputs": [],
   "source": [
    "np.shape(VF)"
   ]
  },
  {
   "cell_type": "code",
   "execution_count": null,
   "metadata": {
    "collapsed": true
   },
   "outputs": [],
   "source": [
    "zmat, kmat = np.meshgrid(kgrid, np.log(z_grid))\n",
    "fig = plt.figure(figsize=(10, 8))\n",
    "ax = fig.add_subplot(111, projection='3d')\n",
    "ax.plot_surface(kmat, zmat, VF, rstride=1, cstride=1, cmap=cm.Blues,\n",
    "                linewidth=0, antialiased=False)\n",
    "ax.view_init(elev=20., azim=20)  # to rotate plot for better view\n",
    "ax.set_xlabel(r'Log Productivity')\n",
    "ax.set_ylabel(r'Capital Stock')\n",
    "ax.set_zlabel(r'Value Function')"
   ]
  },
  {
   "cell_type": "code",
   "execution_count": null,
   "metadata": {
    "collapsed": true
   },
   "outputs": [],
   "source": [
    "# Calculate the investment function"
   ]
  },
  {
   "cell_type": "code",
   "execution_count": null,
   "metadata": {
    "collapsed": true
   },
   "outputs": [],
   "source": [
    "optI = optK - (1 - delta) * kgrid"
   ]
  },
  {
   "cell_type": "code",
   "execution_count": null,
   "metadata": {
    "collapsed": true
   },
   "outputs": [],
   "source": [
    "np.shape(optI)"
   ]
  },
  {
   "cell_type": "code",
   "execution_count": null,
   "metadata": {
    "collapsed": true
   },
   "outputs": [],
   "source": [
    "zmat, kmat = np.meshgrid(kgrid, np.log(z_grid))\n",
    "fig = plt.figure(figsize=(10, 8))\n",
    "ax = fig.add_subplot(111, projection='3d')\n",
    "ax.plot_surface(kmat, zmat, optI, rstride=1, cstride=1, cmap=cm.Blues,\n",
    "                linewidth=0, antialiased=False)\n",
    "ax.view_init(elev=20., azim=20)  # to rotate plot for better view\n",
    "ax.set_xlabel(r'Log Productivity')\n",
    "ax.set_ylabel(r'Capital Stock')\n",
    "ax.set_zlabel(r'Optimal Investment Ratio')"
   ]
  },
  {
   "cell_type": "code",
   "execution_count": null,
   "metadata": {
    "collapsed": true
   },
   "outputs": [],
   "source": [
    "# Pull out Cash Flow function ( function e)"
   ]
  },
  {
   "cell_type": "code",
   "execution_count": null,
   "metadata": {
    "collapsed": true
   },
   "outputs": [],
   "source": [
    "np.shape(e)"
   ]
  },
  {
   "cell_type": "code",
   "execution_count": null,
   "metadata": {
    "collapsed": true
   },
   "outputs": [],
   "source": [
    "# Calculate Labor Demand"
   ]
  },
  {
   "cell_type": "code",
   "execution_count": null,
   "metadata": {
    "collapsed": true
   },
   "outputs": [],
   "source": [
    "optLD = np.zeros((sizez, sizek))\n",
    "for i in range(sizez):\n",
    "    for j in range(sizek):\n",
    "        optLD[i,j] = (((alpha_l / w) ** (1 / (1 - alpha_l))) *\n",
    "      ((kgrid[j] ** alpha_k) ** (1 / (1 - alpha_l))) * (z_grid[i] ** (1/(1 - alpha_l))))"
   ]
  },
  {
   "cell_type": "code",
   "execution_count": null,
   "metadata": {
    "collapsed": true
   },
   "outputs": [],
   "source": [
    "zmat, kmat = np.meshgrid(kgrid, np.log(z_grid))\n",
    "fig = plt.figure(figsize=(10, 8))\n",
    "ax = fig.add_subplot(111, projection='3d')\n",
    "ax.plot_surface(kmat, zmat, optLD, rstride=1, cstride=1, cmap=cm.Blues,\n",
    "                linewidth=0, antialiased=False)\n",
    "ax.view_init(elev=20., azim=20)  # to rotate plot for better view\n",
    "ax.set_xlabel(r'Log Productivity')\n",
    "ax.set_ylabel(r'Capital Stock')\n",
    "ax.set_zlabel(r'Optimal Labor Demand')"
   ]
  },
  {
   "cell_type": "code",
   "execution_count": null,
   "metadata": {
    "collapsed": true
   },
   "outputs": [],
   "source": [
    "# Find Stationary Distribution"
   ]
  },
  {
   "cell_type": "code",
   "execution_count": 22,
   "metadata": {
    "collapsed": true
   },
   "outputs": [],
   "source": [
    "Gamma = np.ones((sizez, sizek)) * (1 / (sizek * sizez))\n",
    "SDtol = 1e-12\n",
    "SDdist = 7\n",
    "SDiter = 0\n",
    "SDmaxiter = 1000"
   ]
  },
  {
   "cell_type": "code",
   "execution_count": 27,
   "metadata": {
    "collapsed": true
   },
   "outputs": [],
   "source": [
    "@numba.jit\n",
    "def SD_loop(PF, pi, Gamma, sizez, sizek):\n",
    "    HGamma = np.zeros((sizez, sizek))\n",
    "    for i in range(sizez):  # z\n",
    "        for j in range(sizek):  # k\n",
    "            for m in range(sizez):  # z'\n",
    "                HGamma[m, PF[i, j]] = \\\n",
    "                    HGamma[m, PF[i, j]] + pi[i, m] * Gamma[i, j]\n",
    "    return HGamma"
   ]
  },
  {
   "cell_type": "code",
   "execution_count": 28,
   "metadata": {},
   "outputs": [
    {
     "name": "stdout",
     "output_type": "stream",
     "text": [
      "Stationary distribution converged after this many iterations:  78\n"
     ]
    }
   ],
   "source": [
    "while SDdist > SDtol and SDmaxiter > SDiter:\n",
    "    HGamma = SD_loop(PF, pi, Gamma, sizez, sizek)\n",
    "    SDdist = (np.absolute(HGamma - Gamma)).max()\n",
    "    Gamma = HGamma\n",
    "    SDiter += 1\n",
    "    \n",
    "if SDiter < SDmaxiter:\n",
    "    print('Stationary distribution converged after this many iterations: ',\n",
    "          SDiter)\n",
    "else:\n",
    "    print('Stationary distribution did not converge')"
   ]
  },
  {
   "cell_type": "code",
   "execution_count": null,
   "metadata": {
    "collapsed": true
   },
   "outputs": [],
   "source": []
  },
  {
   "cell_type": "code",
   "execution_count": null,
   "metadata": {
    "collapsed": true
   },
   "outputs": [],
   "source": [
    "'''\n",
    "------------------------------------------------------------------------\n",
    "Compute the stationary distribution of firms over (k, z)\n",
    "------------------------------------------------------------------------\n",
    "SDtol     = tolerance required for convergence of SD\n",
    "SDdist    = distance between last two distributions\n",
    "SDiter    = current iteration\n",
    "SDmaxiter = maximium iterations allowed to find stationary distribution\n",
    "Gamma     = stationary distribution\n",
    "HGamma    = operated on stationary distribution\n",
    "------------------------------------------------------------------------\n",
    "'''\n",
    "Gamma = np.ones((sizez, sizek)) * (1 / (sizek * sizez))\n",
    "SDtol = 1e-12\n",
    "SDdist = 7\n",
    "SDiter = 0\n",
    "SDmaxiter = 1000\n",
    "while SDdist > SDtol and SDmaxiter > SDiter:\n",
    "    HGamma = np.zeros((sizez, sizek))\n",
    "    for i in range(sizez):  # z\n",
    "        for j in range(sizek):  # k\n",
    "            for m in range(sizez):  # z'\n",
    "                HGamma[m, PF[i, j]] = \\\n",
    "                    HGamma[m, PF[i, j]] + pi[i, m] * Gamma[i, j]\n",
    "    SDdist = (np.absolute(HGamma - Gamma)).max()\n",
    "    Gamma = HGamma\n",
    "    SDiter += 1\n",
    "\n",
    "if SDiter < SDmaxiter:\n",
    "    print('Stationary distribution converged after this many iterations: ',\n",
    "          SDiter)\n",
    "else:\n",
    "    print('Stationary distribution did not converge')"
   ]
  },
  {
   "cell_type": "code",
   "execution_count": null,
   "metadata": {
    "collapsed": true,
    "scrolled": false
   },
   "outputs": [],
   "source": [
    "# Stationary distribution in 3D\n",
    "zmat, kmat = np.meshgrid(kgrid, np.log(z_grid))\n",
    "fig = plt.figure(figsize=(10, 8))\n",
    "ax = fig.add_subplot(111, projection='3d')\n",
    "#ax.set_ylim(8, 12)\n",
    "ax.plot_surface(kmat, zmat, Gamma, rstride=1, cstride=1, cmap=cm.Blues,\n",
    "                linewidth=0, antialiased=False)\n",
    "ax.view_init(elev=20., azim=20)  # to rotate plot for better view\n",
    "ax.set_xlabel(r'Log Productivity')\n",
    "ax.set_ylabel(r'Capital Stock')\n",
    "ax.set_zlabel(r'Density')"
   ]
  },
  {
   "cell_type": "code",
   "execution_count": null,
   "metadata": {
    "collapsed": true
   },
   "outputs": [],
   "source": [
    "np.shape(Gamma)"
   ]
  },
  {
   "cell_type": "code",
   "execution_count": null,
   "metadata": {
    "collapsed": true
   },
   "outputs": [],
   "source": [
    "# Plot the stationary distribution over k\n",
    "fig, ax = plt.subplots()\n",
    "ax.plot(kgrid, Gamma.sum(axis=0))\n",
    "plt.xlabel('Size of Capital Stock')\n",
    "plt.ylabel('Density')\n",
    "plt.title('Stationary Distribution over Capital')"
   ]
  },
  {
   "cell_type": "code",
   "execution_count": null,
   "metadata": {
    "collapsed": true
   },
   "outputs": [],
   "source": [
    "# Aggregate Labor Demand"
   ]
  },
  {
   "cell_type": "code",
   "execution_count": null,
   "metadata": {
    "collapsed": true
   },
   "outputs": [],
   "source": [
    "optALD = (np.multiply(optLD, Gamma)).sum()"
   ]
  },
  {
   "cell_type": "code",
   "execution_count": null,
   "metadata": {
    "collapsed": true
   },
   "outputs": [],
   "source": [
    "optALD"
   ]
  },
  {
   "cell_type": "code",
   "execution_count": null,
   "metadata": {
    "collapsed": true
   },
   "outputs": [],
   "source": [
    "# Aggregate Investment"
   ]
  },
  {
   "cell_type": "code",
   "execution_count": null,
   "metadata": {
    "collapsed": true
   },
   "outputs": [],
   "source": [
    "optAI = (np.multiply(optI, Gamma)).sum()"
   ]
  },
  {
   "cell_type": "code",
   "execution_count": null,
   "metadata": {
    "collapsed": true
   },
   "outputs": [],
   "source": [
    "optAI"
   ]
  },
  {
   "cell_type": "code",
   "execution_count": null,
   "metadata": {
    "collapsed": true
   },
   "outputs": [],
   "source": [
    "# Aggregate Adjustment Cost"
   ]
  },
  {
   "cell_type": "code",
   "execution_count": null,
   "metadata": {
    "collapsed": true
   },
   "outputs": [],
   "source": [
    "optADJC = psi/2 * np.multiply((optI)**2, 1/kgrid)"
   ]
  },
  {
   "cell_type": "code",
   "execution_count": null,
   "metadata": {
    "collapsed": true
   },
   "outputs": [],
   "source": [
    "optAADJC = (np.multiply(optADJC, Gamma)).sum()"
   ]
  },
  {
   "cell_type": "code",
   "execution_count": null,
   "metadata": {
    "collapsed": true
   },
   "outputs": [],
   "source": [
    "optAADJC"
   ]
  },
  {
   "cell_type": "code",
   "execution_count": null,
   "metadata": {
    "collapsed": true
   },
   "outputs": [],
   "source": [
    "# Aggregate Output"
   ]
  },
  {
   "cell_type": "code",
   "execution_count": null,
   "metadata": {
    "collapsed": true
   },
   "outputs": [],
   "source": [
    "optY = np.multiply(np.multiply((optLD) ** alpha_l, kgrid ** alpha_k),np.transpose([z_grid]))"
   ]
  },
  {
   "cell_type": "code",
   "execution_count": null,
   "metadata": {
    "collapsed": true
   },
   "outputs": [],
   "source": [
    "np.shape(optY)"
   ]
  },
  {
   "cell_type": "code",
   "execution_count": null,
   "metadata": {
    "collapsed": true
   },
   "outputs": [],
   "source": [
    "optAY = (np.multiply(optY, Gamma)).sum()"
   ]
  },
  {
   "cell_type": "code",
   "execution_count": null,
   "metadata": {
    "collapsed": true
   },
   "outputs": [],
   "source": [
    "optAY"
   ]
  },
  {
   "cell_type": "code",
   "execution_count": null,
   "metadata": {
    "collapsed": true
   },
   "outputs": [],
   "source": [
    "# Calculate Aggregate Consumption"
   ]
  },
  {
   "cell_type": "code",
   "execution_count": null,
   "metadata": {
    "collapsed": true
   },
   "outputs": [],
   "source": [
    "optCON = optAY - optAI - optAADJC"
   ]
  },
  {
   "cell_type": "code",
   "execution_count": null,
   "metadata": {
    "collapsed": true
   },
   "outputs": [],
   "source": [
    "optCON"
   ]
  },
  {
   "cell_type": "code",
   "execution_count": null,
   "metadata": {
    "collapsed": true
   },
   "outputs": [],
   "source": [
    "# Calculate Aggregate Labor Supply(using the FOC of household)"
   ]
  },
  {
   "cell_type": "code",
   "execution_count": null,
   "metadata": {
    "collapsed": true
   },
   "outputs": [],
   "source": [
    "# Set parameter value\n",
    "h = 6.616"
   ]
  },
  {
   "cell_type": "code",
   "execution_count": null,
   "metadata": {
    "collapsed": true
   },
   "outputs": [],
   "source": [
    "optALS = w/(h * optCON)"
   ]
  },
  {
   "cell_type": "code",
   "execution_count": null,
   "metadata": {
    "collapsed": true
   },
   "outputs": [],
   "source": [
    "optALS"
   ]
  },
  {
   "cell_type": "code",
   "execution_count": null,
   "metadata": {
    "collapsed": true
   },
   "outputs": [],
   "source": [
    "optALD"
   ]
  },
  {
   "cell_type": "code",
   "execution_count": null,
   "metadata": {
    "collapsed": true
   },
   "outputs": [],
   "source": []
  }
 ],
 "metadata": {
  "kernelspec": {
   "display_name": "Python 3",
   "language": "python",
   "name": "python3"
  },
  "language_info": {
   "codemirror_mode": {
    "name": "ipython",
    "version": 3
   },
   "file_extension": ".py",
   "mimetype": "text/x-python",
   "name": "python",
   "nbconvert_exporter": "python",
   "pygments_lexer": "ipython3",
   "version": "3.6.1"
  }
 },
 "nbformat": 4,
 "nbformat_minor": 2
}
