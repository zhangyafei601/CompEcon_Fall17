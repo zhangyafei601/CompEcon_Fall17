{
 "cells": [
  {
   "cell_type": "code",
   "execution_count": 1,
   "metadata": {
    "collapsed": true
   },
   "outputs": [],
   "source": [
    "import ar1_approx as ar1\n",
    "import matplotlib.pyplot as plt\n",
    "import seaborn as sns\n",
    "import numpy as np\n",
    "from scipy.stats import norm\n",
    "import scipy.integrate as integrate\n",
    "import scipy.optimize as opt\n",
    "import time\n",
    "from mpl_toolkits.mplot3d import Axes3D\n",
    "from matplotlib import cm\n",
    "import numba"
   ]
  },
  {
   "cell_type": "code",
   "execution_count": 20,
   "metadata": {
    "collapsed": true
   },
   "outputs": [],
   "source": [
    "import ar1_approx as ar1"
   ]
  },
  {
   "cell_type": "code",
   "execution_count": 2,
   "metadata": {
    "collapsed": true
   },
   "outputs": [],
   "source": [
    "# Define a function to get aggregate value\n",
    "@numba.jit\n",
    "def Agg(matA, matB):\n",
    "    aggregate = (np.multiply(matA, matB)).sum()\n",
    "    return aggregate"
   ]
  },
  {
   "cell_type": "code",
   "execution_count": 3,
   "metadata": {
    "collapsed": true
   },
   "outputs": [],
   "source": [
    "@numba.jit\n",
    "def SD_loop(PF, Gamma, sizez, sizek):\n",
    "    HGamma = np.zeros((sizez, sizek))\n",
    "    for i in range(sizez):  # z\n",
    "        for j in range(sizek):  # k\n",
    "            for m in range(sizez):  # z'\n",
    "                HGamma[m, PF[i, j]] = \\\n",
    "                    HGamma[m, PF[i, j]] + pi[i, m] * Gamma[i, j]\n",
    "    return HGamma"
   ]
  },
  {
   "cell_type": "code",
   "execution_count": 4,
   "metadata": {
    "collapsed": true
   },
   "outputs": [],
   "source": [
    "# Simulate the Markov process - will make this a function so can call later\n",
    "@numba.jit\n",
    "def sim_markov(z_grid, pi, num_draws):\n",
    "    # draw some random numbers on [0, 1]\n",
    "    u = np.random.uniform(size=num_draws)\n",
    "\n",
    "    # Do simulations\n",
    "    z_discrete = np.empty(num_draws)  # this will be a vector of values \n",
    "    # we land on in the discretized grid for z\n",
    "    N = z_grid.shape[0]\n",
    "    oldind = int(np.ceil((N - 1) / 2)) # set initial value to median of grid\n",
    "    z_discrete[0] = z_grid[oldind]  \n",
    "    for i in range(1, num_draws):\n",
    "        sum_p = 0\n",
    "        ind = 0\n",
    "        while sum_p < u[i]:\n",
    "            sum_p = sum_p + pi[ind, oldind]\n",
    "#             print('inds =  ', ind, oldind)\n",
    "            ind += 1\n",
    "        if ind > 0:\n",
    "            ind -= 1\n",
    "        z_discrete[i] = z_grid[ind]\n",
    "        oldind = ind\n",
    "                            \n",
    "    return z_discrete"
   ]
  },
  {
   "cell_type": "code",
   "execution_count": 5,
   "metadata": {
    "collapsed": true
   },
   "outputs": [],
   "source": [
    "# Use Rouwenhorst (1995) method\n",
    "rho = 0.7605\n",
    "mu = 0.0\n",
    "N = 9\n",
    "num_draws = 100000 # number of shocks to draw\n",
    "sigma_eps = 0.2\n",
    "sigma_z = sigma_eps / ((1 - rho ** 2) ** (1 / 2))\n",
    "num_sigma = 4\n",
    "alpha_k = 0.297\n",
    "alpha_l = 0.650\n",
    "delta = 0.154\n",
    "psi = 1.08\n",
    "r = 0.04\n",
    "h = 6.616\n",
    "betafirm = (1 / (1 + r))\n",
    "step = (num_sigma * sigma_z) / (N / 2)\n",
    "w = 0.7"
   ]
  },
  {
   "cell_type": "code",
   "execution_count": 6,
   "metadata": {
    "collapsed": true
   },
   "outputs": [],
   "source": [
    "# Call rouwen function to get z grids\n",
    "pi, z_grid = ar1.rouwen(rho, mu, step, N)\n",
    "z_grid = np.exp(z_grid)"
   ]
  },
  {
   "cell_type": "code",
   "execution_count": 7,
   "metadata": {
    "collapsed": true
   },
   "outputs": [],
   "source": [
    "# Define kgrid function"
   ]
  },
  {
   "cell_type": "code",
   "execution_count": 8,
   "metadata": {
    "collapsed": true
   },
   "outputs": [],
   "source": [
    "@numba.jit\n",
    "def kgrid_func(w):\n",
    "    \"\"\"\n",
    "    Operating profits function\n",
    "    \"\"\"\n",
    "    z = 1\n",
    "    ### Get grid points for k (capital stock)\n",
    "    dens = 5\n",
    "    # put in bounds here for the capital stock space\n",
    "    kstar = ((((1 / betafirm - 1 + delta) * ((w / alpha_l) ** (alpha_l / (1 - alpha_l)))) /\n",
    "             (alpha_k * (z ** (1 / (1 - alpha_l))))) **\n",
    "             ((1 - alpha_l) / (alpha_k + alpha_l - 1)))\n",
    "    kbar = 2*kstar\n",
    "    lb_k = 0.001\n",
    "    ub_k = kbar\n",
    "    krat = np.log(lb_k / ub_k)\n",
    "    numb = np.ceil(krat / np.log(1 - delta))\n",
    "    K = np.zeros(int(numb * dens))\n",
    "    # we'll create in a way where we pin down the upper bound - since\n",
    "    # the distance will be small near the lower bound, we'll miss that by little\n",
    "\n",
    "    for j in range(int(numb * dens)):\n",
    "        K[j] = ub_k * (1 - delta) ** (j / dens)\n",
    "    kgrid = K[::-1]\n",
    "    return kgrid"
   ]
  },
  {
   "cell_type": "code",
   "execution_count": 9,
   "metadata": {
    "collapsed": true
   },
   "outputs": [],
   "source": [
    "# Define operating profits"
   ]
  },
  {
   "cell_type": "code",
   "execution_count": 10,
   "metadata": {
    "collapsed": true
   },
   "outputs": [],
   "source": [
    "@numba.jit\n",
    "def op_profits(w):\n",
    "    \"\"\"\n",
    "    Operating profits function\n",
    "    \"\"\"\n",
    "    # operating profits, op\n",
    "    kgrid = kgrid_func(w)\n",
    "    sizek = kgrid.shape[0]\n",
    "    sizez = z_grid.shape[0]\n",
    "    op = np.zeros((sizez, sizek))\n",
    " \n",
    "    for i in range(sizez):\n",
    "            for j in range(sizek):\n",
    "                op[i,j] = ((1 - alpha_l) * ((alpha_l / w) ** (alpha_l / (1 - alpha_l))) *\n",
    "              ((kgrid[j] ** alpha_k) ** (1 / (1 - alpha_l))) * (z_grid[i] ** (1/(1 - alpha_l))))\n",
    "    \n",
    "    return op"
   ]
  },
  {
   "cell_type": "code",
   "execution_count": 11,
   "metadata": {
    "collapsed": true
   },
   "outputs": [],
   "source": [
    "# Define cost function"
   ]
  },
  {
   "cell_type": "code",
   "execution_count": 12,
   "metadata": {
    "collapsed": true
   },
   "outputs": [],
   "source": [
    "@numba.jit\n",
    "def adj_cost(w):\n",
    "    \"\"\"\n",
    "    Adjustment cost function\n",
    "    \"\"\"\n",
    "    kgrid = kgrid_func(w)\n",
    "    sizek = kgrid.shape[0]\n",
    "    cost = np.zeros((sizek, sizek))\n",
    "\n",
    "    for i in range(sizek):\n",
    "        for j in range(sizek):\n",
    "            cost[i, j] = (psi / 2) * ((kgrid[j] - ((1 - delta) * kgrid[i])) ** 2)/ kgrid[i]\n",
    "    \n",
    "    return cost"
   ]
  },
  {
   "cell_type": "code",
   "execution_count": 13,
   "metadata": {
    "collapsed": true
   },
   "outputs": [],
   "source": [
    "# Define cash flow"
   ]
  },
  {
   "cell_type": "code",
   "execution_count": 14,
   "metadata": {
    "collapsed": true
   },
   "outputs": [],
   "source": [
    "@numba.jit\n",
    "def cash_flow(w):\n",
    "    kgrid = kgrid_func(w)\n",
    "    sizek = kgrid.shape[0]\n",
    "    sizez = z_grid.shape[0]\n",
    "    op = op_profits(w)\n",
    "    cost = adj_cost(w)\n",
    "    \n",
    "    e = np.zeros((sizez, sizek, sizek))\n",
    "    for i in range(sizez):\n",
    "        for j in range(sizek):\n",
    "            for k in range(sizek):\n",
    "                e[i, j, k] = (op[i,j] - kgrid[k] + ((1 - delta) * kgrid[j]) - cost[k, j])\n",
    "    return e"
   ]
  },
  {
   "cell_type": "code",
   "execution_count": 18,
   "metadata": {
    "collapsed": true
   },
   "outputs": [],
   "source": [
    "# Define a function of VF_loop\n",
    "#@numba.jit\n",
    "def VFI_loop(w):\n",
    "    e = cash_flow(w)\n",
    "    kgrid = kgrid_func(w)\n",
    "    sizek = kgrid.shape[0]\n",
    "    sizez = z_grid.shape[0] \n",
    "    \n",
    "    VFtol = 1e-6\n",
    "    VFdist = 7.0\n",
    "    VFmaxiter = 3000\n",
    "    V = np.zeros((sizez, sizek))  # initial guess at value function\n",
    "    Vmat = np.zeros((sizez, sizek, sizek))  # initialize Vmat matrix\n",
    "    Vstore = np.zeros((sizez, sizek, VFmaxiter))  # initialize Vstore array\n",
    "    VFiter = 1\n",
    "    \n",
    "    while VFdist > VFtol and VFiter < VFmaxiter:\n",
    "        TV = V        \n",
    "        V_prime = np.dot(pi, V)\n",
    "        for i in range(sizez):  # loop over z\n",
    "            for j in range(sizek):  # loop over k\n",
    "                for k in range(sizek): # loop over k'\n",
    "                    Vmat[i, j, k] = e[i, j, k] + betafirm * V_prime[i, k]\n",
    "\n",
    "        Vstore[:, :, VFiter] = V.reshape(sizez, sizek,)  # store value function at each\n",
    "        # iteration for graphing later\n",
    "        V = Vmat.max(axis=2)  # apply max operator to Vmat (to get V(k))\n",
    "        PF = np.argmax(Vmat, axis=2)  # find the index of the optimal k'\n",
    "        Vstore[:,:, i] = V  # store V at each iteration of VFI\n",
    "        VFdist = (np.absolute(V - TV)).max()  # check distance between value\n",
    "        # function for this iteration and value function from past iteration\n",
    "        VFiter += 1\n",
    "    VF = V\n",
    "    return VF"
   ]
  },
  {
   "cell_type": "code",
   "execution_count": 16,
   "metadata": {
    "collapsed": true
   },
   "outputs": [],
   "source": [
    "### Solve the firm problem and return V and PF"
   ]
  },
  {
   "cell_type": "code",
   "execution_count": 19,
   "metadata": {},
   "outputs": [],
   "source": [
    "VF = VFI_loop(w)"
   ]
  },
  {
   "cell_type": "code",
   "execution_count": null,
   "metadata": {
    "collapsed": true
   },
   "outputs": [],
   "source": [
    "VF"
   ]
  },
  {
   "cell_type": "code",
   "execution_count": null,
   "metadata": {
    "collapsed": true
   },
   "outputs": [],
   "source": [
    "e = cash_flow(w)"
   ]
  },
  {
   "cell_type": "code",
   "execution_count": null,
   "metadata": {},
   "outputs": [],
   "source": [
    "np.shape(e)"
   ]
  },
  {
   "cell_type": "code",
   "execution_count": null,
   "metadata": {
    "collapsed": true
   },
   "outputs": [],
   "source": []
  },
  {
   "cell_type": "code",
   "execution_count": null,
   "metadata": {
    "collapsed": true
   },
   "outputs": [],
   "source": [
    "kgrid = kgrid_func(w)\n",
    "sizek = kgrid.shape[0]\n",
    "sizez = z_grid.shape[0]"
   ]
  },
  {
   "cell_type": "code",
   "execution_count": null,
   "metadata": {
    "collapsed": true
   },
   "outputs": [],
   "source": [
    "PF = VFI_loop(w)"
   ]
  },
  {
   "cell_type": "code",
   "execution_count": null,
   "metadata": {
    "collapsed": true
   },
   "outputs": [],
   "source": [
    "PF"
   ]
  },
  {
   "cell_type": "code",
   "execution_count": null,
   "metadata": {},
   "outputs": [],
   "source": [
    "### Define market clear function\n",
    "@numba.jit\n",
    "def MKclear(w):\n",
    "    \n",
    "    kgrid = kgrid_func(w)\n",
    "    \n",
    "    e = cash_flow(w)\n",
    "    \n",
    "    sizek = kgrid.shape[0]\n",
    "    sizez = z_grid.shape[0]\n",
    "\n",
    "\n",
    "    ### Collect optimal values(functions)\n",
    "    # Optimal capital stock k'\n",
    "    PF = VFI_loop(w)\n",
    "    optK = kgrid[PF]\n",
    "\n",
    "    # optimal investment I\n",
    "    optI = optK - (1 - delta) * kgrid\n",
    "\n",
    "    # optimal labor demand\n",
    "    optLD = np.zeros((sizez, sizek))\n",
    "    for i in range(sizez):\n",
    "        for j in range(sizek):\n",
    "            optLD[i,j] = (((alpha_l / w) ** (1 / (1 - alpha_l))) *\n",
    "          ((kgrid[j] ** alpha_k) ** (1 / (1 - alpha_l))) * (z_grid[i] ** (1/(1 - alpha_l))))\n",
    "\n",
    "\n",
    "    ### Find Stationary Distribution\n",
    "    Gamma = np.ones((sizez, sizek)) * (1 / (sizek * sizez))\n",
    "    SDtol = 1e-12\n",
    "    SDdist = 7\n",
    "    SDiter = 0\n",
    "    SDmaxiter = 1000\n",
    "    while SDdist > SDtol and SDmaxiter > SDiter:\n",
    "        HGamma = SD_loop(PF, Gamma, sizez, sizek)\n",
    "        SDdist = (np.absolute(HGamma - Gamma)).max()\n",
    "        Gamma = HGamma\n",
    "        SDiter += 1\n",
    "        \n",
    "    ### Find aggregate values\n",
    "    # labor demand\n",
    "    optALD = Agg(optLD, Gamma)\n",
    "\n",
    "    # Investment\n",
    "    optAI = Agg(optI, Gamma)\n",
    "\n",
    "    # Adjustment costs\n",
    "    optADJC = psi/2 * np.multiply((optI)**2, 1/kgrid)\n",
    "    optAADJC = Agg(optADJC, Gamma)\n",
    "\n",
    "    # Output\n",
    "    optY = np.multiply(np.multiply((optLD) ** alpha_l, kgrid ** alpha_k),np.transpose([z_grid]))\n",
    "    optAY = Agg(optY, Gamma)\n",
    "\n",
    "    # Consumption\n",
    "    optCON = optAY - optAI - optAADJC\n",
    "\n",
    "\n",
    "    ### Find labor supply\n",
    "    optALS = w/(h * optCON)\n",
    "\n",
    "    mkclear = abs(optALS - optALD)\n",
    "    \n",
    "    return mkclear\n",
    "    \n",
    "# Call the minimizer\n",
    "# Minimize with (truncated) Newton's method (called Newton Conjugate Gradient method)\n",
    "wage_initial = w\n",
    "GE_results = opt.minimize(MKclear,  wage_initial, method='Nelder-Mead', tol = 1e-12, options={'maxiter': 5000})"
   ]
  },
  {
   "cell_type": "code",
   "execution_count": null,
   "metadata": {
    "collapsed": true
   },
   "outputs": [],
   "source": [
    "sigma_eps = 0.213"
   ]
  },
  {
   "cell_type": "code",
   "execution_count": null,
   "metadata": {
    "collapsed": true
   },
   "outputs": [],
   "source": [
    "num_draws = 100000 # number of shocks to draw\n",
    "eps = np.random.normal(0.0, sigma_eps, size=(num_draws))"
   ]
  },
  {
   "cell_type": "code",
   "execution_count": null,
   "metadata": {},
   "outputs": [],
   "source": [
    "np.shape(eps)"
   ]
  },
  {
   "cell_type": "code",
   "execution_count": null,
   "metadata": {
    "collapsed": true
   },
   "outputs": [],
   "source": []
  }
 ],
 "metadata": {
  "kernelspec": {
   "display_name": "Python 3",
   "language": "python",
   "name": "python3"
  },
  "language_info": {
   "codemirror_mode": {
    "name": "ipython",
    "version": 3
   },
   "file_extension": ".py",
   "mimetype": "text/x-python",
   "name": "python",
   "nbconvert_exporter": "python",
   "pygments_lexer": "ipython3",
   "version": "3.6.1"
  }
 },
 "nbformat": 4,
 "nbformat_minor": 2
}
