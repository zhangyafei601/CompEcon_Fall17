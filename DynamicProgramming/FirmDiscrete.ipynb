{
 "cells": [
  {
   "cell_type": "markdown",
   "metadata": {},
   "source": [
    "# Firm Problem with Non-Convex Adjustment Costs\n",
    "### by [Jason DeBacker](http://jasondebacker.com), December 2017\n",
    "This Jupyter notebook will use discerete choice dynanic programming to solve the firm dynamics model with non-convex capital adjustment costs.\n",
    "\n",
    "\n",
    "## The firm's problem\n",
    "\n",
    "Consider our stochastic firm problem represented by the following Bellman equation:\n",
    "\n",
    "$$ V(z,k) = \\max_{k'} \\pi(z,k) - (k'-(1-\\delta)k) - c(k,k') + \\beta E_{z'|z}V(z',k') $$\n",
    "\n",
    "Suppose that the cost function, $c(k,k')$ is not convex.  In particular, assume that there is a fixed cost to investing such that:\n",
    "\n",
    "$$ c(k,k') = 1_{I\\neq 0} \\times Fk, $$\n",
    "\n",
    "where $F$ is the fixed cost to adjusting the firms captial stock.  The total fixed costs incurred are proportional to the firm's total capital stock.  So if $k'=(1-\\delta)k$, then $c(k,k')=0$ and $c(k,k')=F\\times k$ otherwise.\n",
    "\n",
    "\n",
    "## Solving this probem\n",
    "\n",
    "To solve this problem we need to consider that the firm faces a discontinuity at $I=0$.  Thus, there is not a first order condition that we could use to analyze the firm's problem (this also rules out policy function iteration as a solution method).  To deal with this, we'll set up the firm's problem as a discere choice problem.  The firms will consider - do I invest or not?  And then, if it investes, how much?\n",
    "\n",
    "To help us think about the solution, let's rewrite the Bellman equation in a way that captures the discontinuity:\n",
    "\n",
    "$$V(z,k) = max\\{V^{i}(z,k),V_{a}(z,k)\\}, $$\n",
    "\n",
    "where the superscript $i$ stands for \"inactive\" (i.e., $I=0$) and $a$ stands for active.  These values are then given by:\n",
    "\n",
    "$$ V^{i}(z,k) = \\pi(z,k) + \\beta E_{z'|z}V(z',(1-\\delta)k) $$\n",
    "\n",
    "and \n",
    "\n",
    "$$ V^{a}(z,k) = \\max_{k'} \\pi(z,k) - (k'-(1-\\delta)k) - F + \\beta E_{z'|z}V(z',k') $$\n",
    "\n",
    "We'll need to solve for the value functions: $V^{i}(z,k)$, $V^{a}(z,k)$ and $V(z,k)$, as well as the policy function $k'=h(z,k)$.  \n",
    "\n",
    "Thinking about the nature of the problem - costs only incurred if an investmet is made, we can see that there is going to be some threshold rule in this problem - if $k$ is far from some target amount, make an invetsment - and don't otherwise.\n",
    "\n",
    "To solve for these unknown functions, we'll use value function iteration.\n",
    "\n",
    "### Setting up the problem\n",
    "\n",
    "First, we need to define paramters and set up our gride space."
   ]
  },
  {
   "cell_type": "code",
   "execution_count": 29,
   "metadata": {
    "collapsed": true
   },
   "outputs": [],
   "source": [
    "# Import packages\n",
    "import numpy as np\n",
    "import matplotlib.pyplot as plt\n",
    "import os\n",
    "import time\n",
    "import numba\n",
    "import ar1_approx as ar1\n",
    "% matplotlib inline\n",
    "\n",
    "# Define parameters\n",
    "alpha_k = 0.29715\n",
    "alpha_l = 0.65\n",
    "delta = 0.154\n",
    "F = 0.02\n",
    "w = 0.7\n",
    "r = 0.04\n",
    "betafirm = (1 / (1 + r))\n",
    "sigma_eps = 0.213\n",
    "mu = 0\n",
    "rho = 0.7605\n",
    "sizez = 9\n",
    "\n",
    "# Grid for z and transition matrix\n",
    "# We will use the Rouwenhorst (1995) method to approximate a continuous\n",
    "# distribution of shocks to the AR1 process with a Markov process.\n",
    "sigma_z = sigma_eps / ((1 - rho ** 2) ** (1 / 2))\n",
    "num_sigma = 3\n",
    "step = (num_sigma * sigma_z) / (sizez / 2)\n",
    "Pi, z = ar1.rouwen(rho, mu, step, sizez)\n",
    "Pi = np.transpose(Pi)  # make so rows are where start, columns where go\n",
    "z = np.exp(z)  # because the AR(1) process was for the log of productivity\n",
    "\n",
    "# Grid for k\n",
    "dens = 5\n",
    "# put in bounds here for the capital stock space\n",
    "kstar = ((((1 / betafirm - 1 + delta) * ((w / alpha_l) **\n",
    "                                         (alpha_l / (1 - alpha_l)))) /\n",
    "         (alpha_k * (z[(sizez - 1) // 2] ** (1 / (1 - alpha_l))))) **\n",
    "         ((1 - alpha_l) / (alpha_k + alpha_l - 1)))\n",
    "kbar = 12 #kstar * 500\n",
    "lb_k = 0.001\n",
    "ub_k = kbar\n",
    "krat = np.log(lb_k / ub_k)\n",
    "numb = np.ceil(krat / np.log(1 - delta))\n",
    "K = np.empty(int(numb * dens))\n",
    "for j in range(int(numb * dens)):\n",
    "    K[j] = ub_k * (1 - delta) ** (j / dens)\n",
    "kvec = K[::-1]\n",
    "sizek = kvec.shape[0]"
   ]
  },
  {
   "cell_type": "markdown",
   "metadata": {},
   "source": [
    "Next, we'll define some objects that will be useful in our VFI solution.  For example, we can compute the per period flows to the firm, calling them $e(z,k,k')$:"
   ]
  },
  {
   "cell_type": "code",
   "execution_count": 30,
   "metadata": {},
   "outputs": [],
   "source": [
    "# initialize array of per period flows - separately for active and inactive\n",
    "e_a = np.empty((sizez, sizek, sizek))\n",
    "e_i = np.empty((sizez, sizek))\n",
    "for i in range(sizez):  # loop over z\n",
    "    for j in range(sizek):  # loop over k\n",
    "        op = ((1 - alpha_l) * ((alpha_l / w) ** (alpha_l / (1 - alpha_l))) *\n",
    "                ((z[i] * kvec[j] ** alpha_k) ** (1 / (1 - alpha_l))))\n",
    "        e_i[i, j] = op\n",
    "        for m in range(sizek):  # loop over k'\n",
    "            e_a[i, j, m] = (op - kvec[m] + ((1 - delta) * kvec[j]) -\n",
    "                            (F * kvec[j]))"
   ]
  },
  {
   "cell_type": "markdown",
   "metadata": {},
   "source": [
    "Before getting to our Bellman operator, let's define a function that will be useful in that operator.  This function simply creates the value of the first at each combination of state and choice of control variable:"
   ]
  },
  {
   "cell_type": "code",
   "execution_count": 31,
   "metadata": {
    "collapsed": true
   },
   "outputs": [],
   "source": [
    "@numba.jit\n",
    "def create_Vmat(EV, e, betafirm, Pi, sizez, sizek, Vmat):\n",
    "    '''\n",
    "    This function loops over the state and control variables, operating on the\n",
    "    value function to update with the last iteration's value function\n",
    "    '''\n",
    "    for i in range(sizez):  # loop over z\n",
    "        for j in range(sizek):  # loop over k\n",
    "            for m in range(sizek):  # loop over k'\n",
    "                Vmat[i, j, m] = e[i, j, m] + betafirm * EV[i, m]\n",
    "\n",
    "    return Vmat"
   ]
  },
  {
   "cell_type": "markdown",
   "metadata": {},
   "source": [
    "Finally, we'll set up our VFI loop:"
   ]
  },
  {
   "cell_type": "code",
   "execution_count": 32,
   "metadata": {},
   "outputs": [
    {
     "name": "stdout",
     "output_type": "stream",
     "text": [
      "Value function converged after this many iterations: 366\n",
      "VFI took  1.1520770000000002  seconds to solve\n"
     ]
    }
   ],
   "source": [
    "# VFI \n",
    "VFtol = 1e-6\n",
    "VFdist = 7.0\n",
    "VFmaxiter = 3000\n",
    "V = np.zeros((sizez, sizek))  # initial guess at value function\n",
    "EV_i = np.empty((sizez, sizek))  # initialize EV_i\n",
    "Vmat = np.empty((sizez, sizek, sizek))  # initialize Vmat matrix\n",
    "Vstore = np.empty((sizez, sizek, VFmaxiter))  # initialize Vstore array\n",
    "VFiter = 1\n",
    "start_time = time.clock()\n",
    "while VFdist > VFtol and VFiter < VFmaxiter:\n",
    "    TV = V\n",
    "    EV = np.dot(Pi, V)  # expected VF if change capital (expectation over z')\n",
    "    EV_i[:, dens:] = EV[:, :sizek - dens]\n",
    "    EV_i[:, :dens] = np.tile(np.reshape(EV[:, 0], (sizez, 1)), (1, dens))\n",
    "    Vmat = create_Vmat(EV, e_a, betafirm, Pi, sizez, sizek, Vmat)\n",
    "    V_i = e_i + betafirm * EV_i\n",
    "    V_a = Vmat.max(axis=2)  # apply max operator to Vmat (to get V(k))\n",
    "    PF_continuous = np.argmax(Vmat, axis=2)\n",
    "    V = np.maximum(V_a, V_i)\n",
    "    Vstore[:, :, VFiter] = V.reshape(sizez, sizek)  # store value function at\n",
    "    # each iteration for graphing later\n",
    "    VFdist = (np.absolute(V - TV)).max()  # check distance between value\n",
    "    # function for this iteration and value function from past iteration\n",
    "    VFiter += 1\n",
    "\n",
    "VFI_time = time.clock() - start_time\n",
    "if VFiter < VFmaxiter:\n",
    "    print('Value function converged after this many iterations:', VFiter)\n",
    "else:\n",
    "    print('Value function did not converge')\n",
    "print('VFI took ', VFI_time, ' seconds to solve')\n",
    "\n",
    "\n",
    "VF = V  # solution to the functional equation\n",
    "\n",
    "\n",
    "# creating discrete choice policy function\n",
    "PF_discrete = np.empty((sizez, sizek))\n",
    "for i in range(sizez):\n",
    "    for j in range(sizek):\n",
    "        if V_i[i, j] >= V_a[i, j]:\n",
    "            PF_discrete[i, j] = 0  # policy function = 0 if no change\n",
    "            PF_continuous[i, j] = np.max(j-dens, 0)\n",
    "        elif V_a[i, j] > V_i[i, j]:\n",
    "            PF_discrete[i, j] = 1  # policy function = 1 if change\n",
    "            PF_continuous[i, j] = PF_continuous[i, j]"
   ]
  },
  {
   "cell_type": "markdown",
   "metadata": {},
   "source": [
    "## Decision rules\n",
    "\n",
    "Let's plot the firm's optimal investment rate to see if there is the \"threshold\" rule we'd expect."
   ]
  },
  {
   "cell_type": "code",
   "execution_count": 33,
   "metadata": {},
   "outputs": [],
   "source": [
    "# Determine policy functions for k' and I\n",
    "optK = kvec[PF_continuous]\n",
    "optI = optK - (1 - delta) * kvec"
   ]
  },
  {
   "cell_type": "code",
   "execution_count": 34,
   "metadata": {},
   "outputs": [
    {
     "data": {
      "text/plain": [
       "<matplotlib.legend.Legend at 0x1a30a68da0>"
      ]
     },
     "execution_count": 34,
     "metadata": {},
     "output_type": "execute_result"
    },
    {
     "data": {
      "image/png": "[encoded data removed]",
      "text/plain": [
       "<matplotlib.figure.Figure at 0x1a2c097e80>"
      ]
     },
     "metadata": {},
     "output_type": "display_data"
    }
   ],
   "source": [
    "# Plot investment rule as a function of productivity\n",
    "fig, ax = plt.subplots()\n",
    "ind = np.argmin(np.absolute(kvec - kstar))  # find where kstar is in grid\n",
    "ax.plot(z, optI[:, ind - dens * 3] / kvec[ind - dens * 3], 'k', label='k = ' +\n",
    "        str(kvec[ind - dens * 3]))\n",
    "ax.plot(z, optI[:, ind] / kvec[ind], 'k:', label='k = ' + str(kvec[ind]))\n",
    "ax.plot(z, optI[:, ind + dens * 3] / kvec[ind + dens * 3], 'k--', label='k = '\n",
    "        + str(kvec[ind + dens * 3]))\n",
    "plt.xlabel('Productivity')\n",
    "plt.ylabel('Optimal Investment Rate')\n",
    "plt.title('Policy Function, Investment - stochastic firm w/ adjustment ' +\n",
    "          'costs')\n",
    "plt.legend()"
   ]
  },
  {
   "cell_type": "code",
   "execution_count": null,
   "metadata": {
    "collapsed": true
   },
   "outputs": [],
   "source": []
  }
 ],
 "metadata": {
  "kernelspec": {
   "display_name": "Python 3",
   "language": "python",
   "name": "python3"
  },
  "language_info": {
   "codemirror_mode": {
    "name": "ipython",
    "version": 3
   },
   "file_extension": ".py",
   "mimetype": "text/x-python",
   "name": "python",
   "nbconvert_exporter": "python",
   "pygments_lexer": "ipython3",
   "version": "3.6.3"
  }
 },
 "nbformat": 4,
 "nbformat_minor": 2
}
