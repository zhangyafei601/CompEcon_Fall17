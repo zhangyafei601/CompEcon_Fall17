{
 "cells": [
  {
   "cell_type": "code",
   "execution_count": 1,
   "metadata": {},
   "outputs": [
    {
     "data": {
      "text/html": [
       "<div>\n",
       "<style>\n",
       "    .dataframe thead tr:only-child th {\n",
       "        text-align: right;\n",
       "    }\n",
       "\n",
       "    .dataframe thead th {\n",
       "        text-align: left;\n",
       "    }\n",
       "\n",
       "    .dataframe tbody tr th {\n",
       "        vertical-align: top;\n",
       "    }\n",
       "</style>\n",
       "<table border=\"1\" class=\"dataframe\">\n",
       "  <thead>\n",
       "    <tr style=\"text-align: right;\">\n",
       "      <th></th>\n",
       "      <th>All Transactions Announced Date</th>\n",
       "      <th>State of Incorporation [Target/Issuer]</th>\n",
       "      <th>Aggregated Amount Raised ($USDmm, Historical rate)</th>\n",
       "      <th>Round Number</th>\n",
       "    </tr>\n",
       "  </thead>\n",
       "  <tbody>\n",
       "    <tr>\n",
       "      <th>0</th>\n",
       "      <td>2006-12-31</td>\n",
       "      <td>California</td>\n",
       "      <td>60</td>\n",
       "      <td>3</td>\n",
       "    </tr>\n",
       "    <tr>\n",
       "      <th>1</th>\n",
       "      <td>2006-12-31</td>\n",
       "      <td>Ohio</td>\n",
       "      <td>1</td>\n",
       "      <td>1</td>\n",
       "    </tr>\n",
       "    <tr>\n",
       "      <th>2</th>\n",
       "      <td>2006-12-31</td>\n",
       "      <td>Delaware</td>\n",
       "      <td>296.3</td>\n",
       "      <td>3</td>\n",
       "    </tr>\n",
       "    <tr>\n",
       "      <th>3</th>\n",
       "      <td>2006-12-31</td>\n",
       "      <td>Delaware</td>\n",
       "      <td>0.38</td>\n",
       "      <td>1</td>\n",
       "    </tr>\n",
       "    <tr>\n",
       "      <th>4</th>\n",
       "      <td>2006-12-31</td>\n",
       "      <td>Delaware</td>\n",
       "      <td>2</td>\n",
       "      <td>1</td>\n",
       "    </tr>\n",
       "  </tbody>\n",
       "</table>\n",
       "</div>"
      ],
      "text/plain": [
       "  All Transactions Announced Date State of Incorporation [Target/Issuer]  \\\n",
       "0                      2006-12-31                             California   \n",
       "1                      2006-12-31                                   Ohio   \n",
       "2                      2006-12-31                               Delaware   \n",
       "3                      2006-12-31                               Delaware   \n",
       "4                      2006-12-31                               Delaware   \n",
       "\n",
       "  Aggregated Amount Raised ($USDmm, Historical rate) Round Number  \n",
       "0                                                 60            3  \n",
       "1                                                  1            1  \n",
       "2                                              296.3            3  \n",
       "3                                               0.38            1  \n",
       "4                                                  2            1  "
      ]
     },
     "execution_count": 1,
     "metadata": {},
     "output_type": "execute_result"
    }
   ],
   "source": [
    "import numpy as np\n",
    "import pandas as pd\n",
    "import matplotlib.pyplot as plt\n",
    "import matplotlib.style as style\n",
    "import seaborn as sns\n",
    "%matplotlib inline\n",
    "\n",
    "# Read in data from Excel workbook\n",
    "ps5_data = pd.read_excel('all_prvtplace.xlsx',sheetname=\"Sheet1\", header=0, skiprows=7, usecols=(0, 12, 13, 15))\n",
    "ps5_data.head(n=5)"
   ]
  },
  {
   "cell_type": "code",
   "execution_count": 2,
   "metadata": {
    "collapsed": true
   },
   "outputs": [],
   "source": [
    "ps5_data = ps5_data.rename(columns={'All Transactions Announced Date':'date_announce', \n",
    "                                   'State of Incorporation [Target/Issuer]': 'issuer_state', \n",
    "                                   'Aggregated Amount Raised ($USDmm, Historical rate)': 'raised_amt',\n",
    "                                   'Round Number': 'round_num'})"
   ]
  },
  {
   "cell_type": "code",
   "execution_count": 9,
   "metadata": {},
   "outputs": [
    {
     "name": "stdout",
     "output_type": "stream",
     "text": [
      "date_announce    datetime64[ns]\n",
      "issuer_state             object\n",
      "raised_amt              float64\n",
      "round_num                 int32\n",
      "year                      int64\n",
      "dtype: object\n"
     ]
    }
   ],
   "source": [
    "print(ps5_data.dtypes)"
   ]
  },
  {
   "cell_type": "code",
   "execution_count": 8,
   "metadata": {},
   "outputs": [],
   "source": [
    "ps5_data['round_num'] = ps5_data['round_num'].astype(int)"
   ]
  },
  {
   "cell_type": "code",
   "execution_count": 10,
   "metadata": {},
   "outputs": [
    {
     "data": {
      "text/html": [
       "<div>\n",
       "<style>\n",
       "    .dataframe thead tr:only-child th {\n",
       "        text-align: right;\n",
       "    }\n",
       "\n",
       "    .dataframe thead th {\n",
       "        text-align: left;\n",
       "    }\n",
       "\n",
       "    .dataframe tbody tr th {\n",
       "        vertical-align: top;\n",
       "    }\n",
       "</style>\n",
       "<table border=\"1\" class=\"dataframe\">\n",
       "  <thead>\n",
       "    <tr style=\"text-align: right;\">\n",
       "      <th></th>\n",
       "      <th>date_announce</th>\n",
       "      <th>issuer_state</th>\n",
       "      <th>raised_amt</th>\n",
       "      <th>round_num</th>\n",
       "      <th>year</th>\n",
       "    </tr>\n",
       "  </thead>\n",
       "  <tbody>\n",
       "    <tr>\n",
       "      <th>0</th>\n",
       "      <td>2006-12-31</td>\n",
       "      <td>California</td>\n",
       "      <td>60.00</td>\n",
       "      <td>3</td>\n",
       "      <td>2006</td>\n",
       "    </tr>\n",
       "    <tr>\n",
       "      <th>1</th>\n",
       "      <td>2006-12-31</td>\n",
       "      <td>Ohio</td>\n",
       "      <td>1.00</td>\n",
       "      <td>1</td>\n",
       "      <td>2006</td>\n",
       "    </tr>\n",
       "    <tr>\n",
       "      <th>2</th>\n",
       "      <td>2006-12-31</td>\n",
       "      <td>Delaware</td>\n",
       "      <td>296.30</td>\n",
       "      <td>3</td>\n",
       "      <td>2006</td>\n",
       "    </tr>\n",
       "    <tr>\n",
       "      <th>3</th>\n",
       "      <td>2006-12-31</td>\n",
       "      <td>Delaware</td>\n",
       "      <td>0.38</td>\n",
       "      <td>1</td>\n",
       "      <td>2006</td>\n",
       "    </tr>\n",
       "    <tr>\n",
       "      <th>4</th>\n",
       "      <td>2006-12-31</td>\n",
       "      <td>Delaware</td>\n",
       "      <td>2.00</td>\n",
       "      <td>1</td>\n",
       "      <td>2006</td>\n",
       "    </tr>\n",
       "  </tbody>\n",
       "</table>\n",
       "</div>"
      ],
      "text/plain": [
       "  date_announce issuer_state  raised_amt  round_num  year\n",
       "0    2006-12-31   California       60.00          3  2006\n",
       "1    2006-12-31         Ohio        1.00          1  2006\n",
       "2    2006-12-31     Delaware      296.30          3  2006\n",
       "3    2006-12-31     Delaware        0.38          1  2006\n",
       "4    2006-12-31     Delaware        2.00          1  2006"
      ]
     },
     "execution_count": 10,
     "metadata": {},
     "output_type": "execute_result"
    }
   ],
   "source": [
    "ps5_data.head(5)"
   ]
  },
  {
   "cell_type": "code",
   "execution_count": 4,
   "metadata": {},
   "outputs": [
    {
     "name": "stderr",
     "output_type": "stream",
     "text": [
      "C:\\Users\\yafei\\Anaconda3\\lib\\site-packages\\pandas\\core\\ops.py:798: FutureWarning: elementwise comparison failed; returning scalar instead, but in the future will perform elementwise comparison\n",
      "  result = getattr(x, name)(y)\n"
     ]
    },
    {
     "ename": "TypeError",
     "evalue": "invalid type comparison",
     "output_type": "error",
     "traceback": [
      "\u001b[1;31m---------------------------------------------------------------------------\u001b[0m",
      "\u001b[1;31mTypeError\u001b[0m                                 Traceback (most recent call last)",
      "\u001b[1;32m<ipython-input-4-2a76d573b030>\u001b[0m in \u001b[0;36m<module>\u001b[1;34m()\u001b[0m\n\u001b[0;32m      4\u001b[0m \u001b[0mps5_data\u001b[0m\u001b[1;33m[\u001b[0m\u001b[1;34m'year'\u001b[0m\u001b[1;33m]\u001b[0m \u001b[1;33m=\u001b[0m \u001b[0mps5_data\u001b[0m\u001b[1;33m[\u001b[0m\u001b[1;34m'date_announce'\u001b[0m\u001b[1;33m]\u001b[0m\u001b[1;33m.\u001b[0m\u001b[0mdt\u001b[0m\u001b[1;33m.\u001b[0m\u001b[0myear\u001b[0m\u001b[1;33m\u001b[0m\u001b[0m\n\u001b[0;32m      5\u001b[0m \u001b[0mps5_data\u001b[0m \u001b[1;33m=\u001b[0m \u001b[0mps5_data\u001b[0m\u001b[1;33m[\u001b[0m\u001b[1;33m(\u001b[0m\u001b[0mps5_data\u001b[0m\u001b[1;33m.\u001b[0m\u001b[0mraised_amt\u001b[0m \u001b[1;33m>\u001b[0m\u001b[1;36m0\u001b[0m\u001b[1;33m)\u001b[0m\u001b[1;33m]\u001b[0m\u001b[1;33m\u001b[0m\u001b[0m\n\u001b[1;32m----> 6\u001b[1;33m \u001b[0mps5_data\u001b[0m \u001b[1;33m=\u001b[0m \u001b[0mps5_data\u001b[0m\u001b[1;33m[\u001b[0m\u001b[1;33m(\u001b[0m\u001b[0mps5_data\u001b[0m\u001b[1;33m.\u001b[0m\u001b[0mround_num\u001b[0m \u001b[1;33m!=\u001b[0m \u001b[1;34m'--'\u001b[0m\u001b[1;33m)\u001b[0m\u001b[1;33m]\u001b[0m\u001b[1;33m\u001b[0m\u001b[0m\n\u001b[0m",
      "\u001b[1;32m~\\Anaconda3\\lib\\site-packages\\pandas\\core\\ops.py\u001b[0m in \u001b[0;36mwrapper\u001b[1;34m(self, other, axis)\u001b[0m\n\u001b[0;32m    859\u001b[0m \u001b[1;33m\u001b[0m\u001b[0m\n\u001b[0;32m    860\u001b[0m             \u001b[1;32mwith\u001b[0m \u001b[0mnp\u001b[0m\u001b[1;33m.\u001b[0m\u001b[0merrstate\u001b[0m\u001b[1;33m(\u001b[0m\u001b[0mall\u001b[0m\u001b[1;33m=\u001b[0m\u001b[1;34m'ignore'\u001b[0m\u001b[1;33m)\u001b[0m\u001b[1;33m:\u001b[0m\u001b[1;33m\u001b[0m\u001b[0m\n\u001b[1;32m--> 861\u001b[1;33m                 \u001b[0mres\u001b[0m \u001b[1;33m=\u001b[0m \u001b[0mna_op\u001b[0m\u001b[1;33m(\u001b[0m\u001b[0mvalues\u001b[0m\u001b[1;33m,\u001b[0m \u001b[0mother\u001b[0m\u001b[1;33m)\u001b[0m\u001b[1;33m\u001b[0m\u001b[0m\n\u001b[0m\u001b[0;32m    862\u001b[0m             \u001b[1;32mif\u001b[0m \u001b[0mis_scalar\u001b[0m\u001b[1;33m(\u001b[0m\u001b[0mres\u001b[0m\u001b[1;33m)\u001b[0m\u001b[1;33m:\u001b[0m\u001b[1;33m\u001b[0m\u001b[0m\n\u001b[0;32m    863\u001b[0m                 raise TypeError('Could not compare %s type with Series' %\n",
      "\u001b[1;32m~\\Anaconda3\\lib\\site-packages\\pandas\\core\\ops.py\u001b[0m in \u001b[0;36mna_op\u001b[1;34m(x, y)\u001b[0m\n\u001b[0;32m    798\u001b[0m                     \u001b[0mresult\u001b[0m \u001b[1;33m=\u001b[0m \u001b[0mgetattr\u001b[0m\u001b[1;33m(\u001b[0m\u001b[0mx\u001b[0m\u001b[1;33m,\u001b[0m \u001b[0mname\u001b[0m\u001b[1;33m)\u001b[0m\u001b[1;33m(\u001b[0m\u001b[0my\u001b[0m\u001b[1;33m)\u001b[0m\u001b[1;33m\u001b[0m\u001b[0m\n\u001b[0;32m    799\u001b[0m                 \u001b[1;32mif\u001b[0m \u001b[0mresult\u001b[0m \u001b[1;32mis\u001b[0m \u001b[0mNotImplemented\u001b[0m\u001b[1;33m:\u001b[0m\u001b[1;33m\u001b[0m\u001b[0m\n\u001b[1;32m--> 800\u001b[1;33m                     \u001b[1;32mraise\u001b[0m \u001b[0mTypeError\u001b[0m\u001b[1;33m(\u001b[0m\u001b[1;34m\"invalid type comparison\"\u001b[0m\u001b[1;33m)\u001b[0m\u001b[1;33m\u001b[0m\u001b[0m\n\u001b[0m\u001b[0;32m    801\u001b[0m             \u001b[1;32mexcept\u001b[0m \u001b[0mAttributeError\u001b[0m\u001b[1;33m:\u001b[0m\u001b[1;33m\u001b[0m\u001b[0m\n\u001b[0;32m    802\u001b[0m                 \u001b[0mresult\u001b[0m \u001b[1;33m=\u001b[0m \u001b[0mop\u001b[0m\u001b[1;33m(\u001b[0m\u001b[0mx\u001b[0m\u001b[1;33m,\u001b[0m \u001b[0my\u001b[0m\u001b[1;33m)\u001b[0m\u001b[1;33m\u001b[0m\u001b[0m\n",
      "\u001b[1;31mTypeError\u001b[0m: invalid type comparison"
     ]
    }
   ],
   "source": [
    "# Sample selection and variable definition\n",
    "ps5_data['raised_amt'] = pd.to_numeric(ps5_data['raised_amt'], errors='coerce')\n",
    "ps5_data['round_num'] = pd.to_numeric(ps5_data['round_num'], errors='coerce')\n",
    "ps5_data['year'] = ps5_data['date_announce'].dt.year\n",
    "ps5_data = ps5_data[(ps5_data.raised_amt >0)]"
   ]
  },
  {
   "cell_type": "code",
   "execution_count": null,
   "metadata": {
    "collapsed": true
   },
   "outputs": [],
   "source": [
    "# compute year level data\n",
    "year_ps5 = pd.DataFrame({'raised_amt' : ps5_data.groupby('year').apply(lambda x: np.sum(x['raised_amt'])),\n",
    "                        'count': ps5_data.groupby('year').apply(lambda x: np.ma.count(x['raised_amt']))})"
   ]
  },
  {
   "cell_type": "code",
   "execution_count": null,
   "metadata": {},
   "outputs": [],
   "source": [
    "year_ps5.head(5)"
   ]
  },
  {
   "cell_type": "code",
   "execution_count": null,
   "metadata": {},
   "outputs": [],
   "source": [
    "print(year_ps5.dtypes)"
   ]
  },
  {
   "cell_type": "code",
   "execution_count": null,
   "metadata": {},
   "outputs": [],
   "source": [
    "year_ps5.iloc[:, 1]"
   ]
  },
  {
   "cell_type": "code",
   "execution_count": null,
   "metadata": {},
   "outputs": [],
   "source": [
    "# Plot figure 1\n",
    "plt.style.use('ggplot')\n",
    "fig1, ax1 = plt.subplots()\n",
    "ax2 = ax1.twinx()\n",
    "\n",
    "ax1.set(title='Private Placement Across Years', xlabel='Year') # plot title, axis labels\n",
    "ax1.axhline(y = 0, color = 'black', linewidth = 1.3, alpha = .7)\n",
    "ax1.axvline(x = 1996, color='k', linestyle='--')\n",
    "ax1.annotate('This line\\n denotes\\n year 1996\\n when NSMIA\\n is effective', xy=(1996,80000),\n",
    "             arrowprops=dict(facecolor='black', shrink=0.05), xytext=(1990, 70000))\n",
    "\n",
    "# Try to define a function to plot the following two figures\n",
    "ax1.grid(False)\n",
    "ax1.xaxis.grid(True)\n",
    "ax1.plot(year_ps5.index, year_ps5['raised_amt'], 'b')\n",
    "# Make the y-axis label, ticks and tick labels match the line color.\n",
    "ax1.set_ylabel('Million Dollars', color='b')\n",
    "ax1.tick_params('y', colors='b')\n",
    "\n",
    "\n",
    "ax2.grid(False)\n",
    "ax2.xaxis.grid(True)\n",
    "ax2.plot(year_ps5.index, year_ps5['count'], 'r')\n",
    "ax2.set_ylabel('Number', color='r')\n",
    "ax2.tick_params('y', colors='r')\n",
    "\n",
    "plt.show()"
   ]
  },
  {
   "cell_type": "code",
   "execution_count": null,
   "metadata": {},
   "outputs": [],
   "source": [
    "ps5_data['round_num'].astype(int)"
   ]
  },
  {
   "cell_type": "code",
   "execution_count": null,
   "metadata": {
    "collapsed": true
   },
   "outputs": [],
   "source": [
    "# Figure 2\n",
    "# Select first three rounds to compare across years\n",
    "rd_ps5 = ps5_data[(ps5_data['round_num'] <= 3)].copy()"
   ]
  },
  {
   "cell_type": "code",
   "execution_count": null,
   "metadata": {},
   "outputs": [],
   "source": [
    "rd_ps5.head(5)"
   ]
  },
  {
   "cell_type": "code",
   "execution_count": null,
   "metadata": {},
   "outputs": [],
   "source": [
    "rd_ps5 = rd_ps5[(ps5_data.round_num != '-')]"
   ]
  },
  {
   "cell_type": "code",
   "execution_count": null,
   "metadata": {},
   "outputs": [],
   "source": [
    "rd_ps5['round_num'].astype(int)"
   ]
  },
  {
   "cell_type": "code",
   "execution_count": null,
   "metadata": {
    "collapsed": true
   },
   "outputs": [],
   "source": [
    "year_rd_ps5 = pd.DataFrame({'raised_amt' : rd_ps5.groupby(['year', 'round_num']).apply(lambda x: np.sum(x['raised_amt'])),\n",
    "                        'count': rd_ps5.groupby(['year', 'round_num']).apply(lambda x: np.ma.count(x['raised_amt']))})"
   ]
  },
  {
   "cell_type": "code",
   "execution_count": null,
   "metadata": {
    "collapsed": true
   },
   "outputs": [],
   "source": [
    "year_rd_ps5['year'] = year_rd_ps5.index.get_level_values('year')\n",
    "year_rd_ps5['round_num'] = year_rd_ps5.index.get_level_values('round_num')\n",
    "year_rd_ps5 = year_rd_ps5.reset_index(drop = True)"
   ]
  },
  {
   "cell_type": "code",
   "execution_count": null,
   "metadata": {},
   "outputs": [],
   "source": [
    "year_rd_ps5.pivot(index = 'year', columns = 'round_num', values='count').plot(kind=\"bar\")\n",
    "plt.xlabel('Year')\n",
    "plt.ylabel('Number')\n",
    "plt.title('Number of Private Placements for each round by Year')\n",
    "plt.show"
   ]
  },
  {
   "cell_type": "code",
   "execution_count": null,
   "metadata": {
    "collapsed": true
   },
   "outputs": [],
   "source": [
    "# Figure 3\n",
    "# Drop observations with missing state\n",
    "ps5_data = ps5_data[(ps5_data.issuer_state != '-')]"
   ]
  },
  {
   "cell_type": "code",
   "execution_count": null,
   "metadata": {
    "collapsed": true
   },
   "outputs": [],
   "source": []
  },
  {
   "cell_type": "code",
   "execution_count": null,
   "metadata": {
    "collapsed": true
   },
   "outputs": [],
   "source": [
    "ps5_data['dummy'] = ((ps5_data['issuer_state'] == 'Arizona') | (ps5_data['issuer_state'] == 'California') |\n",
    "                    (ps5_data['issuer_state'] == 'Florida') |(ps5_data['issuer_state'] == 'Georgia') |\n",
    "                    (ps5_data['issuer_state'] == 'Illinois') |(ps5_data['issuer_state'] == 'Louisiana') |\n",
    "                    (ps5_data['issuer_state'] == 'New York') |(ps5_data['issuer_state'] == 'North Dakota') |\n",
    "                    (ps5_data['issuer_state'] == 'Ohio') |(ps5_data['issuer_state'] == 'Tennessee') |\n",
    "                    (ps5_data['issuer_state'] == 'Texas')).astype(int)"
   ]
  },
  {
   "cell_type": "code",
   "execution_count": null,
   "metadata": {
    "collapsed": true
   },
   "outputs": [],
   "source": [
    "dummy_ps5 = pd.DataFrame({'raised_amt' : ps5_data.groupby(['year', 'dummy']).apply(lambda x: np.sum(x['raised_amt'])),\n",
    "                        'count': ps5_data.groupby(['year', 'dummy']).apply(lambda x: np.ma.count(x['raised_amt']))})"
   ]
  },
  {
   "cell_type": "code",
   "execution_count": null,
   "metadata": {
    "collapsed": true
   },
   "outputs": [],
   "source": [
    "dummy_ps5['year'] = dummy_ps5.index.get_level_values('year')\n",
    "dummy_ps5['dummy'] = dummy_ps5.index.get_level_values('dummy')\n",
    "dummy_ps5 = dummy_ps5.reset_index(drop = True)"
   ]
  },
  {
   "cell_type": "code",
   "execution_count": null,
   "metadata": {},
   "outputs": [],
   "source": [
    "dummy_ps5.pivot(index = 'year', columns = 'dummy', values='count').plot(kind=\"bar\")\n",
    "plt.xlabel('Year')\n",
    "plt.ylabel('Number')\n",
    "plt.title('Number of Private Placements for each round by Year')\n",
    "plt.show"
   ]
  },
  {
   "cell_type": "code",
   "execution_count": null,
   "metadata": {
    "collapsed": true
   },
   "outputs": [],
   "source": []
  },
  {
   "cell_type": "code",
   "execution_count": null,
   "metadata": {
    "collapsed": true
   },
   "outputs": [],
   "source": [
    "# Create state level data\n",
    "state_ps5 = pd.DataFrame({'raised_amt' : ps5_data.groupby('issuer_state').apply(lambda x: np.sum(x['raised_amt'])),\n",
    "                        'count': ps5_data.groupby('issuer_state').apply(lambda x: np.ma.count(x['raised_amt']))})"
   ]
  },
  {
   "cell_type": "code",
   "execution_count": null,
   "metadata": {},
   "outputs": [],
   "source": [
    "state_ps5"
   ]
  },
  {
   "cell_type": "code",
   "execution_count": null,
   "metadata": {
    "collapsed": true
   },
   "outputs": [],
   "source": [
    "state_ps5['issuer_state'] = state_ps5.index.get_level_values('issuer_state')\n",
    "state_ps5 = state_ps5.reset_index(drop = True)\n",
    "state_ps5['count'] = np.log(1 + state_ps5['count'])\n",
    "# Delaware has the biggest counts which is many times larger than the second one\n",
    "# So if plot by original value, the color on the map is not differentiable,\n",
    "# convertting to log value solves this issue"
   ]
  },
  {
   "cell_type": "code",
   "execution_count": null,
   "metadata": {},
   "outputs": [],
   "source": [
    "import matplotlib as mpl\n",
    "from mpl_toolkits.basemap import Basemap as Basemap\n",
    "from matplotlib.colors import rgb2hex\n",
    "from matplotlib.patches import Polygon\n",
    "from matplotlib.colors import Normalize\n",
    "from matplotlib.colorbar import ColorbarBase\n",
    "\n",
    "# Lambert Conformal map of U.S. states\n",
    "m = Basemap(llcrnrlon=-121,llcrnrlat=20,urcrnrlon=-62,urcrnrlat=51,\n",
    "    projection='lcc',lat_1=32,lat_2=45,lon_0=-95)\n",
    "\n",
    "# draw state boundaries.\n",
    "# data from U.S Census Bureau\n",
    "# https://www.census.gov/cgi-bin/geo/shapefiles/index.php?year=2010&layergroup=States+%28and+equivalent%29\n",
    "shp_info = m.readshapefile('data/tl_2010_us_state00',name='states',drawbounds=True)\n",
    "# choose a color for each state based on population density.\n",
    "colors={}\n",
    "statenames=[]\n",
    "cmap = plt.cm.Reds # use 'Reds' colormap\n",
    "vmin = state_ps5['count'].min() * 0.95\n",
    "vmax = state_ps5['count'].max() * 1.05 # set range.\n",
    "for shapedict in m.states_info:\n",
    "    statename = shapedict['NAME00']\n",
    "    # skip DC and Puerto Rico.\n",
    "    if statename not in ['District of Columbia','Puerto Rico']:\n",
    "        count = float(state_ps5[state_ps5['issuer_state'] == statename]['count'].values)\n",
    "        # calling colormap with value between 0 and 1 returns\n",
    "        # rgba value. \n",
    "        colors[statename] = cmap(((count - vmin) / (vmax - vmin)))[:3]\n",
    "    statenames.append(statename)\n",
    "# cycle through state names, color each one.\n",
    "ax = plt.gca() # get current axes instance\n",
    "fig = plt.gcf()\n",
    "for nshape,seg in enumerate(m.states):\n",
    "    # skip DC and Puerto Rico.\n",
    "    if statenames[nshape] not in ['Puerto Rico', 'District of Columbia']:\n",
    "    # Offset Alaska and Hawaii to the lower-left corner. \n",
    "        if statenames[nshape] == 'Alaska':\n",
    "        # Alaska is too big. Scale it down to 35% first, then transate it. \n",
    "            seg = list(map(lambda x_y: (0.35*x_y[0] + 1100000, 0.35*x_y[1]-1300000), seg))\n",
    "        if statenames[nshape] == 'Hawaii':\n",
    "            seg = list(map(lambda x_y: (x_y[0] + 5200000, x_y[1] - 1400000), seg))\n",
    "        color = rgb2hex(colors[statenames[nshape]]) \n",
    "        poly = Polygon(seg,facecolor=color,edgecolor=color)\n",
    "        ax.add_patch(poly)\n",
    "        \n",
    "plt.title('Private Placement Across States')\n",
    "# construct custom colorbar\n",
    "data_min = state_ps5['count'].min()\n",
    "data_max = state_ps5['count'].max()\n",
    "norm = Normalize(vmin=data_min, vmax=data_max)\n",
    "cax = fig.add_axes([0.17, 0.01, 0.7, 0.05])\n",
    "cb = ColorbarBase(cax, cmap=cmap, norm=norm, orientation='horizontal')\n",
    "cb.ax.set_xlabel('Number of Private Placement')\n",
    "plt.show()"
   ]
  },
  {
   "cell_type": "code",
   "execution_count": null,
   "metadata": {
    "collapsed": true
   },
   "outputs": [],
   "source": []
  }
 ],
 "metadata": {
  "kernelspec": {
   "display_name": "Python 3",
   "language": "python",
   "name": "python3"
  },
  "language_info": {
   "codemirror_mode": {
    "name": "ipython",
    "version": 3
   },
   "file_extension": ".py",
   "mimetype": "text/x-python",
   "name": "python",
   "nbconvert_exporter": "python",
   "pygments_lexer": "ipython3",
   "version": "3.6.1"
  }
 },
 "nbformat": 4,
 "nbformat_minor": 2
}
