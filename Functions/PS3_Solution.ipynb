{
 "cells": [
  {
   "cell_type": "markdown",
   "metadata": {},
   "source": [
    "Read in PSID data and clean it up."
   ]
  },
  {
   "cell_type": "code",
   "execution_count": 1,
   "metadata": {
    "collapsed": false
   },
   "outputs": [],
   "source": [
    "import pandas as pd\n",
    "import numpy as np\n",
    "\n",
    "# read in data - keeping only variabes of interest\n",
    "psid = pd.read_stata('PS3_data.dta', columns=['id68', 'year', 'hannhrs', 'hlabinc', 'hsex', 'hyrsed', 'age', 'hrace'])\n",
    "\n",
    "# create wages and ln(wages)\n",
    "# note need to be careful with wages = 0\n",
    "psid['wage'] = psid['hlabinc']/psid['hannhrs']\n",
    "psid['ln_wage'] = np.log(psid['wage'])\n",
    "\n",
    "# sample selection\n",
    "psid.drop(psid[psid.hsex != 1].index, inplace=True)\n",
    "psid.drop(psid[psid.age > 60].index, inplace=True)\n",
    "psid.drop(psid[psid.age < 25].index, inplace=True)\n",
    "psid.drop(psid[psid.wage < 7].index, inplace=True)\n",
    "psid.drop(psid[psid.wage == np.inf].index, inplace=True)\n",
    "\n",
    "# create dummy variables for race\n",
    "psid['black'] = (psid['hrace'] == 2).astype(int)\n",
    "psid['hispanic'] = (psid['hrace'] == 5).astype(int)\n",
    "psid['other'] = ((psid['hrace'] == 3) | (psid['hrace'] == 4) | (psid['hrace'] == 6) | (psid['hrace'] == 7)).astype(int)\n",
    "\n",
    "# drop obs if missing values for any variabls in regression model\n",
    "psid.dropna(axis=0, subset=['ln_wage', 'hyrsed', 'age', 'black', 'other'], inplace=True)\n",
    "\n",
    "# add a constant\n",
    "psid['const'] = 1"
   ]
  },
  {
   "cell_type": "code",
   "execution_count": 2,
   "metadata": {
    "collapsed": false
   },
   "outputs": [
    {
     "data": {
      "text/html": [
       "<div>\n",
       "<table border=\"1\" class=\"dataframe\">\n",
       "  <thead>\n",
       "    <tr style=\"text-align: right;\">\n",
       "      <th></th>\n",
       "      <th>id68</th>\n",
       "      <th>year</th>\n",
       "      <th>hannhrs</th>\n",
       "      <th>hlabinc</th>\n",
       "      <th>hsex</th>\n",
       "      <th>hyrsed</th>\n",
       "      <th>age</th>\n",
       "      <th>hrace</th>\n",
       "      <th>wage</th>\n",
       "      <th>ln_wage</th>\n",
       "      <th>black</th>\n",
       "      <th>hispanic</th>\n",
       "      <th>other</th>\n",
       "      <th>const</th>\n",
       "    </tr>\n",
       "  </thead>\n",
       "  <tbody>\n",
       "    <tr>\n",
       "      <th>count</th>\n",
       "      <td>57097.000000</td>\n",
       "      <td>57097.000000</td>\n",
       "      <td>57097.000000</td>\n",
       "      <td>5.709700e+04</td>\n",
       "      <td>57097.0</td>\n",
       "      <td>57097.000000</td>\n",
       "      <td>57097.000000</td>\n",
       "      <td>57062.000000</td>\n",
       "      <td>57097.000000</td>\n",
       "      <td>57097.000000</td>\n",
       "      <td>57097.000000</td>\n",
       "      <td>57097.0</td>\n",
       "      <td>57097.000000</td>\n",
       "      <td>57097.0</td>\n",
       "    </tr>\n",
       "    <tr>\n",
       "      <th>mean</th>\n",
       "      <td>1507.174860</td>\n",
       "      <td>1986.584129</td>\n",
       "      <td>2228.480713</td>\n",
       "      <td>5.282710e+04</td>\n",
       "      <td>1.0</td>\n",
       "      <td>13.529993</td>\n",
       "      <td>39.242939</td>\n",
       "      <td>1.101416</td>\n",
       "      <td>24.320503</td>\n",
       "      <td>3.010798</td>\n",
       "      <td>0.056343</td>\n",
       "      <td>0.0</td>\n",
       "      <td>0.022506</td>\n",
       "      <td>1.0</td>\n",
       "    </tr>\n",
       "    <tr>\n",
       "      <th>std</th>\n",
       "      <td>828.407534</td>\n",
       "      <td>8.716500</td>\n",
       "      <td>620.018860</td>\n",
       "      <td>5.235579e+04</td>\n",
       "      <td>0.0</td>\n",
       "      <td>2.449510</td>\n",
       "      <td>9.579581</td>\n",
       "      <td>0.369015</td>\n",
       "      <td>25.204367</td>\n",
       "      <td>0.544119</td>\n",
       "      <td>0.230584</td>\n",
       "      <td>0.0</td>\n",
       "      <td>0.148322</td>\n",
       "      <td>0.0</td>\n",
       "    </tr>\n",
       "    <tr>\n",
       "      <th>min</th>\n",
       "      <td>1.000000</td>\n",
       "      <td>1971.000000</td>\n",
       "      <td>2.000000</td>\n",
       "      <td>1.666980e+01</td>\n",
       "      <td>1.0</td>\n",
       "      <td>1.000000</td>\n",
       "      <td>25.000000</td>\n",
       "      <td>1.000000</td>\n",
       "      <td>7.000252</td>\n",
       "      <td>1.945946</td>\n",
       "      <td>0.000000</td>\n",
       "      <td>0.0</td>\n",
       "      <td>0.000000</td>\n",
       "      <td>1.0</td>\n",
       "    </tr>\n",
       "    <tr>\n",
       "      <th>25%</th>\n",
       "      <td>782.000000</td>\n",
       "      <td>1979.000000</td>\n",
       "      <td>1952.000000</td>\n",
       "      <td>3.037345e+04</td>\n",
       "      <td>1.0</td>\n",
       "      <td>12.000000</td>\n",
       "      <td>31.000000</td>\n",
       "      <td>1.000000</td>\n",
       "      <td>13.950494</td>\n",
       "      <td>2.635515</td>\n",
       "      <td>0.000000</td>\n",
       "      <td>0.0</td>\n",
       "      <td>0.000000</td>\n",
       "      <td>1.0</td>\n",
       "    </tr>\n",
       "    <tr>\n",
       "      <th>50%</th>\n",
       "      <td>1542.000000</td>\n",
       "      <td>1987.000000</td>\n",
       "      <td>2160.000000</td>\n",
       "      <td>4.381145e+04</td>\n",
       "      <td>1.0</td>\n",
       "      <td>13.000000</td>\n",
       "      <td>38.000000</td>\n",
       "      <td>1.000000</td>\n",
       "      <td>19.914677</td>\n",
       "      <td>2.991457</td>\n",
       "      <td>0.000000</td>\n",
       "      <td>0.0</td>\n",
       "      <td>0.000000</td>\n",
       "      <td>1.0</td>\n",
       "    </tr>\n",
       "    <tr>\n",
       "      <th>75%</th>\n",
       "      <td>2225.000000</td>\n",
       "      <td>1994.000000</td>\n",
       "      <td>2519.000000</td>\n",
       "      <td>6.138394e+04</td>\n",
       "      <td>1.0</td>\n",
       "      <td>16.000000</td>\n",
       "      <td>47.000000</td>\n",
       "      <td>1.000000</td>\n",
       "      <td>27.793240</td>\n",
       "      <td>3.324793</td>\n",
       "      <td>0.000000</td>\n",
       "      <td>0.0</td>\n",
       "      <td>0.000000</td>\n",
       "      <td>1.0</td>\n",
       "    </tr>\n",
       "    <tr>\n",
       "      <th>max</th>\n",
       "      <td>2930.000000</td>\n",
       "      <td>2002.000000</td>\n",
       "      <td>5840.000000</td>\n",
       "      <td>3.771521e+06</td>\n",
       "      <td>1.0</td>\n",
       "      <td>17.000000</td>\n",
       "      <td>60.000000</td>\n",
       "      <td>3.000000</td>\n",
       "      <td>1717.330322</td>\n",
       "      <td>7.448526</td>\n",
       "      <td>1.000000</td>\n",
       "      <td>0.0</td>\n",
       "      <td>1.000000</td>\n",
       "      <td>1.0</td>\n",
       "    </tr>\n",
       "  </tbody>\n",
       "</table>\n",
       "</div>"
      ],
      "text/plain": [
       "               id68          year       hannhrs       hlabinc     hsex  \\\n",
       "count  57097.000000  57097.000000  57097.000000  5.709700e+04  57097.0   \n",
       "mean    1507.174860   1986.584129   2228.480713  5.282710e+04      1.0   \n",
       "std      828.407534      8.716500    620.018860  5.235579e+04      0.0   \n",
       "min        1.000000   1971.000000      2.000000  1.666980e+01      1.0   \n",
       "25%      782.000000   1979.000000   1952.000000  3.037345e+04      1.0   \n",
       "50%     1542.000000   1987.000000   2160.000000  4.381145e+04      1.0   \n",
       "75%     2225.000000   1994.000000   2519.000000  6.138394e+04      1.0   \n",
       "max     2930.000000   2002.000000   5840.000000  3.771521e+06      1.0   \n",
       "\n",
       "             hyrsed           age         hrace          wage       ln_wage  \\\n",
       "count  57097.000000  57097.000000  57062.000000  57097.000000  57097.000000   \n",
       "mean      13.529993     39.242939      1.101416     24.320503      3.010798   \n",
       "std        2.449510      9.579581      0.369015     25.204367      0.544119   \n",
       "min        1.000000     25.000000      1.000000      7.000252      1.945946   \n",
       "25%       12.000000     31.000000      1.000000     13.950494      2.635515   \n",
       "50%       13.000000     38.000000      1.000000     19.914677      2.991457   \n",
       "75%       16.000000     47.000000      1.000000     27.793240      3.324793   \n",
       "max       17.000000     60.000000      3.000000   1717.330322      7.448526   \n",
       "\n",
       "              black  hispanic         other    const  \n",
       "count  57097.000000   57097.0  57097.000000  57097.0  \n",
       "mean       0.056343       0.0      0.022506      1.0  \n",
       "std        0.230584       0.0      0.148322      0.0  \n",
       "min        0.000000       0.0      0.000000      1.0  \n",
       "25%        0.000000       0.0      0.000000      1.0  \n",
       "50%        0.000000       0.0      0.000000      1.0  \n",
       "75%        0.000000       0.0      0.000000      1.0  \n",
       "max        1.000000       0.0      1.000000      1.0  "
      ]
     },
     "execution_count": 2,
     "metadata": {},
     "output_type": "execute_result"
    }
   ],
   "source": [
    "# Look at data\n",
    "psid.describe()"
   ]
  },
  {
   "cell_type": "code",
   "execution_count": 4,
   "metadata": {
    "collapsed": false
   },
   "outputs": [
    {
     "name": "stdout",
     "output_type": "stream",
     "text": [
      "1971 Results:                              OLS Regression Results                            \n",
      "==============================================================================\n",
      "Dep. Variable:                ln_wage   R-squared:                       0.244\n",
      "Model:                            OLS   Adj. R-squared:                  0.241\n",
      "Method:                 Least Squares   F-statistic:                     110.7\n",
      "Date:                Wed, 13 Sep 2017   Prob (F-statistic):           7.42e-82\n",
      "Time:                        17:57:17   Log-Likelihood:                -728.06\n",
      "No. Observations:                1380   AIC:                             1466.\n",
      "Df Residuals:                    1375   BIC:                             1492.\n",
      "Df Model:                           4                                         \n",
      "Covariance Type:            nonrobust                                         \n",
      "==============================================================================\n",
      "                 coef    std err          t      P>|t|      [0.025      0.975]\n",
      "------------------------------------------------------------------------------\n",
      "const          1.5510      0.073     21.382      0.000       1.409       1.693\n",
      "hyrsed         0.0669      0.004     17.814      0.000       0.060       0.074\n",
      "age            0.0144      0.001     12.902      0.000       0.012       0.017\n",
      "black         -0.1639      0.045     -3.638      0.000      -0.252      -0.076\n",
      "other          0.0307      0.069      0.447      0.655      -0.104       0.165\n",
      "==============================================================================\n",
      "Omnibus:                       96.384   Durbin-Watson:                   1.819\n",
      "Prob(Omnibus):                  0.000   Jarque-Bera (JB):              217.837\n",
      "Skew:                           0.424   Prob(JB):                     4.98e-48\n",
      "Kurtosis:                       4.752   Cond. No.                         291.\n",
      "==============================================================================\n",
      "\n",
      "Warnings:\n",
      "[1] Standard Errors assume that the covariance matrix of the errors is correctly specified.\n"
     ]
    }
   ],
   "source": [
    "## Note - no Hispanics, so exclude that dummy from regression\n",
    "\n",
    "# create dataframes for the four years of interest\n",
    "psid1971 = psid[psid['year']==1971].copy()\n",
    "psid1980 = psid[psid['year']==1980].copy()\n",
    "psid1990 = psid[psid['year']==1990].copy()\n",
    "psid2000 = psid[psid['year']==2000].copy()\n",
    "\n",
    "# OLS estimates\n",
    "import statsmodels.api as sm\n",
    "reg1 = sm.OLS(endog=psid1971['ln_wage'], exog=psid1971[['const', 'hyrsed', 'age', 'black', 'other']], missing='drop')\n",
    "results = reg1.fit()\n",
    "print('1971 Results: ', results.summary())\n",
    "\n"
   ]
  },
  {
   "cell_type": "code",
   "execution_count": 65,
   "metadata": {
    "collapsed": false
   },
   "outputs": [
    {
     "name": "stdout",
     "output_type": "stream",
     "text": [
      "1980 Results:                              OLS Regression Results                            \n",
      "==============================================================================\n",
      "Dep. Variable:                ln_wage   R-squared:                       0.169\n",
      "Model:                            OLS   Adj. R-squared:                  0.167\n",
      "Method:                 Least Squares   F-statistic:                     94.08\n",
      "Date:                Wed, 13 Sep 2017   Prob (F-statistic):           6.40e-73\n",
      "Time:                        15:21:46   Log-Likelihood:                -1148.4\n",
      "No. Observations:                1856   AIC:                             2307.\n",
      "Df Residuals:                    1851   BIC:                             2334.\n",
      "Df Model:                           4                                         \n",
      "Covariance Type:            nonrobust                                         \n",
      "==============================================================================\n",
      "                 coef    std err          t      P>|t|      [0.025      0.975]\n",
      "------------------------------------------------------------------------------\n",
      "const          1.6131      0.075     21.590      0.000       1.467       1.760\n",
      "hyrsed         0.0676      0.004     15.860      0.000       0.059       0.076\n",
      "age            0.0127      0.001     12.281      0.000       0.011       0.015\n",
      "black         -0.1027      0.044     -2.355      0.019      -0.188      -0.017\n",
      "other          0.0135      0.071      0.190      0.849      -0.126       0.153\n",
      "==============================================================================\n",
      "Omnibus:                      109.135   Durbin-Watson:                   1.958\n",
      "Prob(Omnibus):                  0.000   Jarque-Bera (JB):              266.486\n",
      "Skew:                           0.337   Prob(JB):                     1.36e-58\n",
      "Kurtosis:                       4.730   Cond. No.                         302.\n",
      "==============================================================================\n",
      "\n",
      "Warnings:\n",
      "[1] Standard Errors assume that the covariance matrix of the errors is correctly specified.\n"
     ]
    }
   ],
   "source": [
    "reg2 = sm.OLS(endog=psid1980['ln_wage'], exog=psid1980[['const', 'hyrsed', 'age', 'black', 'other']],\n",
    "              missing='drop')\n",
    "results = reg2.fit()\n",
    "print('1980 Results: ', results.summary())"
   ]
  },
  {
   "cell_type": "code",
   "execution_count": 66,
   "metadata": {
    "collapsed": false
   },
   "outputs": [
    {
     "name": "stdout",
     "output_type": "stream",
     "text": [
      "1990 Results:                              OLS Regression Results                            \n",
      "==============================================================================\n",
      "Dep. Variable:                ln_wage   R-squared:                       0.217\n",
      "Model:                            OLS   Adj. R-squared:                  0.216\n",
      "Method:                 Least Squares   F-statistic:                     139.3\n",
      "Date:                Wed, 13 Sep 2017   Prob (F-statistic):          3.67e-105\n",
      "Time:                        15:21:49   Log-Likelihood:                -1393.9\n",
      "No. Observations:                2013   AIC:                             2798.\n",
      "Df Residuals:                    2008   BIC:                             2826.\n",
      "Df Model:                           4                                         \n",
      "Covariance Type:            nonrobust                                         \n",
      "==============================================================================\n",
      "                 coef    std err          t      P>|t|      [0.025      0.975]\n",
      "------------------------------------------------------------------------------\n",
      "const          1.1186      0.084     13.312      0.000       0.954       1.283\n",
      "hyrsed         0.0976      0.005     19.991      0.000       0.088       0.107\n",
      "age            0.0135      0.001     10.785      0.000       0.011       0.016\n",
      "black         -0.1720      0.048     -3.601      0.000      -0.266      -0.078\n",
      "other         -0.0597      0.089     -0.670      0.503      -0.234       0.115\n",
      "==============================================================================\n",
      "Omnibus:                      111.834   Durbin-Watson:                   2.006\n",
      "Prob(Omnibus):                  0.000   Jarque-Bera (JB):              253.156\n",
      "Skew:                           0.342   Prob(JB):                     1.07e-55\n",
      "Kurtosis:                       4.597   Cond. No.                         349.\n",
      "==============================================================================\n",
      "\n",
      "Warnings:\n",
      "[1] Standard Errors assume that the covariance matrix of the errors is correctly specified.\n"
     ]
    }
   ],
   "source": [
    "reg3 = sm.OLS(endog=psid1990['ln_wage'], exog=psid1990[['const', 'hyrsed', 'age', 'black', 'other']],\n",
    "              missing='drop')\n",
    "results = reg3.fit()\n",
    "print('1990 Results: ', results.summary())"
   ]
  },
  {
   "cell_type": "code",
   "execution_count": 67,
   "metadata": {
    "collapsed": false
   },
   "outputs": [
    {
     "name": "stdout",
     "output_type": "stream",
     "text": [
      "2000 Results:                              OLS Regression Results                            \n",
      "==============================================================================\n",
      "Dep. Variable:                ln_wage   R-squared:                       0.207\n",
      "Model:                            OLS   Adj. R-squared:                  0.205\n",
      "Method:                 Least Squares   F-statistic:                     168.6\n",
      "Date:                Wed, 13 Sep 2017   Prob (F-statistic):          1.75e-128\n",
      "Time:                        15:21:51   Log-Likelihood:                -2081.4\n",
      "No. Observations:                2595   AIC:                             4173.\n",
      "Df Residuals:                    2590   BIC:                             4202.\n",
      "Df Model:                           4                                         \n",
      "Covariance Type:            nonrobust                                         \n",
      "==============================================================================\n",
      "                 coef    std err          t      P>|t|      [0.025      0.975]\n",
      "------------------------------------------------------------------------------\n",
      "const          1.1611      0.080     14.436      0.000       1.003       1.319\n",
      "hyrsed         0.1092      0.005     21.200      0.000       0.099       0.119\n",
      "age            0.0110      0.001      9.613      0.000       0.009       0.013\n",
      "black         -0.2457      0.048     -5.139      0.000      -0.339      -0.152\n",
      "other         -0.0604      0.060     -1.013      0.311      -0.177       0.057\n",
      "==============================================================================\n",
      "Omnibus:                      304.139   Durbin-Watson:                   1.994\n",
      "Prob(Omnibus):                  0.000   Jarque-Bera (JB):              703.515\n",
      "Skew:                           0.689   Prob(JB):                    1.71e-153\n",
      "Kurtosis:                       5.146   Cond. No.                         339.\n",
      "==============================================================================\n",
      "\n",
      "Warnings:\n",
      "[1] Standard Errors assume that the covariance matrix of the errors is correctly specified.\n"
     ]
    }
   ],
   "source": [
    "reg4 = sm.OLS(endog=psid2000['ln_wage'], exog=psid2000[['const', 'hyrsed', 'age', 'black', 'other']],\n",
    "              missing='drop')\n",
    "results = reg4.fit()\n",
    "print('2000 Results: ', results.summary())"
   ]
  },
  {
   "cell_type": "code",
   "execution_count": 27,
   "metadata": {
    "collapsed": false
   },
   "outputs": [],
   "source": [
    "# write likelihood function\n",
    "def ll_ols(params, data):\n",
    "    alpha, beta1, beta2, beta3, beta4, sigma = params\n",
    "    \n",
    "    n = data['const'].count()\n",
    "    loglike = (-(n / 2) * np.log(2 * np.pi) - n * np.log(sigma) -\n",
    "          (1 / (2 * sigma ** 2)) * ((data['ln_wage'] - (alpha * data['const'] +\n",
    "                                    beta1 * data['hyrsed'] + beta2 * data['age'] +\n",
    "                                    beta3 * data['black'] + beta4 * data['other'])) ** 2).sum())\n",
    "    \n",
    "    return -loglike      "
   ]
  },
  {
   "cell_type": "code",
   "execution_count": 32,
   "metadata": {
    "collapsed": false
   },
   "outputs": [],
   "source": [
    "import scipy.optimize as opt\n",
    "\n",
    "# set initial guesses\n",
    "# Theta0 = np.ones((6))\n",
    "#Theta0 = (1.55, 0.069, 0.014, -0.164, 0.030, 1.0)\n",
    "Theta0 = (1.0, 0.0, 0.0, 0.0, 0.0, 1.0)\n",
    "\n",
    "# set bounds on parameters\n",
    "bnds = ((None, None), (None, None), (None, None),\n",
    "        (None, None), (None, None), (1e-12, None))\n",
    "\n",
    "# Minimize log-likelihood function for model of each year\n",
    "ll_results_1971 = opt.minimize(ll_ols, Theta0, args=(psid1971,),\n",
    "                           method=\"SLSQP\", bounds=bnds, tol=1e-15)\n",
    "ll_results_1980 = opt.minimize(ll_ols, Theta0, args=(psid1980,),\n",
    "                           method=\"SLSQP\", bounds=bnds, tol=1e-15)\n",
    "ll_results_1990 = opt.minimize(ll_ols, Theta0, args=(psid1990,),\n",
    "                           method=\"SLSQP\", bounds=bnds, tol=1e-15)\n",
    "ll_results_2000 = opt.minimize(ll_ols, Theta0, args=(psid2000,),\n",
    "                           method=\"SLSQP\", bounds=bnds, tol=1e-15)"
   ]
  },
  {
   "cell_type": "code",
   "execution_count": 35,
   "metadata": {
    "collapsed": false
   },
   "outputs": [
    {
     "name": "stdout",
     "output_type": "stream",
     "text": [
      "Return to education in  1971  =  0.0668310500949\n",
      "Return to education in  1980  =  0.0683662333218\n",
      "Return to education in  1990  =  0.0875825705465\n",
      "Return to education in  2000  =  0.117637843589\n"
     ]
    }
   ],
   "source": [
    "# Put all results together in a dictionary\n",
    "results_dict = {'1971': ll_results_1971['x'], '1980': ll_results_1980['x'],\n",
    "                '1990': ll_results_1990['x'], '2000': ll_results_2000['x']}\n",
    "for y in ['1971', '1980', '1990', '2000']:\n",
    "    print('Return to education in ', y, \" = \", results_dict[y][1])"
   ]
  },
  {
   "cell_type": "code",
   "execution_count": 123,
   "metadata": {
    "collapsed": false
   },
   "outputs": [
    {
     "name": "stdout",
     "output_type": "stream",
     "text": [
      "[[ 1.55096436]\n",
      " [ 0.06687862]\n",
      " [ 0.0143913 ]\n",
      " [-0.16388845]\n",
      " [ 0.03068709]]\n"
     ]
    }
   ],
   "source": [
    "# OLS via matrix algebra\n",
    "X = np.array(psid1971[['const', 'hyrsed', 'age', 'black', 'other']])\n",
    "Y = np.array(psid1971[['ln_wage']])\n",
    "ols_mat = np.dot(np.linalg.inv(np.dot(np.transpose(X),X)), np.dot(np.transpose(X),Y))\n",
    "print(ols_mat)"
   ]
  },
  {
   "cell_type": "code",
   "execution_count": null,
   "metadata": {
    "collapsed": true
   },
   "outputs": [],
   "source": []
  }
 ],
 "metadata": {
  "kernelspec": {
   "display_name": "Python 3",
   "language": "python",
   "name": "python3"
  },
  "language_info": {
   "codemirror_mode": {
    "name": "ipython",
    "version": 3
   },
   "file_extension": ".py",
   "mimetype": "text/x-python",
   "name": "python",
   "nbconvert_exporter": "python",
   "pygments_lexer": "ipython3",
   "version": "3.6.0"
  }
 },
 "nbformat": 4,
 "nbformat_minor": 2
}
