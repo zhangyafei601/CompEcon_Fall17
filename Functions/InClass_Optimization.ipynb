{
 "cells": [
  {
   "cell_type": "code",
   "execution_count": 1,
   "metadata": {
    "collapsed": true
   },
   "outputs": [],
   "source": [
    "def avg_cost(x, *params):\n",
    "    '''\n",
    "    This function returns the average cost of x given the parameters.\n",
    "    \n",
    "    Args:\n",
    "        x: scalar, the amount of output\n",
    "        params: tuple containing model parameters\n",
    "        \n",
    "    Returns:\n",
    "        ac: scalar, the average cost of producing x units\n",
    "    '''\n",
    "    \n",
    "    a, b, c = params\n",
    "    ac = a * (x ** -1) + b + c * x\n",
    "    \n",
    "    return ac"
   ]
  },
  {
   "cell_type": "code",
   "execution_count": 10,
   "metadata": {
    "collapsed": false
   },
   "outputs": [
    {
     "data": {
      "text/plain": [
       "[<matplotlib.lines.Line2D at 0x10ec83ba8>]"
      ]
     },
     "execution_count": 10,
     "metadata": {},
     "output_type": "execute_result"
    },
    {
     "data": {
      "image/png": "[encoded data removed]",
      "text/plain": [
       "<matplotlib.figure.Figure at 0x10b8f6240>"
      ]
     },
     "metadata": {},
     "output_type": "display_data"
    }
   ],
   "source": [
    "import matplotlib.pyplot as plt\n",
    "%matplotlib inline\n",
    "\n",
    "a, b, c = 1, 2, 3\n",
    "params = (a, b, c)\n",
    "\n",
    "# define x grid\n",
    "import numpy as np\n",
    "x = np.linspace(0.01, 5.01, num=500)\n",
    "\n",
    "ac = avg_cost(x, *params)\n",
    "plt.plot(x, ac)"
   ]
  },
  {
   "cell_type": "code",
   "execution_count": 22,
   "metadata": {
    "collapsed": false
   },
   "outputs": [
    {
     "name": "stdout",
     "output_type": "stream",
     "text": [
      "The minimum of f(x) found numerically is  0.5773502648532614\n",
      "The min of f(x) found analytically is  0.5773502691896257\n"
     ]
    }
   ],
   "source": [
    "import scipy.optimize as opt\n",
    "x_min = opt.minimize_scalar(avg_cost, bracket = [0.1, 2], args=params,\n",
    "                            method='Golden', tol=1e-15, options={'maxiter': 5000})\n",
    "print('The minimum of f(x) found numerically is ', x_min['x'])\n",
    "print('The min of f(x) found analytically is ', (a / c) ** (1 / 2))"
   ]
  },
  {
   "cell_type": "code",
   "execution_count": 24,
   "metadata": {
    "collapsed": false
   },
   "outputs": [
    {
     "name": "stdout",
     "output_type": "stream",
     "text": [
      "The minimum of f(x) found numerically is  0.577350270704\n",
      "The min of f(x) found analytically is  0.5773502691896257\n"
     ]
    }
   ],
   "source": [
    "x_min = opt.minimize_scalar(avg_cost, bracket = [0.1, 2], args=params,\n",
    "                            method='Brent', tol=1e-15, options={'maxiter': 5000})\n",
    "print('The minimum of f(x) found numerically is ', x_min['x'])\n",
    "print('The min of f(x) found analytically is ', (a / c) ** (1 / 2))"
   ]
  },
  {
   "cell_type": "code",
   "execution_count": 28,
   "metadata": {
    "collapsed": false
   },
   "outputs": [
    {
     "name": "stdout",
     "output_type": "stream",
     "text": [
      "The minimum of f(x) found numerically is  [ 0.57735027]\n",
      "The min of f(x) found analytically is  0.5773502691896257\n"
     ]
    }
   ],
   "source": [
    "x_min = opt.minimize(avg_cost, 1.2, args=params, method='Nelder-Mead',\n",
    "                     tol=1e-15, options={'maxiter': 5000})\n",
    "print('The minimum of f(x) found numerically is ', x_min['x'])\n",
    "print('The min of f(x) found analytically is ', (a / c) ** (1 / 2))"
   ]
  },
  {
   "cell_type": "code",
   "execution_count": 29,
   "metadata": {
    "collapsed": false
   },
   "outputs": [
    {
     "data": {
      "text/plain": [
       " final_simplex: (array([[ 0.57735027],\n",
       "       [ 0.57735027]]), array([ 5.46410162,  5.46410162]))\n",
       "           fun: 5.4641016151377544\n",
       "       message: 'Optimization terminated successfully.'\n",
       "          nfev: 124\n",
       "           nit: 52\n",
       "        status: 0\n",
       "       success: True\n",
       "             x: array([ 0.57735027])"
      ]
     },
     "execution_count": 29,
     "metadata": {},
     "output_type": "execute_result"
    }
   ],
   "source": [
    "x_min"
   ]
  },
  {
   "cell_type": "code",
   "execution_count": 30,
   "metadata": {
    "collapsed": false
   },
   "outputs": [
    {
     "name": "stdout",
     "output_type": "stream",
     "text": [
      "The minimum of f(x) found numerically is  [ 0.57735026]\n",
      "The min of f(x) found analytically is  0.5773502691896257\n"
     ]
    }
   ],
   "source": [
    "x_min = opt.minimize(avg_cost, 1.2, args=params, method='BFGS',\n",
    "                     tol=1e-15, options={'maxiter': 5000})\n",
    "print('The minimum of f(x) found numerically is ', x_min['x'])\n",
    "print('The min of f(x) found analytically is ', (a / c) ** (1 / 2))"
   ]
  },
  {
   "cell_type": "code",
   "execution_count": 31,
   "metadata": {
    "collapsed": false
   },
   "outputs": [
    {
     "ename": "ValueError",
     "evalue": "Jacobian is required for Newton-CG method",
     "output_type": "error",
     "traceback": [
      "\u001b[0;31m---------------------------------------------------------------------------\u001b[0m",
      "\u001b[0;31mValueError\u001b[0m                                Traceback (most recent call last)",
      "\u001b[0;32m<ipython-input-31-25db5810be2c>\u001b[0m in \u001b[0;36m<module>\u001b[0;34m()\u001b[0m\n\u001b[1;32m      1\u001b[0m x_min = opt.minimize(avg_cost, 1.2, args=params, method='Newton-CG',\n\u001b[0;32m----> 2\u001b[0;31m                      tol=1e-15, options={'maxiter': 5000})\n\u001b[0m\u001b[1;32m      3\u001b[0m \u001b[0mprint\u001b[0m\u001b[0;34m(\u001b[0m\u001b[0;34m'The minimum of f(x) found numerically is '\u001b[0m\u001b[0;34m,\u001b[0m \u001b[0mx_min\u001b[0m\u001b[0;34m[\u001b[0m\u001b[0;34m'x'\u001b[0m\u001b[0;34m]\u001b[0m\u001b[0;34m)\u001b[0m\u001b[0;34m\u001b[0m\u001b[0m\n\u001b[1;32m      4\u001b[0m \u001b[0mprint\u001b[0m\u001b[0;34m(\u001b[0m\u001b[0;34m'The min of f(x) found analytically is '\u001b[0m\u001b[0;34m,\u001b[0m \u001b[0;34m(\u001b[0m\u001b[0ma\u001b[0m \u001b[0;34m/\u001b[0m \u001b[0mc\u001b[0m\u001b[0;34m)\u001b[0m \u001b[0;34m**\u001b[0m \u001b[0;34m(\u001b[0m\u001b[0;36m1\u001b[0m \u001b[0;34m/\u001b[0m \u001b[0;36m2\u001b[0m\u001b[0;34m)\u001b[0m\u001b[0;34m)\u001b[0m\u001b[0;34m\u001b[0m\u001b[0m\n",
      "\u001b[0;32m/Users/jason.debacker/anaconda/lib/python3.6/site-packages/scipy/optimize/_minimize.py\u001b[0m in \u001b[0;36mminimize\u001b[0;34m(fun, x0, args, method, jac, hess, hessp, bounds, constraints, tol, callback, options)\u001b[0m\n\u001b[1;32m    445\u001b[0m     \u001b[0;32melif\u001b[0m \u001b[0mmeth\u001b[0m \u001b[0;34m==\u001b[0m \u001b[0;34m'newton-cg'\u001b[0m\u001b[0;34m:\u001b[0m\u001b[0;34m\u001b[0m\u001b[0m\n\u001b[1;32m    446\u001b[0m         return _minimize_newtoncg(fun, x0, args, jac, hess, hessp, callback,\n\u001b[0;32m--> 447\u001b[0;31m                                   **options)\n\u001b[0m\u001b[1;32m    448\u001b[0m     \u001b[0;32melif\u001b[0m \u001b[0mmeth\u001b[0m \u001b[0;34m==\u001b[0m \u001b[0;34m'l-bfgs-b'\u001b[0m\u001b[0;34m:\u001b[0m\u001b[0;34m\u001b[0m\u001b[0m\n\u001b[1;32m    449\u001b[0m         return _minimize_lbfgsb(fun, x0, args, jac, bounds,\n",
      "\u001b[0;32m/Users/jason.debacker/anaconda/lib/python3.6/site-packages/scipy/optimize/optimize.py\u001b[0m in \u001b[0;36m_minimize_newtoncg\u001b[0;34m(fun, x0, args, jac, hess, hessp, callback, xtol, eps, maxiter, disp, return_all, **unknown_options)\u001b[0m\n\u001b[1;32m   1438\u001b[0m     \u001b[0m_check_unknown_options\u001b[0m\u001b[0;34m(\u001b[0m\u001b[0munknown_options\u001b[0m\u001b[0;34m)\u001b[0m\u001b[0;34m\u001b[0m\u001b[0m\n\u001b[1;32m   1439\u001b[0m     \u001b[0;32mif\u001b[0m \u001b[0mjac\u001b[0m \u001b[0;32mis\u001b[0m \u001b[0;32mNone\u001b[0m\u001b[0;34m:\u001b[0m\u001b[0;34m\u001b[0m\u001b[0m\n\u001b[0;32m-> 1440\u001b[0;31m         \u001b[0;32mraise\u001b[0m \u001b[0mValueError\u001b[0m\u001b[0;34m(\u001b[0m\u001b[0;34m'Jacobian is required for Newton-CG method'\u001b[0m\u001b[0;34m)\u001b[0m\u001b[0;34m\u001b[0m\u001b[0m\n\u001b[0m\u001b[1;32m   1441\u001b[0m     \u001b[0mf\u001b[0m \u001b[0;34m=\u001b[0m \u001b[0mfun\u001b[0m\u001b[0;34m\u001b[0m\u001b[0m\n\u001b[1;32m   1442\u001b[0m     \u001b[0mfprime\u001b[0m \u001b[0;34m=\u001b[0m \u001b[0mjac\u001b[0m\u001b[0;34m\u001b[0m\u001b[0m\n",
      "\u001b[0;31mValueError\u001b[0m: Jacobian is required for Newton-CG method"
     ]
    }
   ],
   "source": [
    "x_min = opt.minimize(avg_cost, 1.2, args=params, method='Newton-CG',\n",
    "                     tol=1e-15, options={'maxiter': 5000})\n",
    "print('The minimum of f(x) found numerically is ', x_min['x'])\n",
    "print('The min of f(x) found analytically is ', (a / c) ** (1 / 2))"
   ]
  },
  {
   "cell_type": "code",
   "execution_count": 32,
   "metadata": {
    "collapsed": true
   },
   "outputs": [],
   "source": [
    "def jac_ac(x, *params):\n",
    "    '''\n",
    "    This fuction computes the jacobian of the avg cost function.\n",
    "    '''\n",
    "    a, b, c = params\n",
    "    \n",
    "    jac = -1 * a * x ** -2 + c\n",
    "    \n",
    "    return jac"
   ]
  },
  {
   "cell_type": "code",
   "execution_count": 33,
   "metadata": {
    "collapsed": true
   },
   "outputs": [],
   "source": [
    "def hess_ac(x, *params):\n",
    "    '''\n",
    "    This function computes the hessian of the avg cost function.\n",
    "    '''\n",
    "    a, b, c = params\n",
    "    \n",
    "    hess = 2 * a * x ** -3\n",
    "    \n",
    "    return hess"
   ]
  },
  {
   "cell_type": "code",
   "execution_count": 36,
   "metadata": {
    "collapsed": false
   },
   "outputs": [
    {
     "name": "stdout",
     "output_type": "stream",
     "text": [
      "The minimum of f(x) found numerically is  [ 0.57735027]\n",
      "The min of f(x) found analytically is  0.5773502691896257\n"
     ]
    }
   ],
   "source": [
    "x_min = opt.minimize(avg_cost, 0.7, args=params, jac=jac_ac, hess=hess_ac, method='Newton-CG',\n",
    "                     tol=1e-15, options={'maxiter': 5000})\n",
    "print('The minimum of f(x) found numerically is ', x_min['x'])\n",
    "print('The min of f(x) found analytically is ', (a / c) ** (1 / 2))"
   ]
  },
  {
   "cell_type": "code",
   "execution_count": 40,
   "metadata": {
    "collapsed": false
   },
   "outputs": [
    {
     "name": "stdout",
     "output_type": "stream",
     "text": [
      "Time for Nelder-Mead =  11.575551986694336\n",
      "Time for Newton method =  2.845958948135376\n"
     ]
    }
   ],
   "source": [
    "import time\n",
    "\n",
    "# set number of iterations\n",
    "N  = 5000\n",
    "\n",
    "start = time.time()\n",
    "for i in range(N):\n",
    "    x_min = opt.minimize(avg_cost, 0.7, args=params, method='Nelder-Mead',\n",
    "                     tol=1e-15, options={'maxiter': 5000})\n",
    "end = time.time()\n",
    "print('Time for Nelder-Mead = ', end-start)\n",
    "\n",
    "\n",
    "start = time.time()\n",
    "for i in range(N):\n",
    "    x_min = opt.minimize(avg_cost, 0.7, args=params, jac=jac_ac,\n",
    "                         hess=hess_ac, method='Newton-CG',\n",
    "                         tol=1e-15, options={'maxiter': 5000})\n",
    "end = time.time()\n",
    "print('Time for Newton method = ', end-start)"
   ]
  },
  {
   "cell_type": "code",
   "execution_count": 38,
   "metadata": {
    "collapsed": false
   },
   "outputs": [
    {
     "data": {
      "text/plain": [
       "1505412516.645352"
      ]
     },
     "execution_count": 38,
     "metadata": {},
     "output_type": "execute_result"
    }
   ],
   "source": [
    "start"
   ]
  },
  {
   "cell_type": "code",
   "execution_count": null,
   "metadata": {
    "collapsed": true
   },
   "outputs": [],
   "source": []
  }
 ],
 "metadata": {
  "kernelspec": {
   "display_name": "Python 3",
   "language": "python",
   "name": "python3"
  },
  "language_info": {
   "codemirror_mode": {
    "name": "ipython",
    "version": 3
   },
   "file_extension": ".py",
   "mimetype": "text/x-python",
   "name": "python",
   "nbconvert_exporter": "python",
   "pygments_lexer": "ipython3",
   "version": "3.6.0"
  }
 },
 "nbformat": 4,
 "nbformat_minor": 2
}
