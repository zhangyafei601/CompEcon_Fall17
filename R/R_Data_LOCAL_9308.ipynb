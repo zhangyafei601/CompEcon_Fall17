{
 "cells": [
  {
   "cell_type": "markdown",
   "metadata": {
    "collapsed": true
   },
   "source": [
    "# Reading and Writing Data in R\n",
    "### by [Jason DeBacker](http://jasondebacker.com), October 2017\n",
    "\n",
    "This notebook illustrates how to read and write data in R.\n",
    "\n",
    "## Reading Data\n",
    "\n",
    "### CSV Files"
   ]
  },
  {
   "cell_type": "code",
   "execution_count": 1,
   "metadata": {},
   "outputs": [
    {
     "data": {
      "text/html": [
       "'C:/Users/yafei/CompEcon_Fall17/R'"
      ],
      "text/latex": [
       "'C:/Users/yafei/CompEcon\\_Fall17/R'"
      ],
      "text/markdown": [
       "'C:/Users/yafei/CompEcon_Fall17/R'"
      ],
      "text/plain": [
       "[1] \"C:/Users/yafei/CompEcon_Fall17/R\""
      ]
     },
     "metadata": {},
     "output_type": "display_data"
    },
    {
     "data": {
      "text/html": [
       "<table>\n",
       "<thead><tr><th scope=col>month</th><th scope=col>grdatn</th><th scope=col>marstat</th><th scope=col>age</th><th scope=col>class</th><th scope=col>region</th><th scope=col>state</th><th scope=col>hours</th><th scope=col>mlr</th><th scope=col>natvty</th><th scope=col>...</th><th scope=col>homeown</th><th scope=col>hoursu1b</th><th scope=col>hoursu1b_t1</th><th scope=col>se15u</th><th scope=col>se15u_t1</th><th scope=col>ent015u</th><th scope=col>ent015ua</th><th scope=col>vet</th><th scope=col>wgtat</th><th scope=col>wgtat1</th></tr></thead>\n",
       "<tbody>\n",
       "\t<tr><td>12      </td><td>42      </td><td>5       </td><td>57      </td><td> 4      </td><td>1       </td><td>14      </td><td>40      </td><td>1       </td><td> 57     </td><td>...     </td><td>NA      </td><td>40      </td><td>40      </td><td>0       </td><td>0       </td><td>0       </td><td>0       </td><td>0       </td><td>269.1724</td><td>270.4338</td></tr>\n",
       "\t<tr><td>12      </td><td>39      </td><td>7       </td><td>26      </td><td> 4      </td><td>1       </td><td>14      </td><td>40      </td><td>1       </td><td> 57     </td><td>...     </td><td>NA      </td><td>40      </td><td>40      </td><td>0       </td><td>0       </td><td>0       </td><td>0       </td><td>0       </td><td>403.0235</td><td>404.9121</td></tr>\n",
       "\t<tr><td>12      </td><td>41      </td><td>1       </td><td>43      </td><td> 4      </td><td>2       </td><td>41      </td><td>46      </td><td>1       </td><td>110     </td><td>...     </td><td>NA      </td><td>46      </td><td>40      </td><td>0       </td><td>0       </td><td>0       </td><td>0       </td><td>0       </td><td>402.7901</td><td>404.6776</td></tr>\n",
       "\t<tr><td>12      </td><td>39      </td><td>1       </td><td>38      </td><td> 4      </td><td>2       </td><td>41      </td><td>40      </td><td>1       </td><td> 57     </td><td>...     </td><td>NA      </td><td>40      </td><td>30      </td><td>0       </td><td>0       </td><td>0       </td><td>0       </td><td>0       </td><td>342.9345</td><td>344.5415</td></tr>\n",
       "\t<tr><td>12      </td><td>42      </td><td>1       </td><td>51      </td><td>-1      </td><td>3       </td><td>58      </td><td>-1      </td><td>6       </td><td> 57     </td><td>...     </td><td>NA      </td><td>-1      </td><td>-1      </td><td>0       </td><td>0       </td><td>0       </td><td>0       </td><td>0       </td><td>560.2244</td><td>562.8497</td></tr>\n",
       "</tbody>\n",
       "</table>\n"
      ],
      "text/latex": [
       "\\begin{tabular}{r|lllllllllllllllllllllllllllllllllllll}\n",
       " month & grdatn & marstat & age & class & region & state & hours & mlr & natvty & ... & homeown & hoursu1b & hoursu1b\\_t1 & se15u & se15u\\_t1 & ent015u & ent015ua & vet & wgtat & wgtat1\\\\\n",
       "\\hline\n",
       "\t 12       & 42       & 5        & 57       &  4       & 1        & 14       & 40       & 1        &  57      & ...      & NA       & 40       & 40       & 0        & 0        & 0        & 0        & 0        & 269.1724 & 270.4338\\\\\n",
       "\t 12       & 39       & 7        & 26       &  4       & 1        & 14       & 40       & 1        &  57      & ...      & NA       & 40       & 40       & 0        & 0        & 0        & 0        & 0        & 403.0235 & 404.9121\\\\\n",
       "\t 12       & 41       & 1        & 43       &  4       & 2        & 41       & 46       & 1        & 110      & ...      & NA       & 46       & 40       & 0        & 0        & 0        & 0        & 0        & 402.7901 & 404.6776\\\\\n",
       "\t 12       & 39       & 1        & 38       &  4       & 2        & 41       & 40       & 1        &  57      & ...      & NA       & 40       & 30       & 0        & 0        & 0        & 0        & 0        & 342.9345 & 344.5415\\\\\n",
       "\t 12       & 42       & 1        & 51       & -1       & 3        & 58       & -1       & 6        &  57      & ...      & NA       & -1       & -1       & 0        & 0        & 0        & 0        & 0        & 560.2244 & 562.8497\\\\\n",
       "\\end{tabular}\n"
      ],
      "text/markdown": [
       "\n",
       "month | grdatn | marstat | age | class | region | state | hours | mlr | natvty | ... | homeown | hoursu1b | hoursu1b_t1 | se15u | se15u_t1 | ent015u | ent015ua | vet | wgtat | wgtat1 | \n",
       "|---|---|---|---|---|\n",
       "| 12       | 42       | 5        | 57       |  4       | 1        | 14       | 40       | 1        |  57      | ...      | NA       | 40       | 40       | 0        | 0        | 0        | 0        | 0        | 269.1724 | 270.4338 | \n",
       "| 12       | 39       | 7        | 26       |  4       | 1        | 14       | 40       | 1        |  57      | ...      | NA       | 40       | 40       | 0        | 0        | 0        | 0        | 0        | 403.0235 | 404.9121 | \n",
       "| 12       | 41       | 1        | 43       |  4       | 2        | 41       | 46       | 1        | 110      | ...      | NA       | 46       | 40       | 0        | 0        | 0        | 0        | 0        | 402.7901 | 404.6776 | \n",
       "| 12       | 39       | 1        | 38       |  4       | 2        | 41       | 40       | 1        |  57      | ...      | NA       | 40       | 30       | 0        | 0        | 0        | 0        | 0        | 342.9345 | 344.5415 | \n",
       "| 12       | 42       | 1        | 51       | -1       | 3        | 58       | -1       | 6        |  57      | ...      | NA       | -1       | -1       | 0        | 0        | 0        | 0        | 0        | 560.2244 | 562.8497 | \n",
       "\n",
       "\n"
      ],
      "text/plain": [
       "  month grdatn marstat age class region state hours mlr natvty ... homeown\n",
       "1 12    42     5       57   4    1      14    40    1    57    ... NA     \n",
       "2 12    39     7       26   4    1      14    40    1    57    ... NA     \n",
       "3 12    41     1       43   4    2      41    46    1   110    ... NA     \n",
       "4 12    39     1       38   4    2      41    40    1    57    ... NA     \n",
       "5 12    42     1       51  -1    3      58    -1    6    57    ... NA     \n",
       "  hoursu1b hoursu1b_t1 se15u se15u_t1 ent015u ent015ua vet wgtat    wgtat1  \n",
       "1 40       40          0     0        0       0        0   269.1724 270.4338\n",
       "2 40       40          0     0        0       0        0   403.0235 404.9121\n",
       "3 46       40          0     0        0       0        0   402.7901 404.6776\n",
       "4 40       30          0     0        0       0        0   342.9345 344.5415\n",
       "5 -1       -1          0     0        0       0        0   560.2244 562.8497"
      ]
     },
     "metadata": {},
     "output_type": "display_data"
    }
   ],
   "source": [
    "# see what directory we are in\n",
    "getwd()\n",
    "# read in Kauffman data we looked at in the Python tutorial\n",
    "# Read in csv file and put in data frame named kisa\n",
    "# column names are set from the header of the read file if\n",
    "# header = TRUE\n",
    "kisa <- read.table(\"../Python/kisa_2015.csv\", \n",
    "                 header = TRUE,\n",
    "                 sep = \",\", fill = TRUE)\n",
    "kisa[1:5,] # show the first 5 rows"
   ]
  },
  {
   "cell_type": "code",
   "execution_count": 5,
   "metadata": {},
   "outputs": [
    {
     "data": {
      "text/html": [
       "<table>\n",
       "<thead><tr><th scope=col>month</th><th scope=col>grdatn</th><th scope=col>marstat</th><th scope=col>age</th><th scope=col>class</th><th scope=col>region</th><th scope=col>state</th><th scope=col>hours</th><th scope=col>mlr</th><th scope=col>natvty</th><th scope=col>⋯</th><th scope=col>homeown</th><th scope=col>hoursu1b</th><th scope=col>hoursu1b_t1</th><th scope=col>se15u</th><th scope=col>se15u_t1</th><th scope=col>ent015u</th><th scope=col>ent015ua</th><th scope=col>vet</th><th scope=col>wgtat</th><th scope=col>wgtat1</th></tr></thead>\n",
       "<tbody>\n",
       "\t<tr><td>12      </td><td>42      </td><td>5       </td><td>57      </td><td> 4      </td><td>1       </td><td>14      </td><td>40      </td><td>1       </td><td> 57     </td><td>⋯       </td><td>NA      </td><td>40      </td><td>40      </td><td>0       </td><td>0       </td><td>0       </td><td>0       </td><td>0       </td><td>269.1724</td><td>270.4338</td></tr>\n",
       "\t<tr><td>12      </td><td>39      </td><td>7       </td><td>26      </td><td> 4      </td><td>1       </td><td>14      </td><td>40      </td><td>1       </td><td> 57     </td><td>⋯       </td><td>NA      </td><td>40      </td><td>40      </td><td>0       </td><td>0       </td><td>0       </td><td>0       </td><td>0       </td><td>403.0235</td><td>404.9121</td></tr>\n",
       "\t<tr><td>12      </td><td>41      </td><td>1       </td><td>43      </td><td> 4      </td><td>2       </td><td>41      </td><td>46      </td><td>1       </td><td>110     </td><td>⋯       </td><td>NA      </td><td>46      </td><td>40      </td><td>0       </td><td>0       </td><td>0       </td><td>0       </td><td>0       </td><td>402.7901</td><td>404.6776</td></tr>\n",
       "\t<tr><td>12      </td><td>39      </td><td>1       </td><td>38      </td><td> 4      </td><td>2       </td><td>41      </td><td>40      </td><td>1       </td><td> 57     </td><td>⋯       </td><td>NA      </td><td>40      </td><td>30      </td><td>0       </td><td>0       </td><td>0       </td><td>0       </td><td>0       </td><td>342.9345</td><td>344.5415</td></tr>\n",
       "\t<tr><td>12      </td><td>42      </td><td>1       </td><td>51      </td><td>-1      </td><td>3       </td><td>58      </td><td>-1      </td><td>6       </td><td> 57     </td><td>⋯       </td><td>NA      </td><td>-1      </td><td>-1      </td><td>0       </td><td>0       </td><td>0       </td><td>0       </td><td>0       </td><td>560.2244</td><td>562.8497</td></tr>\n",
       "</tbody>\n",
       "</table>\n"
      ],
      "text/latex": [
       "\\begin{tabular}{r|lllllllllllllllllllllllllllllllllllll}\n",
       " month & grdatn & marstat & age & class & region & state & hours & mlr & natvty & ⋯ & homeown & hoursu1b & hoursu1b\\_t1 & se15u & se15u\\_t1 & ent015u & ent015ua & vet & wgtat & wgtat1\\\\\n",
       "\\hline\n",
       "\t 12       & 42       & 5        & 57       &  4       & 1        & 14       & 40       & 1        &  57      & ⋯        & NA       & 40       & 40       & 0        & 0        & 0        & 0        & 0        & 269.1724 & 270.4338\\\\\n",
       "\t 12       & 39       & 7        & 26       &  4       & 1        & 14       & 40       & 1        &  57      & ⋯        & NA       & 40       & 40       & 0        & 0        & 0        & 0        & 0        & 403.0235 & 404.9121\\\\\n",
       "\t 12       & 41       & 1        & 43       &  4       & 2        & 41       & 46       & 1        & 110      & ⋯        & NA       & 46       & 40       & 0        & 0        & 0        & 0        & 0        & 402.7901 & 404.6776\\\\\n",
       "\t 12       & 39       & 1        & 38       &  4       & 2        & 41       & 40       & 1        &  57      & ⋯        & NA       & 40       & 30       & 0        & 0        & 0        & 0        & 0        & 342.9345 & 344.5415\\\\\n",
       "\t 12       & 42       & 1        & 51       & -1       & 3        & 58       & -1       & 6        &  57      & ⋯        & NA       & -1       & -1       & 0        & 0        & 0        & 0        & 0        & 560.2244 & 562.8497\\\\\n",
       "\\end{tabular}\n"
      ],
      "text/markdown": [
       "\n",
       "month | grdatn | marstat | age | class | region | state | hours | mlr | natvty | ⋯ | homeown | hoursu1b | hoursu1b_t1 | se15u | se15u_t1 | ent015u | ent015ua | vet | wgtat | wgtat1 | \n",
       "|---|---|---|---|---|\n",
       "| 12       | 42       | 5        | 57       |  4       | 1        | 14       | 40       | 1        |  57      | ⋯        | NA       | 40       | 40       | 0        | 0        | 0        | 0        | 0        | 269.1724 | 270.4338 | \n",
       "| 12       | 39       | 7        | 26       |  4       | 1        | 14       | 40       | 1        |  57      | ⋯        | NA       | 40       | 40       | 0        | 0        | 0        | 0        | 0        | 403.0235 | 404.9121 | \n",
       "| 12       | 41       | 1        | 43       |  4       | 2        | 41       | 46       | 1        | 110      | ⋯        | NA       | 46       | 40       | 0        | 0        | 0        | 0        | 0        | 402.7901 | 404.6776 | \n",
       "| 12       | 39       | 1        | 38       |  4       | 2        | 41       | 40       | 1        |  57      | ⋯        | NA       | 40       | 30       | 0        | 0        | 0        | 0        | 0        | 342.9345 | 344.5415 | \n",
       "| 12       | 42       | 1        | 51       | -1       | 3        | 58       | -1       | 6        |  57      | ⋯        | NA       | -1       | -1       | 0        | 0        | 0        | 0        | 0        | 560.2244 | 562.8497 | \n",
       "\n",
       "\n"
      ],
      "text/plain": [
       "  month grdatn marstat age class region state hours mlr natvty ⋯ homeown\n",
       "1 12    42     5       57   4    1      14    40    1    57    ⋯ NA     \n",
       "2 12    39     7       26   4    1      14    40    1    57    ⋯ NA     \n",
       "3 12    41     1       43   4    2      41    46    1   110    ⋯ NA     \n",
       "4 12    39     1       38   4    2      41    40    1    57    ⋯ NA     \n",
       "5 12    42     1       51  -1    3      58    -1    6    57    ⋯ NA     \n",
       "  hoursu1b hoursu1b_t1 se15u se15u_t1 ent015u ent015ua vet wgtat    wgtat1  \n",
       "1 40       40          0     0        0       0        0   269.1724 270.4338\n",
       "2 40       40          0     0        0       0        0   403.0235 404.9121\n",
       "3 46       40          0     0        0       0        0   402.7901 404.6776\n",
       "4 40       30          0     0        0       0        0   342.9345 344.5415\n",
       "5 -1       -1          0     0        0       0        0   560.2244 562.8497"
      ]
     },
     "metadata": {},
     "output_type": "display_data"
    }
   ],
   "source": [
    "# the read.table() function above can also read in tab delimited text\n",
    "# there is a function specifically for csv (essentially the same,\n",
    "# just has sep default set to \",\" and fill default to TRUE)\n",
    "kisa2 <- read.csv(\"../Python/kisa_2015.csv\", \n",
    "                 header = TRUE)\n",
    "kisa2[1:5,] # show the first 5 rows"
   ]
  },
  {
   "cell_type": "code",
   "execution_count": 5,
   "metadata": {},
   "outputs": [
    {
     "name": "stderr",
     "output_type": "stream",
     "text": [
      "Installing package into 'C:/Users/yafei/Documents/R/win-library/3.4'\n",
      "(as 'lib' is unspecified)\n"
     ]
    },
    {
     "ename": "ERROR",
     "evalue": "Error in contrib.url(repos, \"source\"): trying to use CRAN without setting a mirror\n",
     "output_type": "error",
     "traceback": [
      "Error in contrib.url(repos, \"source\"): trying to use CRAN without setting a mirror\nTraceback:\n",
      "1. install.packages(\"readxl\")",
      "2. contrib.url(repos, \"source\")",
      "3. stop(\"trying to use CRAN without setting a mirror\")"
     ]
    }
   ],
   "source": [
    "install.packages(\"readxl\")\n",
    "library(readxl)"
   ]
  },
  {
   "cell_type": "markdown",
   "metadata": {},
   "source": [
    "### Reading data from Excel"
   ]
  },
  {
   "cell_type": "code",
   "execution_count": 4,
   "metadata": {},
   "outputs": [
    {
     "ename": "ERROR",
     "evalue": "Error in library(readxl): there is no package called 'readxl'\n",
     "output_type": "error",
     "traceback": [
      "Error in library(readxl): there is no package called 'readxl'\nTraceback:\n",
      "1. library(readxl)",
      "2. stop(txt, domain = NA)"
     ]
    }
   ],
   "source": [
    "# import readxl package  -- need to make sure installed \n",
    "# install.packages(\"readxl) # install package (only need to do if don't have already)\n",
    "library(readxl)\n",
    "\n",
    "# read in data used for PS #4\n",
    "df <- read_excel(\"../LoopConditional/radio_merger_data.xlsx\",\n",
    "                            sheet = 1)\n",
    "df[1:5,]"
   ]
  },
  {
   "cell_type": "markdown",
   "metadata": {},
   "source": [
    "### Reading Stata data files"
   ]
  },
  {
   "cell_type": "code",
   "execution_count": 18,
   "metadata": {},
   "outputs": [
    {
     "name": "stderr",
     "output_type": "stream",
     "text": [
      "also installing the dependencies ‘BH’, ‘readr’, ‘hms’, ‘forcats’\n",
      "\n"
     ]
    },
    {
     "name": "stdout",
     "output_type": "stream",
     "text": [
      "\n",
      "The downloaded binary packages are in\n",
      "\t/var/folders/b0/wwxd0byd1hx0y_rqrnqhmc0m0000gn/T//RtmpbSEaSP/downloaded_packages\n"
     ]
    },
    {
     "data": {
      "text/html": [
       "<table>\n",
       "<thead><tr><th scope=col>id68</th><th scope=col>year</th><th scope=col>intid</th><th scope=col>relhh</th><th scope=col>hannhrs</th><th scope=col>wannhrs</th><th scope=col>hlabinc</th><th scope=col>wlabinc</th><th scope=col>nochild</th><th scope=col>wrace</th><th scope=col>⋯</th><th scope=col>redpregovinc</th><th scope=col>hsex</th><th scope=col>wsex</th><th scope=col>age</th><th scope=col>wage</th><th scope=col>hpersno</th><th scope=col>wpersno</th><th scope=col>hyrsed</th><th scope=col>wyrsed</th><th scope=col>pce</th></tr></thead>\n",
       "<tbody>\n",
       "\t<tr><td>1   </td><td>1967</td><td>1   </td><td>1   </td><td>1200</td><td>2000</td><td>NA  </td><td>NA  </td><td>0   </td><td>NA  </td><td>⋯   </td><td>5614</td><td>1   </td><td>2   </td><td>52  </td><td>46  </td><td>1   </td><td>2   </td><td> 8  </td><td>8   </td><td>0   </td></tr>\n",
       "\t<tr><td>2   </td><td>1967</td><td>2   </td><td>1   </td><td>   0</td><td>   0</td><td>NA  </td><td>NA  </td><td>0   </td><td>NA  </td><td>⋯   </td><td>   0</td><td>1   </td><td>2   </td><td>56  </td><td>57  </td><td>1   </td><td>2   </td><td> 3  </td><td>3   </td><td>0   </td></tr>\n",
       "\t<tr><td>3   </td><td>1967</td><td>3   </td><td>1   </td><td>   0</td><td>   0</td><td>NA  </td><td>NA  </td><td>0   </td><td>NA  </td><td>⋯   </td><td>   0</td><td>1   </td><td>2   </td><td>77  </td><td>64  </td><td>1   </td><td>2   </td><td>NA  </td><td>3   </td><td>0   </td></tr>\n",
       "\t<tr><td>4   </td><td>1967</td><td>4   </td><td>1   </td><td>1560</td><td>   0</td><td>NA  </td><td>NA  </td><td>6   </td><td> 1  </td><td>⋯   </td><td>3280</td><td>1   </td><td>2   </td><td>45  </td><td>44  </td><td>1   </td><td>2   </td><td> 8  </td><td>5   </td><td>0   </td></tr>\n",
       "\t<tr><td>5   </td><td>1967</td><td>5   </td><td>1   </td><td>2500</td><td>2000</td><td>NA  </td><td>NA  </td><td>3   </td><td> 1  </td><td>⋯   </td><td>7900</td><td>1   </td><td>2   </td><td>24  </td><td>22  </td><td>1   </td><td>2   </td><td>10  </td><td>9   </td><td>0   </td></tr>\n",
       "</tbody>\n",
       "</table>\n"
      ],
      "text/latex": [
       "\\begin{tabular}{r|llllllllllllllllllllllllllllllllllllllllllllllllllll}\n",
       " id68 & year & intid & relhh & hannhrs & wannhrs & hlabinc & wlabinc & nochild & wrace & ⋯ & redpregovinc & hsex & wsex & age & wage & hpersno & wpersno & hyrsed & wyrsed & pce\\\\\n",
       "\\hline\n",
       "\t 1    & 1967 & 1    & 1    & 1200 & 2000 & NA   & NA   & 0    & NA   & ⋯    & 5614 & 1    & 2    & 52   & 46   & 1    & 2    &  8   & 8    & 0   \\\\\n",
       "\t 2    & 1967 & 2    & 1    &    0 &    0 & NA   & NA   & 0    & NA   & ⋯    &    0 & 1    & 2    & 56   & 57   & 1    & 2    &  3   & 3    & 0   \\\\\n",
       "\t 3    & 1967 & 3    & 1    &    0 &    0 & NA   & NA   & 0    & NA   & ⋯    &    0 & 1    & 2    & 77   & 64   & 1    & 2    & NA   & 3    & 0   \\\\\n",
       "\t 4    & 1967 & 4    & 1    & 1560 &    0 & NA   & NA   & 6    &  1   & ⋯    & 3280 & 1    & 2    & 45   & 44   & 1    & 2    &  8   & 5    & 0   \\\\\n",
       "\t 5    & 1967 & 5    & 1    & 2500 & 2000 & NA   & NA   & 3    &  1   & ⋯    & 7900 & 1    & 2    & 24   & 22   & 1    & 2    & 10   & 9    & 0   \\\\\n",
       "\\end{tabular}\n"
      ],
      "text/markdown": [
       "\n",
       "id68 | year | intid | relhh | hannhrs | wannhrs | hlabinc | wlabinc | nochild | wrace | ⋯ | redpregovinc | hsex | wsex | age | wage | hpersno | wpersno | hyrsed | wyrsed | pce | \n",
       "|---|---|---|---|---|\n",
       "| 1    | 1967 | 1    | 1    | 1200 | 2000 | NA   | NA   | 0    | NA   | ⋯    | 5614 | 1    | 2    | 52   | 46   | 1    | 2    |  8   | 8    | 0    | \n",
       "| 2    | 1967 | 2    | 1    |    0 |    0 | NA   | NA   | 0    | NA   | ⋯    |    0 | 1    | 2    | 56   | 57   | 1    | 2    |  3   | 3    | 0    | \n",
       "| 3    | 1967 | 3    | 1    |    0 |    0 | NA   | NA   | 0    | NA   | ⋯    |    0 | 1    | 2    | 77   | 64   | 1    | 2    | NA   | 3    | 0    | \n",
       "| 4    | 1967 | 4    | 1    | 1560 |    0 | NA   | NA   | 6    |  1   | ⋯    | 3280 | 1    | 2    | 45   | 44   | 1    | 2    |  8   | 5    | 0    | \n",
       "| 5    | 1967 | 5    | 1    | 2500 | 2000 | NA   | NA   | 3    |  1   | ⋯    | 7900 | 1    | 2    | 24   | 22   | 1    | 2    | 10   | 9    | 0    | \n",
       "\n",
       "\n"
      ],
      "text/plain": [
       "  id68 year intid relhh hannhrs wannhrs hlabinc wlabinc nochild wrace ⋯\n",
       "1 1    1967 1     1     1200    2000    NA      NA      0       NA    ⋯\n",
       "2 2    1967 2     1        0       0    NA      NA      0       NA    ⋯\n",
       "3 3    1967 3     1        0       0    NA      NA      0       NA    ⋯\n",
       "4 4    1967 4     1     1560       0    NA      NA      6        1    ⋯\n",
       "5 5    1967 5     1     2500    2000    NA      NA      3        1    ⋯\n",
       "  redpregovinc hsex wsex age wage hpersno wpersno hyrsed wyrsed pce\n",
       "1 5614         1    2    52  46   1       2        8     8      0  \n",
       "2    0         1    2    56  57   1       2        3     3      0  \n",
       "3    0         1    2    77  64   1       2       NA     3      0  \n",
       "4 3280         1    2    45  44   1       2        8     5      0  \n",
       "5 7900         1    2    24  22   1       2       10     9      0  "
      ]
     },
     "metadata": {},
     "output_type": "display_data"
    }
   ],
   "source": [
    "# Activate the `haven` library\n",
    "# install.packages(\"haven\") # if not already installed\n",
    "library(haven)\n",
    "\n",
    "# Read Stata data file used for PS #3\n",
    "ps3_data <- read_dta(\"../Functions/PS3_data.dta\") \n",
    "ps3_data[1:5,]"
   ]
  },
  {
   "cell_type": "markdown",
   "metadata": {},
   "source": [
    "Be sure to read more about these functions in there documentation.  They are quite flexible in terms of skipping lines and reformating data that you put into your R data frame.  They can also ready data from URLs (as we did in Python) with some modification.  Additionally, there are functions to read in data in many other formats.  DataCamp provides a good overview of these [here](https://www.datacamp.com/community/tutorials/r-data-import-tutorial#stata)."
   ]
  },
  {
   "cell_type": "markdown",
   "metadata": {},
   "source": [
    "## Writing data\n",
    "\n",
    "As with reading in data, there is the ability to write data into multiple formats from R.\n",
    "\n",
    "###  To CSV"
   ]
  },
  {
   "cell_type": "code",
   "execution_count": 6,
   "metadata": {},
   "outputs": [
    {
     "ename": "ERROR",
     "evalue": "Error in as.data.frame.default(x[[i]], optional = TRUE): cannot coerce class \"\"function\"\" to a data.frame\n",
     "output_type": "error",
     "traceback": [
      "Error in as.data.frame.default(x[[i]], optional = TRUE): cannot coerce class \"\"function\"\" to a data.frame\nTraceback:\n",
      "1. write.csv(file = \"test_write.csv\", x = df)",
      "2. eval.parent(Call)",
      "3. eval(expr, p)",
      "4. eval(expr, p)",
      "5. write.table(file = \"test_write.csv\", x = df, col.names = NA, \n .     sep = \",\", dec = \".\", qmethod = \"double\")",
      "6. data.frame(x)",
      "7. as.data.frame(x[[i]], optional = TRUE)",
      "8. as.data.frame.default(x[[i]], optional = TRUE)",
      "9. stop(gettextf(\"cannot coerce class \\\"%s\\\" to a data.frame\", deparse(class(x))), \n .     domain = NA)"
     ]
    }
   ],
   "source": [
    "# write the radio mergers data to csv (df was the\n",
    "# name of the data frame from above)\n",
    "write.csv(file='test_write.csv', x=df)"
   ]
  },
  {
   "cell_type": "markdown",
   "metadata": {},
   "source": [
    "### To Excel"
   ]
  },
  {
   "cell_type": "code",
   "execution_count": 32,
   "metadata": {},
   "outputs": [
    {
     "name": "stdout",
     "output_type": "stream",
     "text": [
      "\n",
      "The downloaded binary packages are in\n",
      "\t/var/folders/b0/wwxd0byd1hx0y_rqrnqhmc0m0000gn/T//RtmpbSEaSP/downloaded_packages\n"
     ]
    }
   ],
   "source": [
    "# install.packages(\"openxlsx\") # if not already installed\n",
    "library(openxlsx)\n",
    "\n",
    "# for writing a data.frame or list of data.frames to an xlsx file\n",
    "write.xlsx(df, \"test_write.xlsx\")"
   ]
  },
  {
   "cell_type": "markdown",
   "metadata": {},
   "source": [
    "### To Stata"
   ]
  },
  {
   "cell_type": "code",
   "execution_count": 29,
   "metadata": {
    "collapsed": true
   },
   "outputs": [],
   "source": [
    "# Uses the haven package we imported above\n",
    "write_dta(df, 'test_write.dta', version = 14) # note, haven only supports to Stata 14"
   ]
  },
  {
   "cell_type": "markdown",
   "metadata": {},
   "source": [
    "Again, be sure to read the documentation about these functions to see the available keyword arguments that will allow you to adjust how the data are saved."
   ]
  },
  {
   "cell_type": "code",
   "execution_count": null,
   "metadata": {
    "collapsed": true
   },
   "outputs": [],
   "source": []
  }
 ],
 "metadata": {
  "kernelspec": {
   "display_name": "R",
   "language": "R",
   "name": "ir"
  },
  "language_info": {
   "codemirror_mode": "r",
   "file_extension": ".r",
   "mimetype": "text/x-r-source",
   "name": "R",
   "pygments_lexer": "r",
   "version": "3.4.2"
  }
 },
 "nbformat": 4,
 "nbformat_minor": 2
}
