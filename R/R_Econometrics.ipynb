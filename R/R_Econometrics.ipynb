{
 "cells": [
  {
   "cell_type": "markdown",
   "metadata": {},
   "source": [
    "# Econometric Methods in R\n",
    "### by [Jason DeBacker](http://jasondebacker.com), October 2017\n",
    "\n",
    "This notebook illustrates some of the econometric tools available in R by estimating OLS, IV models.\n",
    "\n",
    "To illustrate OLS and IV estimators, we'll use some example data from an econometic textbook.  To get these data, we'll install the `AER` package in R.  This package contains functions, data sets, examples, demos, and vignettes for the book Christian Kleiber and Achim Zeileis (2008)."
   ]
  },
  {
   "cell_type": "code",
   "execution_count": 24,
   "metadata": {},
   "outputs": [],
   "source": [
    "# install package (if not done already)\n",
    "# install.packages('AER')\n",
    "# import package\n",
    "library(AER)"
   ]
  },
  {
   "cell_type": "code",
   "execution_count": 27,
   "metadata": {},
   "outputs": [
    {
     "name": "stderr",
     "output_type": "stream",
     "text": [
      "Installing package into 'C:/Users/yafei/Documents/R/win-library/3.4'\n",
      "(as 'lib' is unspecified)\n",
      "also installing the dependencies 'quadprog', 'optextras', 'numDeriv', 'ucminf', 'BB', 'Rcgmin', 'Rvmmin', 'setRNG', 'dfoptim', 'svUnit'\n",
      "\n"
     ]
    },
    {
     "name": "stdout",
     "output_type": "stream",
     "text": [
      "package 'quadprog' successfully unpacked and MD5 sums checked\n",
      "package 'optextras' successfully unpacked and MD5 sums checked\n",
      "package 'numDeriv' successfully unpacked and MD5 sums checked\n",
      "package 'ucminf' successfully unpacked and MD5 sums checked\n",
      "package 'BB' successfully unpacked and MD5 sums checked\n",
      "package 'Rcgmin' successfully unpacked and MD5 sums checked\n",
      "package 'Rvmmin' successfully unpacked and MD5 sums checked\n",
      "package 'setRNG' successfully unpacked and MD5 sums checked\n",
      "package 'dfoptim' successfully unpacked and MD5 sums checked\n",
      "package 'svUnit' successfully unpacked and MD5 sums checked\n",
      "package 'optimx' successfully unpacked and MD5 sums checked\n",
      "\n",
      "The downloaded binary packages are in\n",
      "\tC:\\Users\\yafei\\AppData\\Local\\Temp\\RtmpcTTuuF\\downloaded_packages\n"
     ]
    }
   ],
   "source": [
    "install.packages('optimx', repos = \"https://cloud.r-project.org\")"
   ]
  },
  {
   "cell_type": "markdown",
   "metadata": {},
   "source": [
    " # OLS and IV\n",
    "\n",
    "We'll look at the implementation of OLS and IV estimators by estimating models of female labor supply.  We'll do this with data on married women from the 1976 PSID.  This example comes from [this](https://www.r-bloggers.com/instrumental-variables-in-r-exercises-part-3/) exercise from R-bloggers."
   ]
  },
  {
   "cell_type": "code",
   "execution_count": 6,
   "metadata": {},
   "outputs": [
    {
     "data": {
      "text/html": [
       "<table>\n",
       "<thead><tr><th scope=col>participation</th><th scope=col>hours</th><th scope=col>youngkids</th><th scope=col>oldkids</th><th scope=col>age</th><th scope=col>education</th><th scope=col>wage</th><th scope=col>repwage</th><th scope=col>hhours</th><th scope=col>hage</th><th scope=col>...</th><th scope=col>hwage</th><th scope=col>fincome</th><th scope=col>tax</th><th scope=col>meducation</th><th scope=col>feducation</th><th scope=col>unemp</th><th scope=col>city</th><th scope=col>experience</th><th scope=col>college</th><th scope=col>hcollege</th></tr></thead>\n",
       "<tbody>\n",
       "\t<tr><td>yes    </td><td>1610   </td><td>1      </td><td>0      </td><td>32     </td><td>12     </td><td>3.3540 </td><td>2.65   </td><td>2708   </td><td>34     </td><td>...    </td><td> 4.0288</td><td>16310  </td><td>0.7215 </td><td>12     </td><td> 7     </td><td> 5.0   </td><td>no     </td><td>14     </td><td>no     </td><td>no     </td></tr>\n",
       "\t<tr><td>yes    </td><td>1656   </td><td>0      </td><td>2      </td><td>30     </td><td>12     </td><td>1.3889 </td><td>2.65   </td><td>2310   </td><td>30     </td><td>...    </td><td> 8.4416</td><td>21800  </td><td>0.6615 </td><td> 7     </td><td> 7     </td><td>11.0   </td><td>yes    </td><td> 5     </td><td>no     </td><td>no     </td></tr>\n",
       "\t<tr><td>yes    </td><td>1980   </td><td>1      </td><td>3      </td><td>35     </td><td>12     </td><td>4.5455 </td><td>4.04   </td><td>3072   </td><td>40     </td><td>...    </td><td> 3.5807</td><td>21040  </td><td>0.6915 </td><td>12     </td><td> 7     </td><td> 5.0   </td><td>no     </td><td>15     </td><td>no     </td><td>no     </td></tr>\n",
       "\t<tr><td>yes    </td><td> 456   </td><td>0      </td><td>3      </td><td>34     </td><td>12     </td><td>1.0965 </td><td>3.25   </td><td>1920   </td><td>53     </td><td>...    </td><td> 3.5417</td><td> 7300  </td><td>0.7815 </td><td> 7     </td><td> 7     </td><td> 5.0   </td><td>no     </td><td> 6     </td><td>no     </td><td>no     </td></tr>\n",
       "\t<tr><td>yes    </td><td>1568   </td><td>1      </td><td>2      </td><td>31     </td><td>14     </td><td>4.5918 </td><td>3.60   </td><td>2000   </td><td>32     </td><td>...    </td><td>10.0000</td><td>27300  </td><td>0.6215 </td><td>12     </td><td>14     </td><td> 9.5   </td><td>yes    </td><td> 7     </td><td>yes    </td><td>no     </td></tr>\n",
       "</tbody>\n",
       "</table>\n"
      ],
      "text/latex": [
       "\\begin{tabular}{r|lllllllllllllllllllll}\n",
       " participation & hours & youngkids & oldkids & age & education & wage & repwage & hhours & hage & ... & hwage & fincome & tax & meducation & feducation & unemp & city & experience & college & hcollege\\\\\n",
       "\\hline\n",
       "\t yes     & 1610    & 1       & 0       & 32      & 12      & 3.3540  & 2.65    & 2708    & 34      & ...     &  4.0288 & 16310   & 0.7215  & 12      &  7      &  5.0    & no      & 14      & no      & no     \\\\\n",
       "\t yes     & 1656    & 0       & 2       & 30      & 12      & 1.3889  & 2.65    & 2310    & 30      & ...     &  8.4416 & 21800   & 0.6615  &  7      &  7      & 11.0    & yes     &  5      & no      & no     \\\\\n",
       "\t yes     & 1980    & 1       & 3       & 35      & 12      & 4.5455  & 4.04    & 3072    & 40      & ...     &  3.5807 & 21040   & 0.6915  & 12      &  7      &  5.0    & no      & 15      & no      & no     \\\\\n",
       "\t yes     &  456    & 0       & 3       & 34      & 12      & 1.0965  & 3.25    & 1920    & 53      & ...     &  3.5417 &  7300   & 0.7815  &  7      &  7      &  5.0    & no      &  6      & no      & no     \\\\\n",
       "\t yes     & 1568    & 1       & 2       & 31      & 14      & 4.5918  & 3.60    & 2000    & 32      & ...     & 10.0000 & 27300   & 0.6215  & 12      & 14      &  9.5    & yes     &  7      & yes     & no     \\\\\n",
       "\\end{tabular}\n"
      ],
      "text/markdown": [
       "\n",
       "participation | hours | youngkids | oldkids | age | education | wage | repwage | hhours | hage | ... | hwage | fincome | tax | meducation | feducation | unemp | city | experience | college | hcollege | \n",
       "|---|---|---|---|---|\n",
       "| yes     | 1610    | 1       | 0       | 32      | 12      | 3.3540  | 2.65    | 2708    | 34      | ...     |  4.0288 | 16310   | 0.7215  | 12      |  7      |  5.0    | no      | 14      | no      | no      | \n",
       "| yes     | 1656    | 0       | 2       | 30      | 12      | 1.3889  | 2.65    | 2310    | 30      | ...     |  8.4416 | 21800   | 0.6615  |  7      |  7      | 11.0    | yes     |  5      | no      | no      | \n",
       "| yes     | 1980    | 1       | 3       | 35      | 12      | 4.5455  | 4.04    | 3072    | 40      | ...     |  3.5807 | 21040   | 0.6915  | 12      |  7      |  5.0    | no      | 15      | no      | no      | \n",
       "| yes     |  456    | 0       | 3       | 34      | 12      | 1.0965  | 3.25    | 1920    | 53      | ...     |  3.5417 |  7300   | 0.7815  |  7      |  7      |  5.0    | no      |  6      | no      | no      | \n",
       "| yes     | 1568    | 1       | 2       | 31      | 14      | 4.5918  | 3.60    | 2000    | 32      | ...     | 10.0000 | 27300   | 0.6215  | 12      | 14      |  9.5    | yes     |  7      | yes     | no      | \n",
       "\n",
       "\n"
      ],
      "text/plain": [
       "  participation hours youngkids oldkids age education wage   repwage hhours\n",
       "1 yes           1610  1         0       32  12        3.3540 2.65    2708  \n",
       "2 yes           1656  0         2       30  12        1.3889 2.65    2310  \n",
       "3 yes           1980  1         3       35  12        4.5455 4.04    3072  \n",
       "4 yes            456  0         3       34  12        1.0965 3.25    1920  \n",
       "5 yes           1568  1         2       31  14        4.5918 3.60    2000  \n",
       "  hage ... hwage   fincome tax    meducation feducation unemp city experience\n",
       "1 34   ...  4.0288 16310   0.7215 12          7          5.0  no   14        \n",
       "2 30   ...  8.4416 21800   0.6615  7          7         11.0  yes   5        \n",
       "3 40   ...  3.5807 21040   0.6915 12          7          5.0  no   15        \n",
       "4 53   ...  3.5417  7300   0.7815  7          7          5.0  no    6        \n",
       "5 32   ... 10.0000 27300   0.6215 12         14          9.5  yes   7        \n",
       "  college hcollege\n",
       "1 no      no      \n",
       "2 no      no      \n",
       "3 no      no      \n",
       "4 no      no      \n",
       "5 yes     no      "
      ]
     },
     "metadata": {},
     "output_type": "display_data"
    },
    {
     "data": {
      "text/plain": [
       " participation     hours          youngkids         oldkids     \n",
       " no :325       Min.   :   0.0   Min.   :0.0000   Min.   :0.000  \n",
       " yes:428       1st Qu.:   0.0   1st Qu.:0.0000   1st Qu.:0.000  \n",
       "               Median : 288.0   Median :0.0000   Median :1.000  \n",
       "               Mean   : 740.6   Mean   :0.2377   Mean   :1.353  \n",
       "               3rd Qu.:1516.0   3rd Qu.:0.0000   3rd Qu.:2.000  \n",
       "               Max.   :4950.0   Max.   :3.0000   Max.   :8.000  \n",
       "      age          education          wage           repwage         hhours    \n",
       " Min.   :30.00   Min.   : 5.00   Min.   : 0.000   Min.   :0.00   Min.   : 175  \n",
       " 1st Qu.:36.00   1st Qu.:12.00   1st Qu.: 0.000   1st Qu.:0.00   1st Qu.:1928  \n",
       " Median :43.00   Median :12.00   Median : 1.625   Median :0.00   Median :2164  \n",
       " Mean   :42.54   Mean   :12.29   Mean   : 2.375   Mean   :1.85   Mean   :2267  \n",
       " 3rd Qu.:49.00   3rd Qu.:13.00   3rd Qu.: 3.788   3rd Qu.:3.58   3rd Qu.:2553  \n",
       " Max.   :60.00   Max.   :17.00   Max.   :25.000   Max.   :9.98   Max.   :5010  \n",
       "      hage         heducation        hwage            fincome     \n",
       " Min.   :30.00   Min.   : 3.00   Min.   : 0.4121   Min.   : 1500  \n",
       " 1st Qu.:38.00   1st Qu.:11.00   1st Qu.: 4.7883   1st Qu.:15428  \n",
       " Median :46.00   Median :12.00   Median : 6.9758   Median :20880  \n",
       " Mean   :45.12   Mean   :12.49   Mean   : 7.4822   Mean   :23081  \n",
       " 3rd Qu.:52.00   3rd Qu.:15.00   3rd Qu.: 9.1667   3rd Qu.:28200  \n",
       " Max.   :60.00   Max.   :17.00   Max.   :40.5090   Max.   :96000  \n",
       "      tax           meducation       feducation         unemp         city    \n",
       " Min.   :0.4415   Min.   : 0.000   Min.   : 0.000   Min.   : 3.000   no :269  \n",
       " 1st Qu.:0.6215   1st Qu.: 7.000   1st Qu.: 7.000   1st Qu.: 7.500   yes:484  \n",
       " Median :0.6915   Median :10.000   Median : 7.000   Median : 7.500            \n",
       " Mean   :0.6789   Mean   : 9.251   Mean   : 8.809   Mean   : 8.624            \n",
       " 3rd Qu.:0.7215   3rd Qu.:12.000   3rd Qu.:12.000   3rd Qu.:11.000            \n",
       " Max.   :0.9415   Max.   :17.000   Max.   :17.000   Max.   :14.000            \n",
       "   experience    college   hcollege \n",
       " Min.   : 0.00   no :541   no :458  \n",
       " 1st Qu.: 4.00   yes:212   yes:295  \n",
       " Median : 9.00                      \n",
       " Mean   :10.63                      \n",
       " 3rd Qu.:15.00                      \n",
       " Max.   :45.00                      "
      ]
     },
     "metadata": {},
     "output_type": "display_data"
    }
   ],
   "source": [
    "## Load data from the 1976 PSID and look at first 5 rows\n",
    "data(\"PSID1976\")\n",
    "PSID1976[1:5,]\n",
    "summary(PSID1976)"
   ]
  },
  {
   "cell_type": "code",
   "execution_count": 7,
   "metadata": {},
   "outputs": [
    {
     "name": "stdout",
     "output_type": "stream",
     "text": [
      "'data.frame':\t753 obs. of  21 variables:\n",
      " $ participation: Factor w/ 2 levels \"no\",\"yes\": 2 2 2 2 2 2 2 2 2 2 ...\n",
      " $ hours        : int  1610 1656 1980 456 1568 2032 1440 1020 1458 1600 ...\n",
      " $ youngkids    : int  1 0 1 0 1 0 0 0 0 0 ...\n",
      " $ oldkids      : int  0 2 3 3 2 0 2 0 2 2 ...\n",
      " $ age          : int  32 30 35 34 31 54 37 54 48 39 ...\n",
      " $ education    : int  12 12 12 12 14 12 16 12 12 12 ...\n",
      " $ wage         : num  3.35 1.39 4.55 1.1 4.59 ...\n",
      " $ repwage      : num  2.65 2.65 4.04 3.25 3.6 4.7 5.95 9.98 0 4.15 ...\n",
      " $ hhours       : int  2708 2310 3072 1920 2000 1040 2670 4120 1995 2100 ...\n",
      " $ hage         : int  34 30 40 53 32 57 37 53 52 43 ...\n",
      " $ heducation   : int  12 9 12 10 12 11 12 8 4 12 ...\n",
      " $ hwage        : num  4.03 8.44 3.58 3.54 10 ...\n",
      " $ fincome      : int  16310 21800 21040 7300 27300 19495 21152 18900 20405 20425 ...\n",
      " $ tax          : num  0.722 0.661 0.692 0.781 0.622 ...\n",
      " $ meducation   : int  12 7 12 7 12 14 14 3 7 7 ...\n",
      " $ feducation   : int  7 7 7 7 14 7 7 3 7 7 ...\n",
      " $ unemp        : num  5 11 5 5 9.5 7.5 5 5 3 5 ...\n",
      " $ city         : Factor w/ 2 levels \"no\",\"yes\": 1 2 1 1 2 2 1 1 1 1 ...\n",
      " $ experience   : int  14 5 15 6 7 33 11 35 24 21 ...\n",
      " $ college      : Factor w/ 2 levels \"no\",\"yes\": 1 1 1 1 2 1 2 1 1 1 ...\n",
      " $ hcollege     : Factor w/ 2 levels \"no\",\"yes\": 1 1 1 1 1 1 1 1 1 1 ...\n"
     ]
    }
   ],
   "source": [
    "# Get a list of all column names\n",
    "str(PSID1976)"
   ]
  },
  {
   "cell_type": "markdown",
   "metadata": {},
   "source": [
    "We'll be looking at female labor supply of married women, so let's define a dataset that is just married women who are in the labor force."
   ]
  },
  {
   "cell_type": "code",
   "execution_count": 8,
   "metadata": {
    "collapsed": true
   },
   "outputs": [],
   "source": [
    "# Subset data to just get those participating in the labor force\n",
    "df <- subset(PSID1976, participation == \"yes\")"
   ]
  },
  {
   "cell_type": "markdown",
   "metadata": {},
   "source": [
    "## OLS\n",
    "\n",
    "We start with a simple OLS model estimating the impact of education and experience on log wages:\n",
    "\n",
    "$$ ln(wage_{i}) = \\alpha + \\beta_{1} education_i + \\beta_{2}experience_{i} + \\beta_{3} experience^{2}_{i} + \\varepsilon_i $$\n",
    "\n",
    "To estimate an OLS model in R, use the [`lm()`](https://www.rdocumentation.org/packages/stats/versions/3.4.1/topics/lm) function."
   ]
  },
  {
   "cell_type": "code",
   "execution_count": 13,
   "metadata": {},
   "outputs": [
    {
     "data": {
      "text/plain": [
       "\n",
       "Call:\n",
       "lm(formula = log(df$wage) ~ df$education + df$experience + I(df$experience^2))\n",
       "\n",
       "Residuals:\n",
       "     Min       1Q   Median       3Q      Max \n",
       "-3.08404 -0.30627  0.04952  0.37498  2.37115 \n",
       "\n",
       "Coefficients:\n",
       "                     Estimate Std. Error t value Pr(>|t|)    \n",
       "(Intercept)        -0.5220406  0.1986321  -2.628  0.00890 ** \n",
       "df$education        0.1074896  0.0141465   7.598 1.94e-13 ***\n",
       "df$experience       0.0415665  0.0131752   3.155  0.00172 ** \n",
       "I(df$experience^2) -0.0008112  0.0003932  -2.063  0.03974 *  \n",
       "---\n",
       "Signif. codes:  0 '***' 0.001 '**' 0.01 '*' 0.05 '.' 0.1 ' ' 1\n",
       "\n",
       "Residual standard error: 0.6664 on 424 degrees of freedom\n",
       "Multiple R-squared:  0.1568,\tAdjusted R-squared:  0.1509 \n",
       "F-statistic: 26.29 on 3 and 424 DF,  p-value: 1.302e-15\n"
      ]
     },
     "metadata": {},
     "output_type": "display_data"
    }
   ],
   "source": [
    "# Define and estimate the model\n",
    "wage_OLS <- lm(log(df$wage) ~ df$education + df$experience + I(df$experience^2))\n",
    "summary(wage_OLS)\n",
    "# you can also do df[['wage']] to refer to the value of the column like in python"
   ]
  },
  {
   "cell_type": "code",
   "execution_count": 14,
   "metadata": {},
   "outputs": [
    {
     "data": {
      "text/plain": [
       "\n",
       "Call:\n",
       "lm(formula = log(df$wage) ~ df$education + df$experience + I(df$experience^2))\n",
       "\n",
       "Coefficients:\n",
       "       (Intercept)        df$education       df$experience  I(df$experience^2)  \n",
       "        -0.5220406           0.1074896           0.0415665          -0.0008112  \n"
      ]
     },
     "metadata": {},
     "output_type": "display_data"
    }
   ],
   "source": [
    "wage_OLS"
   ]
  },
  {
   "cell_type": "markdown",
   "metadata": {},
   "source": [
    "If you wanted to adjust the standard errors (e.g., clutered, robust, etc), you will use the `coeftest()` function after your model is esitmate with a keyword arugment that allows you to set the variance-covariance matrix used for the standard errors.  With this, we'll call the robust VCV matrix function [`vcovHC`](https://www.rdocumentation.org/packages/plm/versions/1.6-5/topics/vcovHC).\n",
    "\n",
    "We won't use robust standard errors for these exercises, but to illustrate how this is done, suppose that we want robust standard errors for the model above."
   ]
  },
  {
   "cell_type": "code",
   "execution_count": 15,
   "metadata": {},
   "outputs": [
    {
     "data": {
      "text/plain": [
       "\n",
       "t test of coefficients:\n",
       "\n",
       "                      Estimate  Std. Error t value Pr(>|t|)    \n",
       "(Intercept)        -0.52204056  0.20165046 -2.5888 0.009961 ** \n",
       "df$education        0.10748964  0.01321897  8.1315 4.72e-15 ***\n",
       "df$experience       0.04156651  0.01527304  2.7216 0.006765 ** \n",
       "I(df$experience^2) -0.00081119  0.00042007 -1.9311 0.054139 .  \n",
       "---\n",
       "Signif. codes:  0 '***' 0.001 '**' 0.01 '*' 0.05 '.' 0.1 ' ' 1\n"
      ]
     },
     "metadata": {},
     "output_type": "display_data"
    }
   ],
   "source": [
    "# Compute robust standard errors using the HC1 method (same as Stata with \"robust\" option)\n",
    "coeftest(wage_OLS, vcov = vcovHC(wage_OLS, \"HC1\"))\n",
    "# you deal with the heteroskedaticity with robust standard errors"
   ]
  },
  {
   "cell_type": "markdown",
   "metadata": {},
   "source": [
    "We can also estimate the linear model via a GMM estimator.  We should ge the same coefficients, but the standard errors are computed differently."
   ]
  },
  {
   "cell_type": "code",
   "execution_count": 17,
   "metadata": {},
   "outputs": [],
   "source": [
    "# install GMM package if not already have\n",
    "# install.packages('gmm')\n",
    "library(gmm)"
   ]
  },
  {
   "cell_type": "code",
   "execution_count": 18,
   "metadata": {},
   "outputs": [
    {
     "data": {
      "text/plain": [
       "\n",
       "Call:\n",
       "gmm(g = log(df$wage) ~ df$education + df$experience + I(df$experience^2), \n",
       "    x = cbind(df$education, df$experience, I(df$experience^2)))\n",
       "\n",
       "\n",
       "Method:  twoStep \n",
       "\n",
       "Kernel:  Quadratic Spectral\n",
       "\n",
       "Coefficients:\n",
       "                    Estimate     Std. Error   t value      Pr(>|t|)   \n",
       "(Intercept)         -5.2204e-01   2.0438e-01  -2.5543e+00   1.0640e-02\n",
       "df$education         1.0749e-01   1.3753e-02   7.8157e+00   5.4648e-15\n",
       "df$experience        4.1567e-02   1.4384e-02   2.8897e+00   3.8558e-03\n",
       "I(df$experience^2)  -8.1119e-04   3.9425e-04  -2.0575e+00   3.9634e-02\n",
       "\n",
       "J-Test: degrees of freedom is 0 \n",
       "                J-test                P-value             \n",
       "Test E(g)=0:    2.98573484536912e-24  *******             \n"
      ]
     },
     "metadata": {},
     "output_type": "display_data"
    }
   ],
   "source": [
    "wage_GMM <- gmm(log(df$wage) ~ df$education + df$experience + I(df$experience^2),\n",
    "                x = cbind(df$education, df$experience, I(df$experience^2)))# cbind put columns together in a independent dataframe\n",
    "summary(wage_GMM)"
   ]
  },
  {
   "cell_type": "markdown",
   "metadata": {},
   "source": [
    "# Instrumental Variables Regression Models\n",
    "\n",
    "\n",
    "## IV via 2SLS\n",
    "\n",
    "Of course estimates to the returns to education in the model above are likely biased since education and wages are likely correlated with other factors we aren't (or can't) control for such as cognitive and non-cognitive abilities that make one more productive in school and on the job.\n",
    "\n",
    "To reduce the bias that results from this ommited variable, let's estimate an instrumental variables (IV) model.  Here, we'll argue that the education of the woman's father is correlated with her education level, but not her wages (conditional on her education and experience).  Thus father's education can help provide exogenous variation in education (conditional on father's education and other covariates).\n",
    "\n",
    "One approach to IV models is to use the two-stage least squares (2SLS) estimator, where a model of the woman's eduation is estimated in a first stage:\n",
    "\n",
    "$$ education_{i} = \\gamma_{0} + \\gamma_{1}father_education_{i} + \\gamma_{2}experience_{i} + \\gamma_{3} experience^{2}_{i} + u_i $$\n",
    "\n",
    "And then the predicted values of the the woman's education are used in the second stage to estimate the returns to education:\n",
    "\n",
    "\n",
    "$$ ln(wage_{i}) = \\alpha + \\beta_{1} \\hat{education}_i + \\beta_{2}experience_{i} + \\beta_{3} experience^{2}_{i} + \\varepsilon_i $$\n",
    "\n",
    "In this way, we ensure that the error term is uncorrelated with the covariates in the second stage.\n",
    "\n",
    "To estimate this model via 2SLS, we'll use the [`iv_reg()`](https://www.rdocumentation.org/packages/AER/versions/1.2-5/topics/ivreg) function."
   ]
  },
  {
   "cell_type": "code",
   "execution_count": 19,
   "metadata": {},
   "outputs": [
    {
     "data": {
      "text/plain": [
       "\n",
       "Call:\n",
       "ivreg(formula = log(df$wage) ~ df$education + df$experience + \n",
       "    I(df$experience^2) | df$feducation + df$experience + I(df$experience^2))\n",
       "\n",
       "Residuals:\n",
       "     Min       1Q   Median       3Q      Max \n",
       "-3.09170 -0.32776  0.05006  0.37365  2.35346 \n",
       "\n",
       "Coefficients:\n",
       "                     Estimate Std. Error t value Pr(>|t|)   \n",
       "(Intercept)        -0.0611170  0.4364461  -0.140  0.88870   \n",
       "df$education        0.0702263  0.0344427   2.039  0.04208 * \n",
       "df$experience       0.0436716  0.0134001   3.259  0.00121 **\n",
       "I(df$experience^2) -0.0008822  0.0004009  -2.200  0.02832 * \n",
       "---\n",
       "Signif. codes:  0 '***' 0.001 '**' 0.01 '*' 0.05 '.' 0.1 ' ' 1\n",
       "\n",
       "Residual standard error: 0.6719 on 424 degrees of freedom\n",
       "Multiple R-Squared: 0.143,\tAdjusted R-squared: 0.137 \n",
       "Wald test: 8.314 on 3 and 424 DF,  p-value: 2.201e-05 \n"
      ]
     },
     "metadata": {},
     "output_type": "display_data"
    }
   ],
   "source": [
    "# Call the ivreg() function.  Note the \"|\" to separate the first stage equation\n",
    "wage_IV <- ivreg(log(df$wage) ~ df$education + df$experience + I(df$experience^2) |\n",
    "                 df$feducation + df$experience + I(df$experience^2))# education is not in the first stage so it automatically treat\n",
    "# it as endogenous variable\n",
    "\n",
    "summary(wage_IV)"
   ]
  },
  {
   "cell_type": "markdown",
   "metadata": {},
   "source": [
    "## Testing for endogeneity\n",
    "\n",
    "A standard test to run for IV models is the Hausman test for edogeneity fo the suspected endogenous variable.  This is available in the diagnostics done in the `ivreg()` function.  To print this with the other output, add the `diagnostics = TRUE` to the keyword arguments in `summary()`:"
   ]
  },
  {
   "cell_type": "code",
   "execution_count": 20,
   "metadata": {},
   "outputs": [
    {
     "data": {
      "text/plain": [
       "\n",
       "Call:\n",
       "ivreg(formula = log(df$wage) ~ df$education + df$experience + \n",
       "    I(df$experience^2) | df$feducation + df$experience + I(df$experience^2))\n",
       "\n",
       "Residuals:\n",
       "     Min       1Q   Median       3Q      Max \n",
       "-3.09170 -0.32776  0.05006  0.37365  2.35346 \n",
       "\n",
       "Coefficients:\n",
       "                     Estimate Std. Error t value Pr(>|t|)   \n",
       "(Intercept)        -0.0611170  0.4364461  -0.140  0.88870   \n",
       "df$education        0.0702263  0.0344427   2.039  0.04208 * \n",
       "df$experience       0.0436716  0.0134001   3.259  0.00121 **\n",
       "I(df$experience^2) -0.0008822  0.0004009  -2.200  0.02832 * \n",
       "\n",
       "Diagnostic tests:\n",
       "                 df1 df2 statistic p-value    \n",
       "Weak instruments   1 424    87.741  <2e-16 ***\n",
       "Wu-Hausman         1 423     1.437   0.231    \n",
       "Sargan             0  NA        NA      NA    \n",
       "---\n",
       "Signif. codes:  0 '***' 0.001 '**' 0.01 '*' 0.05 '.' 0.1 ' ' 1\n",
       "\n",
       "Residual standard error: 0.6719 on 424 degrees of freedom\n",
       "Multiple R-Squared: 0.143,\tAdjusted R-squared: 0.137 \n",
       "Wald test: 8.314 on 3 and 424 DF,  p-value: 2.201e-05 \n"
      ]
     },
     "metadata": {},
     "output_type": "display_data"
    }
   ],
   "source": [
    "summary(wage_IV, diagnostics = TRUE)"
   ]
  },
  {
   "cell_type": "markdown",
   "metadata": {},
   "source": [
    "Here, we see that the Wu-Hausman test finds that we can't reject the null hypothesis that OLS is consistent - at least at standard levels of significance."
   ]
  },
  {
   "cell_type": "markdown",
   "metadata": {},
   "source": [
    "## IV via GMM\n",
    "\n",
    "We can also estimate this instrumental variables model via GMM.  The GMM estimator has the following $K$ moment conditions (where $K$ are the number of instruments in $z_{i}$):\n",
    "\n",
    "$$ g(\\beta_{0}) = E[z_{i}\\varepsilon_{i}] = E[z_{i}(y_{i}-x_{i}^{'}\\beta_{0}] = 0 $$\n",
    "\n",
    "Where $z_{i}$ is the instrument set (e.g., in the example here, $z_{i}$ = fathers's education, experience, and experience squared (and thus $K=4$).\n",
    "\n",
    "To use this estimator, we'll call the `gmm()` function as we did above, this time specifying the instrument set."
   ]
  },
  {
   "cell_type": "code",
   "execution_count": 21,
   "metadata": {},
   "outputs": [
    {
     "data": {
      "text/plain": [
       "\n",
       "Call:\n",
       "gmm(g = log(wage) ~ education + experience + I(experience^2), \n",
       "    x = z, data = df)\n",
       "\n",
       "\n",
       "Method:  twoStep \n",
       "\n",
       "Kernel:  Quadratic Spectral\n",
       "\n",
       "Coefficients:\n",
       "                 Estimate     Std. Error   t value      Pr(>|t|)   \n",
       "(Intercept)      -0.06111695   0.47563666  -0.12849504   0.89775722\n",
       "education         0.07022629   0.03804391   1.84592731   0.06490276\n",
       "experience        0.04367159   0.01470161   2.97053208   0.00297284\n",
       "I(experience^2)  -0.00088215   0.00040511  -2.17758422   0.02943701\n",
       "\n",
       "J-Test: degrees of freedom is 0 \n",
       "                J-test                P-value             \n",
       "Test E(g)=0:    2.15253309246659e-24  *******             \n"
      ]
     },
     "metadata": {},
     "output_type": "display_data"
    }
   ],
   "source": [
    "z <- cbind(df$feducation, df$experience, I(df$experience^2))\n",
    "wage_GMM_IV <- gmm(log(wage) ~ education + experience + I(experience^2),\n",
    "              x = z, data = df)\n",
    "summary(wage_GMM_IV)"
   ]
  },
  {
   "cell_type": "markdown",
   "metadata": {},
   "source": [
    "As we'd expect, GMM returns the same point estimats, but different S.E.'s than 2SLS.\n",
    "\n",
    "Now let's estimate an overidentified model.  When we do this, we can do some overidentification tests (e.g. to see that our excluded instruments are exogenous).  We have one potentially endogenous regressor, education.  If we add one more instrument, we will have an over-identified model.  Let's now use mother's education in addition to father's education in the set of excluded instruments.  And let's estimate this model via 2SLS."
   ]
  },
  {
   "cell_type": "code",
   "execution_count": 22,
   "metadata": {},
   "outputs": [
    {
     "data": {
      "text/plain": [
       "\n",
       "Call:\n",
       "ivreg(formula = log(df$wage) ~ df$education + df$experience + \n",
       "    I(df$experience^2) | df$feducation + df$meducation + df$experience + \n",
       "    I(df$experience^2))\n",
       "\n",
       "Residuals:\n",
       "    Min      1Q  Median      3Q     Max \n",
       "-3.0986 -0.3196  0.0551  0.3689  2.3493 \n",
       "\n",
       "Coefficients:\n",
       "                     Estimate Std. Error t value Pr(>|t|)   \n",
       "(Intercept)         0.0481003  0.4003281   0.120  0.90442   \n",
       "df$education        0.0613966  0.0314367   1.953  0.05147 . \n",
       "df$experience       0.0441704  0.0134325   3.288  0.00109 **\n",
       "I(df$experience^2) -0.0008990  0.0004017  -2.238  0.02574 * \n",
       "\n",
       "Diagnostic tests:\n",
       "                 df1 df2 statistic p-value    \n",
       "Weak instruments   2 423    55.400  <2e-16 ***\n",
       "Wu-Hausman         1 423     2.793  0.0954 .  \n",
       "Sargan             1  NA     0.378  0.5386    \n",
       "---\n",
       "Signif. codes:  0 '***' 0.001 '**' 0.01 '*' 0.05 '.' 0.1 ' ' 1\n",
       "\n",
       "Residual standard error: 0.6747 on 424 degrees of freedom\n",
       "Multiple R-Squared: 0.1357,\tAdjusted R-squared: 0.1296 \n",
       "Wald test: 8.141 on 3 and 424 DF,  p-value: 2.787e-05 \n"
      ]
     },
     "metadata": {},
     "output_type": "display_data"
    }
   ],
   "source": [
    "# Call the ivreg() function.\n",
    "wage_IV2 <- ivreg(log(df$wage) ~ df$education + df$experience + I(df$experience^2) |\n",
    "                 df$feducation + df$meducation + df$experience + I(df$experience^2))\n",
    "\n",
    "summary(wage_IV2, diagnostics=TRUE)"
   ]
  },
  {
   "cell_type": "markdown",
   "metadata": {},
   "source": [
    "The Sargan J-Stat has a p-value of 0.5386 meaning that we can't reject the null that the excluded instruments are exogenous (at least at standard levels of significance)."
   ]
  },
  {
   "cell_type": "markdown",
   "metadata": {},
   "source": [
    "## Plotting lines of fit\n",
    "\n",
    "Let's plot the line of best fit for the OLS model against the data to see how well the model predicts the data points."
   ]
  },
  {
   "cell_type": "code",
   "execution_count": 23,
   "metadata": {},
   "outputs": [
    {
     "data": {
      "image/png": "[encoded data removed]",
      "text/plain": [
       "Plot with title \"\""
      ]
     },
     "metadata": {},
     "output_type": "display_data"
    },
    {
     "data": {
      "image/png": "[encoded data removed]",
      "text/plain": [
       "Plot with title \"\""
      ]
     },
     "metadata": {},
     "output_type": "display_data"
    },
    {
     "data": {
      "image/png": "[encoded data removed]",
      "text/plain": [
       "Plot with title \"\""
      ]
     },
     "metadata": {},
     "output_type": "display_data"
    },
    {
     "data": {
      "image/png": "[encoded data removed]",
      "text/plain": [
       "Plot with title \"\""
      ]
     },
     "metadata": {},
     "output_type": "display_data"
    }
   ],
   "source": [
    "# The output of plot() depends on the object pass to it. In the cast of \n",
    "# the lm object, we see several plots of the fit\n",
    "plot(wage_OLS)"
   ]
  },
  {
   "cell_type": "markdown",
   "metadata": {},
   "source": [
    "## Printing regression output for external use\n",
    "\n",
    "You will want to save model output you are interested in using in a paper/presentation into a format that can easily be put into nicely formated tables.  These tables may be in Excel or LaTeX or something else.  My preferred method has been to:\n",
    "1. Save output from models into text files that are linked to in an Excel workbook\n",
    "2. Have a worksheet in this workbook that reads the raw output from the models and another worksheet that formats the output for presentation (again, linking to the raw output worksheet so not manual manipulation needs to be done after this is initially set up).\n",
    "3. I then use Excel2Latex to create the TeX code that reproduces this table.\n",
    "4. The TeX code is pasted into my TeX document (usually requiring a few adjustments).\n",
    "\n",
    "This may not be the most efficient method, but Excel gives a nice view of the results without having to compile TeX or scroll through a pdf) and there often needs to be some adjustment of variables names etc. to properly size tables and the intermediate step of using Excel can be helpful here.\n",
    "\n",
    "In any case, I show how to output the model results as both TeX code and a text file (for importing into Excel) below.\n",
    "\n",
    "## LaTeX tables from model results\n",
    "\n",
    "A useful package for formatting all types of tabular objects from R into TeX is the [`xtable`](https://cran.r-project.org/web/packages/xtable/vignettes/xtableGallery.pdf) package. We'll use this to format our overidentified 2SLS model."
   ]
  },
  {
   "cell_type": "code",
   "execution_count": 51,
   "metadata": {},
   "outputs": [
    {
     "name": "stdout",
     "output_type": "stream",
     "text": [
      "\n",
      "The downloaded binary packages are in\n",
      "\t/var/folders/b0/wwxd0byd1hx0y_rqrnqhmc0m0000gn/T//Rtmp08O7gl/downloaded_packages\n"
     ]
    }
   ],
   "source": [
    "# install pacakge - if not already\n",
    "# install.packages('xtable')\n",
    "# import package\n",
    "library(xtable)"
   ]
  },
  {
   "cell_type": "code",
   "execution_count": 54,
   "metadata": {},
   "outputs": [
    {
     "name": "stdout",
     "output_type": "stream",
     "text": [
      "% latex table generated in R 3.4.1 by xtable 1.8-2 package\n",
      "% Thu Oct  5 20:44:58 2017\n",
      "\\begin{table}[ht]\n",
      "\\centering\n",
      "\\begin{tabular}{rrrrr}\n",
      "  \\hline\n",
      " & Estimate & Std. Error & t value & Pr($>$$|$t$|$) \\\\ \n",
      "  \\hline\n",
      "(Intercept) & -0.5220 & 0.1986 & -2.63 & 0.0089 \\\\ \n",
      "  df\\$education & 0.1075 & 0.0141 & 7.60 & 0.0000 \\\\ \n",
      "  df\\$experience & 0.0416 & 0.0132 & 3.15 & 0.0017 \\\\ \n",
      "  I(df\\$experience\\verb|^|2) & -0.0008 & 0.0004 & -2.06 & 0.0397 \\\\ \n",
      "   \\hline\n",
      "\\end{tabular}\n",
      "\\end{table}\n"
     ]
    }
   ],
   "source": [
    "# make TeX table of wage_IV2 model\n",
    "print(xtable(wage_OLS))"
   ]
  },
  {
   "cell_type": "markdown",
   "metadata": {},
   "source": [
    "But note that while simple, `xtable` doesn't support a number of classes.  E.g., it will not work with our `ivreg()` output (which is an object of the `ivreg` class as opposed to an the OLS output which are instances of the `lm` class.\n",
    "\n",
    "A very flexible option is the [`texreg`](https://cran.r-project.org/web/packages/texreg/vignettes/texreg.pdf) package.  Let's use this package and the `texreg()` function to print out 2SLS and GMM IV models together in a table."
   ]
  },
  {
   "cell_type": "code",
   "execution_count": 55,
   "metadata": {},
   "outputs": [
    {
     "name": "stdout",
     "output_type": "stream",
     "text": [
      "\n",
      "The downloaded binary packages are in\n",
      "\t/var/folders/b0/wwxd0byd1hx0y_rqrnqhmc0m0000gn/T//Rtmp08O7gl/downloaded_packages\n"
     ]
    },
    {
     "name": "stderr",
     "output_type": "stream",
     "text": [
      "Version:  1.36.23\n",
      "Date:     2017-03-03\n",
      "Author:   Philip Leifeld (University of Glasgow)\n",
      "\n",
      "Please cite the JSS article in your publications -- see citation(\"texreg\").\n"
     ]
    }
   ],
   "source": [
    "# install package - if not done so already\n",
    "# install.packages('texreg')\n",
    "# import texreg library\n",
    "library(\"texreg\")"
   ]
  },
  {
   "cell_type": "code",
   "execution_count": 58,
   "metadata": {},
   "outputs": [
    {
     "name": "stdout",
     "output_type": "stream",
     "text": [
      "\n",
      "\\begin{table}[hb!]\n",
      "\\begin{center}\n",
      "\\begin{tabular}{l D{.}{.}{3.4} D{.}{.}{3.5} }\n",
      "\\toprule\n",
      " & \\multicolumn{1}{c}{Model 1} & \\multicolumn{1}{c}{Model 2} \\\\\n",
      "\\midrule\n",
      "(Intercept)        & 0.05      & -0.52^{*}  \\\\\n",
      "                   & (0.40)    & (0.20)     \\\\\n",
      "df$education       & 0.06      & 0.11^{***} \\\\\n",
      "                   & (0.03)    & (0.01)     \\\\\n",
      "df$experience      & 0.04^{**} & 0.04^{**}  \\\\\n",
      "                   & (0.01)    & (0.01)     \\\\\n",
      "I(df$experience^2) & -0.00^{*} & -0.00^{*}  \\\\\n",
      "                   & (0.00)    & (0.00)     \\\\\n",
      "\\midrule\n",
      "R$^2$              & 0.14      &            \\\\\n",
      "Adj. R$^2$         & 0.13      &            \\\\\n",
      "Num. obs.          & 428       &            \\\\\n",
      "RMSE               & 0.67      &            \\\\\n",
      "Criterion function &           & 0.00       \\\\\n",
      "Num.\\ obs.         &           & 428        \\\\\n",
      "\\bottomrule\n",
      "\\multicolumn{3}{l}{\\scriptsize{$^{***}p<0.001$, $^{**}p<0.01$, $^*p<0.05$}}\n",
      "\\end{tabular}\n",
      "\\caption{Two IV models.}\n",
      "\\label{tab:3}\n",
      "\\end{center}\n",
      "\\end{table}\n"
     ]
    }
   ],
   "source": [
    "# put models into a LaTeX table\n",
    "print(texreg(list(wage_IV, wage_GMM), dcolumn = TRUE, booktabs = TRUE,\n",
    "       use.packages = FALSE, label = \"tab:3\", caption = \"Two IV models.\",\n",
    "       float.pos = \"hb!\"))\n",
    "# To save to file have keyword argument `file=\"path/filename.txt\"`"
   ]
  },
  {
   "cell_type": "markdown",
   "metadata": {},
   "source": [
    "There are many formatting options and you can even rename the coefficients in the function call.  E.g.,"
   ]
  },
  {
   "cell_type": "code",
   "execution_count": 84,
   "metadata": {},
   "outputs": [
    {
     "name": "stdout",
     "output_type": "stream",
     "text": [
      "\n",
      "\\begin{table}[hb!]\n",
      "\\begin{center}\n",
      "\\begin{tabular}{l D{.}{.}{3.4} D{.}{.}{3.5} }\n",
      "\\toprule\n",
      " & \\multicolumn{1}{c}{2SLS} & \\multicolumn{1}{c}{GMM} \\\\\n",
      "\\midrule\n",
      "Intercept          & 0.05      & -0.52^{*}  \\\\\n",
      "                   & (0.40)    & (0.20)     \\\\\n",
      "Education          & 0.06      & 0.11^{***} \\\\\n",
      "                   & (0.03)    & (0.01)     \\\\\n",
      "Experience         & 0.04^{**} & 0.04^{**}  \\\\\n",
      "                   & (0.01)    & (0.01)     \\\\\n",
      "$Experience^{2}$   & -0.00^{*} & -0.00^{*}  \\\\\n",
      "                   & (0.00)    & (0.00)     \\\\\n",
      "\\midrule\n",
      "R$^2$              & 0.14      &            \\\\\n",
      "Adj. R$^2$         & 0.13      &            \\\\\n",
      "Num. obs.          & 428       &            \\\\\n",
      "RMSE               & 0.67      &            \\\\\n",
      "Criterion function &           & 0.00       \\\\\n",
      "Num.\\ obs.         &           & 428        \\\\\n",
      "\\bottomrule\n",
      "\\multicolumn{3}{l}{\\scriptsize{$^{***}p<0.001$, $^{**}p<0.01$, $^*p<0.05$}}\n",
      "\\end{tabular}\n",
      "\\caption{Two IV models}\n",
      "\\label{tab:3}\n",
      "\\end{center}\n",
      "\\end{table}\n"
     ]
    }
   ],
   "source": [
    "# put models into a LaTeX table\n",
    "print(texreg(list(wage_IV, wage_GMM), dcolumn = TRUE, booktabs = TRUE,\n",
    "       use.packages = FALSE, custom.model.names = c('2SLS', 'GMM'),\n",
    "       custom.coef.names = c('Intercept', 'Education', 'Experience', '$Experience^{2}$'),\n",
    "       label = \"tab:3\", caption = \"Two IV models\",\n",
    "       float.pos = \"hb!\"))\n",
    "# To save to file have keyword argument `file=\"path/filename.txt\"`"
   ]
  },
  {
   "cell_type": "markdown",
   "metadata": {},
   "source": [
    "### Model output to text files\n",
    "\n",
    "Another useful package for formatting output is [`stargazer`](https://cran.r-project.org/web/packages/stargazer/vignettes/stargazer.pdf).  As with `xtable` and `texreg` above, this can produce TeX tables, but it can also produce ASCII files that can be read into Excel (or other programs).  It is a very flexible package.  "
   ]
  },
  {
   "cell_type": "code",
   "execution_count": 72,
   "metadata": {},
   "outputs": [
    {
     "name": "stderr",
     "output_type": "stream",
     "text": [
      "\n",
      "Please cite as: \n",
      "\n",
      " Hlavac, Marek (2015). stargazer: Well-Formatted Regression and Summary Statistics Tables.\n",
      " R package version 5.2. http://CRAN.R-project.org/package=stargazer \n",
      "\n"
     ]
    }
   ],
   "source": [
    "# Install package if not already installed\n",
    "# install.packages('stargazer')\n",
    "# Import package\n",
    "library(stargazer)"
   ]
  },
  {
   "cell_type": "code",
   "execution_count": 86,
   "metadata": {},
   "outputs": [
    {
     "name": "stdout",
     "output_type": "stream",
     "text": [
      "\n",
      "2 IV Models\n",
      "================================================\n",
      "                       instrumental       GMM   \n",
      "                         variable               \n",
      "                           2SLS           GMM   \n",
      "                           (1)            (2)   \n",
      "------------------------------------------------\n",
      "Intercept                 0.061*       0.107*** \n",
      "                         (0.031)        (0.014) \n",
      "Education                0.044***      0.042*** \n",
      "                         (0.013)        (0.014) \n",
      "Experience               -0.001**      -0.001** \n",
      "                         (0.0004)      (0.0004) \n",
      "Experience2               0.048        -0.522** \n",
      "                         (0.400)        (0.204) \n",
      "------------------------------------------------\n",
      "Observations               428            428   \n",
      "R2                        0.136                 \n",
      "Adjusted R2               0.130                 \n",
      "Residual Std. Error  0.675 (df = 424)           \n",
      "================================================\n",
      "Note:                *p<0.1; **p<0.05; ***p<0.01\n",
      " [1] \"\"                                                \n",
      " [2] \"2 IV Models\"                                     \n",
      " [3] \"================================================\"\n",
      " [4] \"                       instrumental       GMM   \"\n",
      " [5] \"                         variable               \"\n",
      " [6] \"                           2SLS           GMM   \"\n",
      " [7] \"                           (1)            (2)   \"\n",
      " [8] \"------------------------------------------------\"\n",
      " [9] \"Intercept                 0.061*       0.107*** \"\n",
      "[10] \"                         (0.031)        (0.014) \"\n",
      "[11] \"Education                0.044***      0.042*** \"\n",
      "[12] \"                         (0.013)        (0.014) \"\n",
      "[13] \"Experience               -0.001**      -0.001** \"\n",
      "[14] \"                         (0.0004)      (0.0004) \"\n",
      "[15] \"Experience2               0.048        -0.522** \"\n",
      "[16] \"                         (0.400)        (0.204) \"\n",
      "[17] \"------------------------------------------------\"\n",
      "[18] \"Observations               428            428   \"\n",
      "[19] \"R2                        0.136                 \"\n",
      "[20] \"Adjusted R2               0.130                 \"\n",
      "[21] \"Residual Std. Error  0.675 (df = 424)           \"\n",
      "[22] \"================================================\"\n",
      "[23] \"Note:                *p<0.1; **p<0.05; ***p<0.01\"\n"
     ]
    }
   ],
   "source": [
    "# Use stargazer to produce ascii output\n",
    "# type=\"text\" sets to ascii (default is LaTeX)\n",
    "print(stargazer(wage_IV, wage_GMM, title=\"2 IV Models\",\n",
    "      align=TRUE, type=\"text\", column.labels=c(\"2SLS\",\"GMM\"),\n",
    "      dep.var.caption=\"\", dep.var.labels=\"\", dep.var.labels.include=FALSE,\n",
    "      covariate.labels=c('Intercept', 'Education', 'Experience', '$Experience^{2}$'),\n",
    "      no.space=TRUE))\n",
    "# to save to file just have keyworkd argument `out=\"path.filename.txt\"`"
   ]
  },
  {
   "cell_type": "markdown",
   "metadata": {},
   "source": [
    "# References\n",
    "Christian Kleiber and Achim Zeileis (2008), *Applied Econometrics with R*, Springer-Verlag, New York.\n",
    "ISBN 978-0-387-77316-2."
   ]
  },
  {
   "cell_type": "code",
   "execution_count": null,
   "metadata": {
    "collapsed": true
   },
   "outputs": [],
   "source": []
  }
 ],
 "metadata": {
  "kernelspec": {
   "display_name": "R",
   "language": "R",
   "name": "ir"
  },
  "language_info": {
   "codemirror_mode": "r",
   "file_extension": ".r",
   "mimetype": "text/x-r-source",
   "name": "R",
   "pygments_lexer": "r",
   "version": "3.4.2"
  }
 },
 "nbformat": 4,
 "nbformat_minor": 2
}
